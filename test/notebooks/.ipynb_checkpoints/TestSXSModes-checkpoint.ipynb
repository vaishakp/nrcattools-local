{
 "cells": [
  {
   "cell_type": "markdown",
   "id": "2797cf6f",
   "metadata": {},
   "source": [
    "# Testing SXS catalogue load\n",
    "\n",
    "Objectives:\n",
    "\n",
    "1. Test SXS simulation waveform loaded through nrc-catalogue-tools."
   ]
  },
  {
   "cell_type": "markdown",
   "id": "5d37f111",
   "metadata": {},
   "source": [
    "## Load the library"
   ]
  },
  {
   "cell_type": "code",
   "execution_count": 1,
   "id": "aaa85340",
   "metadata": {},
   "outputs": [
    {
     "name": "stdout",
     "output_type": "stream",
     "text": [
      "['/home/vaishakprasad/Documents/Codes/nrcattools-local/test/notebooks', '/home/vaishakprasad/Documents/Codes/config', '/home/vaishakprasad/Documents/Codes/waveformtools', '/home/vaishakprasad/Documents/Codes/qlmtools', '/home/vaishakprasad/Documents/Codes/nrcattools-local/test/notebooks', '/home/vaishakprasad/soft/anaconda3/envs/nrcat/lib/python310.zip', '/home/vaishakprasad/soft/anaconda3/envs/nrcat/lib/python3.10', '/home/vaishakprasad/soft/anaconda3/envs/nrcat/lib/python3.10/lib-dynload', '', '/home/vaishakprasad/soft/anaconda3/envs/nrcat/lib/python3.10/site-packages', '/home/vaishakprasad/Documents/Codes/nr-catalog-tools-vp']\n"
     ]
    }
   ],
   "source": [
    "import sys\n",
    "\n",
    "#p1 = \"/home/vaishakp/Codes/custom_libraries/nr-catalog-tools\"\n",
    "#libpath = '/mnt/pfs/vaishak.p/Projects/Codes/custom_libraries/nr-catalog-tools'\n",
    "libpath = '/home/vaishakprasad/Documents/Codes/nr-catalog-tools-vp'\n",
    "\n",
    "if libpath not in sys.path:\n",
    "    sys.path.append(libpath)\n",
    "\n",
    "print(sys.path)"
   ]
  },
  {
   "cell_type": "markdown",
   "id": "9e1a5b35",
   "metadata": {},
   "source": [
    "## Display the environment"
   ]
  },
  {
   "cell_type": "code",
   "execution_count": 2,
   "id": "b9e6428e",
   "metadata": {},
   "outputs": [
    {
     "name": "stdout",
     "output_type": "stream",
     "text": [
      "Python 3.10.11\n",
      "nrcat                 *  /home/vaishakprasad/soft/anaconda3/envs/nrcat\n"
     ]
    }
   ],
   "source": [
    "%%bash\n",
    "python --version\n",
    "conda info --envs | grep '*'"
   ]
  },
  {
   "cell_type": "markdown",
   "id": "38c94f33",
   "metadata": {},
   "source": [
    "# Method I : through nr-catalogue-tools"
   ]
  },
  {
   "cell_type": "code",
   "execution_count": 3,
   "id": "0323c393",
   "metadata": {},
   "outputs": [
    {
     "name": "stdout",
     "output_type": "stream",
     "text": [
      "No version information file '.version' found\n",
      "/home/vaishakprasad/Documents/Codes/waveformtools/waveformtools\n"
     ]
    }
   ],
   "source": [
    "import nrcatalogtools\n",
    "import nrcatalogtools.lvc as lalutils\n",
    "#from nrcatalogtools.lvc import get_lal_mode_dictionary_from_lmax\n",
    "#from nrcatalogtools.rit import RITCatalog\n",
    "from nrcatalogtools import utils\n",
    "from nrcatalogtools.waveform import WaveformModes\n",
    "import sxs\n",
    "\n",
    "import numpy as np\n",
    "from nrcatalogtools.sxs import SXSCatalog\n",
    "import matplotlib.pyplot as plt\n",
    "\n",
    "\n",
    "import numpy as np\n",
    "import waveformtools\n",
    "import matplotlib.pyplot as plt\n",
    "\n",
    "from waveformtools.waveforms import modes_array\n",
    "from waveformtools.waveformtools import interp_resam_wfs, xtract_camp_phase\n",
    "\n",
    "from pycbc.types.timeseries import TimeSeries\n",
    "from pycbc.filter.matchedfilter import match\n",
    "from pycbc.waveform.utils import coalign_waveforms"
   ]
  },
  {
   "cell_type": "markdown",
   "id": "26167e32",
   "metadata": {},
   "source": [
    "#####################\n",
    "# matplotlib presets\n",
    "#########################################\n",
    "\n",
    "labelsize=16\n",
    "labelpad=14\n",
    "\n",
    "plt.rcParams.update({'font.size': 12})\n",
    "plt.rcParams.update({\"figure.figsize\" : (8,6)})\n",
    "plt.rcParams.update({\"axes.grid\" : True})\n",
    "plt.rcParams.update({\"axes.labelpad\" : labelpad})\n",
    "plt.rcParams.update({\"axes.labelsize\" : labelsize})\n",
    "plt.rcParams.update({\"figure.autolayout\" : True})\n",
    "plt.rcParams.update({\"grid.alpha\" : 0.3})\n",
    "plt.rcParams.update({\"grid.alpha\" : 0.3})\n",
    "plt.rcParams.update({'legend.markerscale': 12})"
   ]
  },
  {
   "cell_type": "code",
   "execution_count": 104,
   "id": "06428283",
   "metadata": {},
   "outputs": [
    {
     "data": {
      "text/plain": [
       "6"
      ]
     },
     "execution_count": 104,
     "metadata": {},
     "output_type": "execute_result"
    }
   ],
   "source": [
    "np.size(np.zeros([3, 2]))"
   ]
  },
  {
   "cell_type": "code",
   "execution_count": 4,
   "id": "759806dc",
   "metadata": {},
   "outputs": [],
   "source": [
    "def RMSerrs(func1, func2):\n",
    "    ''' Compute and return the error estimates between two arrays\n",
    "    \n",
    "    Parameters\n",
    "    ----------\n",
    "    func1, func2 : ndarray\n",
    "                   Arrays of same shape to compare with.\n",
    "    info : sphericalarray\n",
    "           Grid info\n",
    "    \n",
    "    Returns\n",
    "    -------\n",
    "    RMS : float\n",
    "          The RMS error\n",
    "    Amax : float\n",
    "           The max diff relative to A1max\n",
    "    Amin : float the min diff relative to A2max\n",
    "    '''\n",
    "    A1max = np.amax(np.absolute(func1))\n",
    "\n",
    "    diff = (func1 - func2)\n",
    "\n",
    "    Amax = np.amax(diff)/A1max\n",
    "    Amin = np.amin(diff)/A1max\n",
    "\n",
    "    RMS = np.sqrt(np.sum(np.absolute(diff)**2)/len(func1))/A1max\n",
    "\n",
    "    return RMS, Amin, Amax"
   ]
  },
  {
   "cell_type": "markdown",
   "id": "5afa2cea",
   "metadata": {},
   "source": [
    "### SXS cat details"
   ]
  },
  {
   "cell_type": "code",
   "execution_count": 4,
   "id": "7aedb792",
   "metadata": {},
   "outputs": [
    {
     "data": {
      "text/plain": [
       "PosixPath('/home/vaishakprasad/.cache/sxs')"
      ]
     },
     "execution_count": 4,
     "metadata": {},
     "output_type": "execute_result"
    }
   ],
   "source": [
    "# View SXS cache\n",
    "sxsdir = sxs.sxs_directory(\"cache\")\n",
    "sxsdir"
   ]
  },
  {
   "cell_type": "code",
   "execution_count": 5,
   "id": "5b3fbb13",
   "metadata": {},
   "outputs": [],
   "source": [
    "# Simulation name\n",
    "sim_name = 'SXS:BBH:0001'\n",
    "\n",
    "# Parameters\n",
    "#M = 40\n",
    "#D = 1000\n",
    "#inc = 0\n",
    "#coa_phase = np.pi/4\n",
    "#delta_t = 1./(4*2048)"
   ]
  },
  {
   "cell_type": "markdown",
   "id": "ed0656c3",
   "metadata": {},
   "source": [
    "# Convention\n",
    "\n",
    "hp1, hx1, h1... : nrcat waveforms\n",
    "\n",
    "wfa1, hp2, hx2, ... : waveformtools waveforms"
   ]
  },
  {
   "cell_type": "markdown",
   "id": "c330ba99",
   "metadata": {},
   "source": [
    "## Load waveform"
   ]
  },
  {
   "cell_type": "markdown",
   "id": "b862b0d3",
   "metadata": {},
   "source": [
    "Found the following files to load from the SXS catalog:\n",
    "    SXS:BBH:0001v6/Lev5/rhOverM_Asymptotic_GeometricUnits_CoM.h5\n",
    "Downloading to /home/vaishakprasad/.cache/sxs/SXS:BBH:0001v3/Lev5/rhOverM_Asymptotic_GeometricUnits_CoM.h5:\n",
    "\n"
   ]
  },
  {
   "cell_type": "code",
   "execution_count": 7,
   "id": "1acdef03",
   "metadata": {},
   "outputs": [
    {
     "name": "stdout",
     "output_type": "stream",
     "text": [
      "Skipping download from 'https://data.black-holes.org/catalog.json' because local file is newer\n"
     ]
    }
   ],
   "source": [
    "sxs1 = SXSCatalog.load(download=True)\n",
    "sxsw = sxs1.get(sim_name, extrapolation_order=2)"
   ]
  },
  {
   "cell_type": "code",
   "execution_count": 68,
   "id": "2a64b1e6",
   "metadata": {},
   "outputs": [],
   "source": [
    "def GetModesToCompare(ell, emm):\n",
    "    ''' Get modes time-series to compare from\n",
    "    two different methods.\n",
    "    \n",
    "    Parameters\n",
    "    ----------\n",
    "    ell, emm : int\n",
    "                Mode numbers\n",
    "    \n",
    "    Returns\n",
    "    -------\n",
    "    waveforms : dict\n",
    "                The waveform polarizations\n",
    "    '''\n",
    "    \n",
    "    ####################\n",
    "    # Prepare modes\n",
    "    ####################\n",
    "\n",
    "    errs = {}\n",
    "\n",
    "    aerrs = []\n",
    "    perrs = []\n",
    "\n",
    "    \n",
    "\n",
    "    wf1_tlm = sxsw.get_mode(ell, emm)[:, 0] - mtime\n",
    "\n",
    "    if not (wf1_tlm-taxis1==0).all():\n",
    "\n",
    "        print(wf1_tlm - taxis1)\n",
    "        raise ValueError('Time axis is different across modes!')\n",
    "\n",
    "    # nrcat   \n",
    "    wf1_plm = sxsw.get_mode(ell, emm)[:, 1]\n",
    "    wf1_xlm = sxsw.get_mode(ell, emm)[:, 2]\n",
    "\n",
    "    wf1_lm = wf1_plm + 1j * wf1_xlm\n",
    "    wf2_lm = wf2.mode(ell, emm)\n",
    "\n",
    "    # Interpolate in amp, phase\n",
    "    wf1_Alm, wf1_Plm = xtract_camp_phase(wf1_lm.real, wf1_lm.imag)\n",
    "    wf2_Alm, wf2_Plm = xtract_camp_phase(wf2_lm.real, wf2_lm.imag)\n",
    "\n",
    "    wf1_rAlm = interp_resam_wfs(wf1_Alm, taxis1, taxis, resam_kind='cubic')\n",
    "    wf2_rAlm = interp_resam_wfs(wf2_Alm, taxis2, taxis, resam_kind='cubic')\n",
    "\n",
    "    wf1_rPlm = interp_resam_wfs(wf1_Plm, taxis1, taxis, resam_kind='cubic')\n",
    "    wf2_rPlm = interp_resam_wfs(wf2_Plm, taxis2, taxis, resam_kind='cubic')\n",
    "\n",
    "    # Get max locs\n",
    "    #maxloc1 = np.argmax(wf1_rAlm)\n",
    "    #maxloc2 = np.argmax(wf2_rAlm)\n",
    "\n",
    "    #if maxloc1!=maxloc2:\n",
    "        #print('Time axes are not centered! Recentering...')\n",
    "        #from waveformtools.waveformtools import roll\n",
    "        #wf1_rAlm = roll(wf1_rAlm, maxloc2-maxloc1)\n",
    "        #wf1_rPlm = roll(wf1_rPlm, maxloc2-maxloc1)\n",
    "        #raise ValueError('Time axes are not centered!')\n",
    "\n",
    "    # Ensure increasing phase\n",
    "    if np.mean(np.diff(wf1_rPlm))<0:\n",
    "        wf1_rPlm = -wf1_rPlm\n",
    "\n",
    "    if np.mean(np.diff(wf2_rPlm))<0:\n",
    "        wf2_rPlm = -wf2_rPlm\n",
    "\n",
    "    # return the waveforms\n",
    "    wf1_rlm = wf1_rAlm*np.exp(1j*wf1_rPlm)\n",
    "    wf2_rlm = wf2_rAlm*np.exp(1j*wf2_rPlm)\n",
    "\n",
    "    wf1_rlm = wf1_rlm/np.linalg.norm(wf1_rlm)\n",
    "    wf2_rlm = wf2_rlm/np.linalg.norm(wf2_rlm)\n",
    "    \n",
    "    wf1_rlm_p = TimeSeries(wf1_rlm.real, delta_t=delta_t)\n",
    "    wf1_rlm_x = TimeSeries(wf1_rlm.imag, delta_t=delta_t)\n",
    "    wf2_rlm_p = TimeSeries(wf2_rlm.real, delta_t=delta_t)\n",
    "    wf2_rlm_x = TimeSeries(wf2_rlm.imag, delta_t=delta_t)\n",
    "\n",
    "    #dphase = wf1_rPlm - wf2_rPlm\n",
    "\n",
    "    \n",
    "\n",
    "    #aerrs.append(res_amp)\n",
    "    #perrs.append(res_phase)\n",
    "\n",
    "    #errs.update({f'l{ell}m{emm}' : [res_amp, res_phase]})\n",
    "\n",
    "    fig, ax = plt.subplots()\n",
    "    #ax.set_yscale('log')\n",
    "\n",
    "    ax.plot(taxis, wf1_rlm_p, label='nrcat')\n",
    "    ax.plot(taxis, wf2_rlm_p, label='wftools', linestyle='--')\n",
    "    ax.set_title(f'waveforms l{ell}m{emm}')\n",
    "    plt.grid()\n",
    "    plt.show()\n",
    "\n",
    "    \n",
    "    \n",
    "    #fig, ax = plt.subplots()\n",
    "    #ax.set_yscale('log')\n",
    "\n",
    "    #ax.plot(taxis, np.absolute(dAmp_frac))\n",
    "    #ax.set_title(f'Amp diff l{ell}m{emm}')\n",
    "    #plt.grid()\n",
    "    #plt.show()\n",
    "\n",
    "    #fig, ax = plt.subplots()\n",
    "    #ax.set_yscale('log')\n",
    "    #ax.plot(taxis, np.absolute(dphase))\n",
    "    #ax.set_title(f'Phase diff l{ell}m{emm}')\n",
    "    #plt.grid()\n",
    "    #plt.show()\n",
    "\n",
    "    waveforms = {'wf1p' : wf1_rlm_p, 'wf1x' : wf1_rlm_x, 'wf2p' : wf2_rlm_p, 'wf2x' : wf2_rlm_x}\n",
    "\n",
    "    return waveforms"
   ]
  },
  {
   "cell_type": "code",
   "execution_count": 66,
   "id": "b94ae9c1",
   "metadata": {},
   "outputs": [
    {
     "name": "stdout",
     "output_type": "stream",
     "text": [
      "Finding Amax\n",
      "Amax found at 9530.158102988273\n",
      "Passing /home/vaishakprasad/.cache/sxs/SXS:BBH:0001v3/Lev5/ rhOverM_Asymptotic_GeometricUnits_CoM.h5\n",
      "Chosen ell max 8 Available ell_max 8\n",
      "Using extrap order 2\n",
      "Constructing the modes list\n",
      "Creating modes data\n",
      "Min dt 0.05718379830432241 and Max dt 0.5000603551985208\n",
      "Resampling at the default timestep 0.4999991653913156\n",
      "Chosen resampling fineness: auto\n"
     ]
    },
    {
     "name": "stderr",
     "output_type": "stream",
     "text": [
      "/home/vaishakprasad/Documents/Codes/waveformtools/waveformtools/dataIO.py:1007: FutureWarning: Unlike other reduction functions (e.g. `skew`, `kurtosis`), the default behavior of `mode` typically preserves the axis it acts along. In SciPy 1.11.0, this behavior will change: the default value of `keepdims` will become False, the `axis` over which the statistic is taken will be eliminated, and the value None will no longer be accepted. Set `keepdims` to True or False to avoid this warning.\n",
      "  dt_auto = mode(np.diff(time_axis))[0][0]\n"
     ]
    }
   ],
   "source": [
    "######################################\n",
    "# Load thru nrcat tools\n",
    "######################################\n",
    "\n",
    "wf1_t22 = sxsw.get_mode(2, 2)[:, 0]\n",
    "wf1_p22 = sxsw.get_mode(2, 2)[:, 1]\n",
    "wf1_x22 = sxsw.get_mode(2, 2)[:, 2]\n",
    "\n",
    "wf1_22 = wf1_p22 + 1j*wf1_x22\n",
    "\n",
    "# Find the maxloc\n",
    "print('Finding Amax')\n",
    "tfine = np.arange(wf1_t22[0], wf1_t22[-1], 0.001)\n",
    "\n",
    "wf1_f22 = interp_resam_wfs(wf1_22, wf1_t22, tfine, resam_kind='cubic')\n",
    "\n",
    "# Recenter the axis of td waveform about max amp\n",
    "mloc = np.argmax(np.absolute(wf1_f22))\n",
    "mtime = tfine[mloc]\n",
    "print('Amax found at', mtime)\n",
    "\n",
    "\n",
    "\n",
    "#############################\n",
    "# Load via waveformtools\n",
    "##############################\n",
    "\n",
    "fdir = \"/home/vaishakprasad/.cache/sxs/SXS:BBH:0001v3/Lev5/\"\n",
    "fname = 'rhOverM_Asymptotic_GeometricUnits_CoM.h5'\n",
    "\n",
    "\n",
    "\n",
    "wf2 = modes_array(label='sxs_001', spin_weight=-2)\n",
    "wf2.file_name = fname\n",
    "wf2.data_dir = fdir\n",
    "_, wf2nl = wf2.load_modes(ftype='SpEC', var_type='strain', ell_max='auto', resam_type='auto', extrap_order=2, debug=True)\n",
    "wf2.get_metadata()\n",
    "\n",
    "wf2_22 = wf2.mode(2, 2)\n",
    "\n",
    "##############################\n",
    "# Construct common time axis\n",
    "##############################\n",
    "\n",
    "\n",
    "taxis1 = wf1_t22 - mtime\n",
    "taxis2 = wf2.time_axis\n",
    "\n",
    "t1 = max(taxis1[0], taxis2[0])\n",
    "t2 = min(taxis1[-1], taxis2[-1])\n",
    "\n",
    "taxis = np.arange(t1, t2, wf2.delta_t())\n",
    "#ell_max = 2 #wf2.ell_max\n",
    "delta_t = wf2.delta_t()\n",
    "######################################################"
   ]
  },
  {
   "cell_type": "markdown",
   "id": "f33a3755",
   "metadata": {},
   "source": [
    "# Compare interpolated modes"
   ]
  },
  {
   "cell_type": "code",
   "execution_count": 102,
   "id": "cc91f300",
   "metadata": {},
   "outputs": [
    {
     "name": "stderr",
     "output_type": "stream",
     "text": [
      "test_modes (__main__.TestSXS)\n",
      "Test the SXS loading of waveforms against ... "
     ]
    },
    {
     "name": "stdout",
     "output_type": "stream",
     "text": [
      "--------------------------\n",
      "Mode l2m2\n",
      "--------------------------\n"
     ]
    },
    {
     "data": {
      "image/png": "[encoded data removed]",
      "text/plain": [
       "<Figure size 432x288 with 1 Axes>"
      ]
     },
     "metadata": {
      "needs_background": "light"
     },
     "output_type": "display_data"
    },
    {
     "name": "stdout",
     "output_type": "stream",
     "text": [
      "Mismatch is 0.0010368191633691737\n",
      "--------------------------\n",
      "Mode l3m3\n",
      "--------------------------\n"
     ]
    },
    {
     "data": {
      "image/png": "[encoded data removed]",
      "text/plain": [
       "<Figure size 432x288 with 1 Axes>"
      ]
     },
     "metadata": {
      "needs_background": "light"
     },
     "output_type": "display_data"
    },
    {
     "name": "stdout",
     "output_type": "stream",
     "text": [
      "Mismatch is 0.019182561471964288\n",
      "--------------------------\n",
      "Mode l4m2\n",
      "--------------------------\n"
     ]
    },
    {
     "data": {
      "image/png": "[encoded data removed]",
      "text/plain": [
       "<Figure size 432x288 with 1 Axes>"
      ]
     },
     "metadata": {
      "needs_background": "light"
     },
     "output_type": "display_data"
    },
    {
     "name": "stderr",
     "output_type": "stream",
     "text": [
      "ok\n",
      "\n",
      "----------------------------------------------------------------------\n",
      "Ran 1 test in 1.738s\n",
      "\n",
      "OK\n"
     ]
    },
    {
     "name": "stdout",
     "output_type": "stream",
     "text": [
      "Mismatch is 0.035030921561518547\n"
     ]
    }
   ],
   "source": [
    "import unittest\n",
    "\n",
    "\n",
    "class TestSXS(unittest.TestCase):\n",
    "    ''' Test loading of SXS waveforms '''\n",
    "    \n",
    "    def test_modes(self):\n",
    "        ''' Test the SXS loading of waveforms against \n",
    "        that loading using waveformtools. Tested are RMS errors, maximum deviation and mismatches'''\n",
    "        \n",
    "        modes = [(2, 2), (3, 3), (4, 2)]\n",
    "        #modes = [(2, 2)]\n",
    "        \n",
    "        \n",
    "        for item in modes:\n",
    "            ell, emm = item\n",
    "            \n",
    "            print('--------------------------')\n",
    "            print(f'Mode l{ell}m{emm}')\n",
    "            print('--------------------------')\n",
    "            \n",
    "            waveforms = GetModesToCompare(ell, emm)\n",
    "            \n",
    "            wf1_p = waveforms['wf1p']\n",
    "            wf1_x = waveforms['wf1x']\n",
    "            wf2_p = waveforms['wf2p']\n",
    "            wf2_x = waveforms['wf2x']\n",
    "            \n",
    "            wf1_nrcat = wf1_p + 1j*wf1_x\n",
    "            wf2_wftools = wf2_p + 1j*wf2_x\n",
    "            \n",
    "            \n",
    "            # L2 errors\n",
    "            Res_p, Amin_p, Amax_p = RMSerrs(np.array(wf1_p), np.array(wf2_p))\n",
    "            Res_x, Amin_x, Amax_x = RMSerrs(np.array(wf1_x), np.array(wf2_x))\n",
    "\n",
    "            #Amin_p/=A1max\n",
    "            #Amin\n",
    "            # Match\n",
    "            match_p, shift_p = match(wf1_p, wf2_p)\n",
    "            match_x, shift_x = match(wf1_x, wf2_x)\n",
    "\n",
    "            mismatch_p = 100*(1-match_p)\n",
    "            mismatch_x = 100*(1-match_x)\n",
    "\n",
    "            max_mismatch = max(mismatch_p, mismatch_x)\n",
    "\n",
    "            print(f'Mismatch is {max_mismatch}')\n",
    "\n",
    "            prec = 2\n",
    "            # RMS error should be less than 0.01 x Amax(wf1)\n",
    "            self.assertAlmostEqual(Res_p, 0, prec, f\"The RMS error between the + components of the waveforms must be atmost 1e-{prec} times Max amplitude of the normalized waveform\")\n",
    "            self.assertAlmostEqual(Res_x, 0, prec, f\"The RMS error between the x components of the waveforms must be almost 1e-{prec} times Max amplitude of the normalized waveform\")\n",
    "\n",
    "            prec = 0\n",
    "            # Max relative point-wise deviation w.r.t Amax(wf1) should be less than 1 (100)%\n",
    "            self.assertAlmostEqual(np.absolute(Amin_p), 0, prec, f\"The maximum lower deviation between the + components of the waveforms must be almost 1e-{prec}%\")\n",
    "            self.assertAlmostEqual(np.absolute(Amax_x), 0, prec, f\"The maximum upper deviation between the x components of the waveforms must be almost 1e-{prec}%\")\n",
    "\n",
    "            self.assertAlmostEqual(np.absolute(Amax_p), 0, prec, f\"The maximum upper deviation between the + components of the waveforms must be almost 1e-{prec}\")\n",
    "            self.assertAlmostEqual(np.absolute(Amax_x), 0, prec, f\"The maximum upper deviation between the x components of the waveforms must be almost 1e-{prec}\")\n",
    "\n",
    "            prec = 1\n",
    "            # Mismatch should be less than 1e-3 or 1e-1 %\n",
    "            self.assertAlmostEqual(mismatch_p, 0, prec, f'The mismatch between the + components of the waveforms must be atmost 1e-{prec}%')\n",
    "            self.assertAlmostEqual(mismatch_x, 0, prec, f\"The mismatch between the x components of the waveforms must be atmost 1e-{prec}%\")\n",
    "\n",
    "            #print(wf1_nrcat)\n",
    "            prec = 2\n",
    "            # Full arrays must agree pointwiswe\n",
    "            np.testing.assert_almost_equal(np.array(wf1_nrcat), np.array(wf2_wftools), prec, f'The arrays must equal atleast upto {prec} decimals')\n",
    "\n",
    "    if __name__ == '__main__':\n",
    "        unittest.main(argv=['first-arg-is-ignored'], exit=False, verbosity=3)"
   ]
  },
  {
   "cell_type": "code",
   "execution_count": null,
   "id": "70fbe05f",
   "metadata": {},
   "outputs": [],
   "source": []
  }
 ],
 "metadata": {
  "kernelspec": {
   "display_name": "Python 3",
   "language": "python",
   "name": "python3"
  },
  "language_info": {
   "codemirror_mode": {
    "name": "ipython",
    "version": 3
   },
   "file_extension": ".py",
   "mimetype": "text/x-python",
   "name": "python",
   "nbconvert_exporter": "python",
   "pygments_lexer": "ipython3",
   "version": "3.10.11"
  }
 },
 "nbformat": 4,
 "nbformat_minor": 5
}
