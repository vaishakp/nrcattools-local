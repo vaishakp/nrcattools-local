{
 "cells": [
  {
   "cell_type": "markdown",
   "id": "542d61b3",
   "metadata": {},
   "source": [
    "# Testing GT catalogue load\n",
    "\n",
    "Objectives:\n",
    "    1. Test GT simulation waveform loaded through nrc-catalogue-tools."
   ]
  },
  {
   "cell_type": "markdown",
   "id": "0ecaa011",
   "metadata": {},
   "source": [
    "## Load the library"
   ]
  },
  {
   "cell_type": "code",
   "execution_count": 1,
   "id": "cc0e8903",
   "metadata": {},
   "outputs": [
    {
     "name": "stdout",
     "output_type": "stream",
     "text": [
      "['/home/vaishakprasad/Documents/Codes/nrcattools-local/test/notebooks', '/home/vaishakprasad/Documents/Codes/config', '/home/vaishakprasad/Documents/Codes/waveformtools', '/home/vaishakprasad/Documents/Codes/qlmtools', '/home/vaishakprasad/Documents/Codes/nrcattools-local/test/notebooks', '/home/vaishakprasad/soft/anaconda3/envs/nrcat/lib/python310.zip', '/home/vaishakprasad/soft/anaconda3/envs/nrcat/lib/python3.10', '/home/vaishakprasad/soft/anaconda3/envs/nrcat/lib/python3.10/lib-dynload', '', '/home/vaishakprasad/soft/anaconda3/envs/nrcat/lib/python3.10/site-packages', '/home/vaishakprasad/Documents/Codes/nr-catalog-tools-vp']\n"
     ]
    }
   ],
   "source": [
    "import sys\n",
    "\n",
    "#p1 = \"/home/vaishakp/Codes/custom_libraries/nr-catalog-tools\"\n",
    "#libpath = '/mnt/pfs/vaishak.p/Projects/Codes/custom_libraries/nr-catalog-tools'\n",
    "libpath = '/home/vaishakprasad/Documents/Codes/nr-catalog-tools-vp'\n",
    "\n",
    "if libpath not in sys.path:\n",
    "    sys.path.append(libpath)\n",
    "\n",
    "print(sys.path)"
   ]
  },
  {
   "cell_type": "markdown",
   "id": "3f0351df",
   "metadata": {},
   "source": [
    "## Display the environment"
   ]
  },
  {
   "cell_type": "code",
   "execution_count": 2,
   "id": "86ac7734",
   "metadata": {},
   "outputs": [
    {
     "name": "stdout",
     "output_type": "stream",
     "text": [
      "Python 3.10.11\n",
      "nrcat                 *  /home/vaishakprasad/soft/anaconda3/envs/nrcat\n"
     ]
    }
   ],
   "source": [
    "%%bash\n",
    "python --version\n",
    "conda info --envs | grep '*'"
   ]
  },
  {
   "cell_type": "markdown",
   "id": "4b859848",
   "metadata": {},
   "source": [
    "# Method I : through nr-catalogue-tools"
   ]
  },
  {
   "cell_type": "code",
   "execution_count": 3,
   "id": "5c6c0e7c",
   "metadata": {},
   "outputs": [
    {
     "name": "stdout",
     "output_type": "stream",
     "text": [
      "No version information file '.version' found\n"
     ]
    }
   ],
   "source": [
    "import nrcatalogtools"
   ]
  },
  {
   "cell_type": "code",
   "execution_count": 4,
   "id": "daa4a683",
   "metadata": {},
   "outputs": [],
   "source": [
    "import nrcatalogtools.lvc as lalutils"
   ]
  },
  {
   "cell_type": "code",
   "execution_count": 5,
   "id": "47bd18a7",
   "metadata": {},
   "outputs": [],
   "source": [
    "from nrcatalogtools.lvc import get_lal_mode_dictionary_from_lmax"
   ]
  },
  {
   "cell_type": "code",
   "execution_count": 6,
   "id": "f9141ca6",
   "metadata": {},
   "outputs": [],
   "source": [
    "import numpy as np\n",
    "from nrcatalogtools.maya import MayaCatalog\n",
    "import matplotlib.pyplot as plt\n",
    "\n",
    "\n",
    "#####################\n",
    "# matplotlib presets\n",
    "#########################################\n",
    "\n",
    "labelsize=16\n",
    "labelpad=14\n",
    "\n",
    "plt.rcParams.update({'font.size': 12})\n",
    "plt.rcParams.update({\"figure.figsize\" : (8,6)})\n",
    "#plt.rcParams.update({\"axes.grid\" : True})\n",
    "plt.rcParams.update({\"axes.labelpad\" : labelpad})\n",
    "plt.rcParams.update({\"axes.labelsize\" : labelsize})\n",
    "plt.rcParams.update({\"figure.autolayout\" : True})\n",
    "plt.rcParams.update({\"grid.alpha\" : 0.3})\n",
    "plt.rcParams.update({\"grid.alpha\" : 0.3})\n",
    "plt.rcParams.update({'legend.markerscale': 12})"
   ]
  },
  {
   "cell_type": "code",
   "execution_count": 7,
   "id": "852680d4",
   "metadata": {},
   "outputs": [],
   "source": [
    "#from nrcatalogtools.rit import RITCatalog\n",
    "\n",
    "from nrcatalogtools import utils\n",
    "from nrcatalogtools.waveform import WaveformModes"
   ]
  },
  {
   "cell_type": "code",
   "execution_count": 8,
   "id": "f061b67f",
   "metadata": {},
   "outputs": [],
   "source": [
    "\n",
    "import sxs\n"
   ]
  },
  {
   "cell_type": "code",
   "execution_count": 9,
   "id": "ac11576b",
   "metadata": {},
   "outputs": [
    {
     "data": {
      "text/plain": [
       "PosixPath('/home/vaishakprasad/.cache/sxs')"
      ]
     },
     "execution_count": 9,
     "metadata": {},
     "output_type": "execute_result"
    }
   ],
   "source": [
    "# View SXS cache\n",
    "sxs.sxs_directory(\"cache\")"
   ]
  },
  {
   "cell_type": "code",
   "execution_count": 10,
   "id": "66f4fa23",
   "metadata": {},
   "outputs": [
    {
     "data": {
      "text/plain": [
       "'/home/vaishakprasad/Documents/Codes/nr-catalog-tools-vp/nrcatalogtools/__init__.py'"
      ]
     },
     "execution_count": 10,
     "metadata": {},
     "output_type": "execute_result"
    }
   ],
   "source": [
    "nrcatalogtools.__file__"
   ]
  },
  {
   "cell_type": "markdown",
   "id": "1dcf8213",
   "metadata": {},
   "source": [
    "### MAYA cat details"
   ]
  },
  {
   "cell_type": "code",
   "execution_count": 11,
   "id": "01d00948",
   "metadata": {},
   "outputs": [
    {
     "data": {
      "text/plain": [
       "{'cache_dir': PosixPath('/home/vaishakprasad/.cache/MAYA'),\n",
       " 'url': 'https://raw.githubusercontent.com/cevans216/gt-waveform-catalog/master/h5files',\n",
       " 'metadata_url': 'https://raw.githubusercontent.com/cevans216/gt-waveform-catalog/master/catalog-table.txt',\n",
       " 'data_dir': PosixPath('/home/vaishakprasad/.cache/MAYA/data'),\n",
       " 'metadata_dir': PosixPath('/home/vaishakprasad/.cache/MAYA/metadata'),\n",
       " 'data_url': 'https://raw.githubusercontent.com/cevans216/gt-waveform-catalog/master/h5files'}"
      ]
     },
     "execution_count": 11,
     "metadata": {},
     "output_type": "execute_result"
    }
   ],
   "source": [
    "nrcatalogtools.utils.maya_catalog_info"
   ]
  },
  {
   "cell_type": "code",
   "execution_count": null,
   "id": "6c9a11d9",
   "metadata": {},
   "outputs": [],
   "source": []
  },
  {
   "cell_type": "code",
   "execution_count": 12,
   "id": "68ae11f7",
   "metadata": {},
   "outputs": [],
   "source": [
    "# Simulation name\n",
    "sim_name = 'GT0001'\n",
    "\n",
    "# Parameters\n",
    "M = 40\n",
    "D = 1000\n",
    "inc = np.pi/2#np.pi/3 - 0.0001\n",
    "coa_phase = np.pi/6\n",
    "delta_t = 1./2048"
   ]
  },
  {
   "cell_type": "markdown",
   "id": "2e0aaa9f",
   "metadata": {},
   "source": [
    "## Load waveform"
   ]
  },
  {
   "cell_type": "code",
   "execution_count": 13,
   "id": "8e2cac71",
   "metadata": {
    "scrolled": true
   },
   "outputs": [
    {
     "name": "stdout",
     "output_type": "stream",
     "text": [
      "Downloading to /home/vaishakprasad/.cache/MAYA/catalog.temp.txt:\n"
     ]
    },
    {
     "data": {
      "application/vnd.jupyter.widget-view+json": {
       "model_id": "3aac7f4431a04454aa23ef50295d018b",
       "version_major": 2,
       "version_minor": 0
      },
      "text/plain": [
       "  0%|          | 0/10710 [00:00<?, ?it/s]"
      ]
     },
     "metadata": {},
     "output_type": "display_data"
    },
    {
     "name": "stdout",
     "output_type": "stream",
     "text": [
      "WARNING: Could not resolve path for GT0002..best calculated path = /home/vaishakprasad/.cache/MAYA/data/GT0002.h5\n",
      "WARNING: Could not resolve path for GT0003..best calculated path = /home/vaishakprasad/.cache/MAYA/data/GT0003.h5\n",
      "WARNING: Could not resolve path for GT0004..best calculated path = /home/vaishakprasad/.cache/MAYA/data/GT0004.h5\n",
      "WARNING: Could not resolve path for GT0005..best calculated path = /home/vaishakprasad/.cache/MAYA/data/GT0005.h5\n",
      "WARNING: Could not resolve path for GT0006..best calculated path = /home/vaishakprasad/.cache/MAYA/data/GT0006.h5\n",
      "WARNING: Could not resolve path for GT0007..best calculated path = /home/vaishakprasad/.cache/MAYA/data/GT0007.h5\n",
      "WARNING: Could not resolve path for GT0008..best calculated path = /home/vaishakprasad/.cache/MAYA/data/GT0008.h5\n",
      "WARNING: Could not resolve path for GT0009..best calculated path = /home/vaishakprasad/.cache/MAYA/data/GT0009.h5\n",
      "WARNING: Could not resolve path for GT0010..best calculated path = /home/vaishakprasad/.cache/MAYA/data/GT0010.h5\n",
      "WARNING: Could not resolve path for GT0011..best calculated path = /home/vaishakprasad/.cache/MAYA/data/GT0011.h5\n",
      "WARNING: Could not resolve path for GT0012..best calculated path = /home/vaishakprasad/.cache/MAYA/data/GT0012.h5\n",
      "WARNING: Could not resolve path for GT0013..best calculated path = /home/vaishakprasad/.cache/MAYA/data/GT0013.h5\n",
      "WARNING: Could not resolve path for GT0014..best calculated path = /home/vaishakprasad/.cache/MAYA/data/GT0014.h5\n",
      "WARNING: Could not resolve path for GT0015..best calculated path = /home/vaishakprasad/.cache/MAYA/data/GT0015.h5\n",
      "WARNING: Could not resolve path for GT0016..best calculated path = /home/vaishakprasad/.cache/MAYA/data/GT0016.h5\n",
      "WARNING: Could not resolve path for GT0203..best calculated path = /home/vaishakprasad/.cache/MAYA/data/GT0203.h5\n",
      "WARNING: Could not resolve path for GT0204..best calculated path = /home/vaishakprasad/.cache/MAYA/data/GT0204.h5\n",
      "WARNING: Could not resolve path for GT0205..best calculated path = /home/vaishakprasad/.cache/MAYA/data/GT0205.h5\n",
      "WARNING: Could not resolve path for GT0206..best calculated path = /home/vaishakprasad/.cache/MAYA/data/GT0206.h5\n",
      "WARNING: Could not resolve path for GT0207..best calculated path = /home/vaishakprasad/.cache/MAYA/data/GT0207.h5\n",
      "WARNING: Could not resolve path for GT0208..best calculated path = /home/vaishakprasad/.cache/MAYA/data/GT0208.h5\n",
      "WARNING: Could not resolve path for GT0209..best calculated path = /home/vaishakprasad/.cache/MAYA/data/GT0209.h5\n",
      "WARNING: Could not resolve path for GT0227..best calculated path = /home/vaishakprasad/.cache/MAYA/data/GT0227.h5\n",
      "WARNING: Could not resolve path for GT0229..best calculated path = /home/vaishakprasad/.cache/MAYA/data/GT0229.h5\n",
      "WARNING: Could not resolve path for GT0255..best calculated path = /home/vaishakprasad/.cache/MAYA/data/GT0255.h5\n",
      "WARNING: Could not resolve path for GT0256..best calculated path = /home/vaishakprasad/.cache/MAYA/data/GT0256.h5\n",
      "WARNING: Could not resolve path for GT0258..best calculated path = /home/vaishakprasad/.cache/MAYA/data/GT0258.h5\n",
      "WARNING: Could not resolve path for GT0259..best calculated path = /home/vaishakprasad/.cache/MAYA/data/GT0259.h5\n",
      "WARNING: Could not resolve path for GT0261..best calculated path = /home/vaishakprasad/.cache/MAYA/data/GT0261.h5\n",
      "WARNING: Could not resolve path for GT0262..best calculated path = /home/vaishakprasad/.cache/MAYA/data/GT0262.h5\n",
      "WARNING: Could not resolve path for GT0264..best calculated path = /home/vaishakprasad/.cache/MAYA/data/GT0264.h5\n",
      "WARNING: Could not resolve path for GT0265..best calculated path = /home/vaishakprasad/.cache/MAYA/data/GT0265.h5\n",
      "WARNING: Could not resolve path for GT0267..best calculated path = /home/vaishakprasad/.cache/MAYA/data/GT0267.h5\n",
      "WARNING: Could not resolve path for GT0272..best calculated path = /home/vaishakprasad/.cache/MAYA/data/GT0272.h5\n",
      "WARNING: Could not resolve path for GT0275..best calculated path = /home/vaishakprasad/.cache/MAYA/data/GT0275.h5\n",
      "WARNING: Could not resolve path for GT0277..best calculated path = /home/vaishakprasad/.cache/MAYA/data/GT0277.h5\n",
      "WARNING: Could not resolve path for GT0278..best calculated path = /home/vaishakprasad/.cache/MAYA/data/GT0278.h5\n",
      "WARNING: Could not resolve path for GT0280..best calculated path = /home/vaishakprasad/.cache/MAYA/data/GT0280.h5\n",
      "WARNING: Could not resolve path for GT0281..best calculated path = /home/vaishakprasad/.cache/MAYA/data/GT0281.h5\n",
      "WARNING: Could not resolve path for GT0282..best calculated path = /home/vaishakprasad/.cache/MAYA/data/GT0282.h5\n",
      "WARNING: Could not resolve path for GT0283..best calculated path = /home/vaishakprasad/.cache/MAYA/data/GT0283.h5\n",
      "WARNING: Could not resolve path for GT0284..best calculated path = /home/vaishakprasad/.cache/MAYA/data/GT0284.h5\n",
      "WARNING: Could not resolve path for GT0285..best calculated path = /home/vaishakprasad/.cache/MAYA/data/GT0285.h5\n",
      "WARNING: Could not resolve path for GT0286..best calculated path = /home/vaishakprasad/.cache/MAYA/data/GT0286.h5\n",
      "WARNING: Could not resolve path for GT0287..best calculated path = /home/vaishakprasad/.cache/MAYA/data/GT0287.h5\n",
      "WARNING: Could not resolve path for GT0304..best calculated path = /home/vaishakprasad/.cache/MAYA/data/GT0304.h5\n",
      "WARNING: Could not resolve path for GT0308..best calculated path = /home/vaishakprasad/.cache/MAYA/data/GT0308.h5\n",
      "WARNING: Could not resolve path for GT0311..best calculated path = /home/vaishakprasad/.cache/MAYA/data/GT0311.h5\n",
      "WARNING: Could not resolve path for GT0314..best calculated path = /home/vaishakprasad/.cache/MAYA/data/GT0314.h5\n",
      "WARNING: Could not resolve path for GT0355..best calculated path = /home/vaishakprasad/.cache/MAYA/data/GT0355.h5\n",
      "WARNING: Could not resolve path for GT0356..best calculated path = /home/vaishakprasad/.cache/MAYA/data/GT0356.h5\n",
      "WARNING: Could not resolve path for GT0357..best calculated path = /home/vaishakprasad/.cache/MAYA/data/GT0357.h5\n",
      "WARNING: Could not resolve path for GT0358..best calculated path = /home/vaishakprasad/.cache/MAYA/data/GT0358.h5\n",
      "WARNING: Could not resolve path for GT0370..best calculated path = /home/vaishakprasad/.cache/MAYA/data/GT0370.h5\n",
      "WARNING: Could not resolve path for GT0371..best calculated path = /home/vaishakprasad/.cache/MAYA/data/GT0371.h5\n",
      "WARNING: Could not resolve path for GT0372..best calculated path = /home/vaishakprasad/.cache/MAYA/data/GT0372.h5\n",
      "WARNING: Could not resolve path for GT0374..best calculated path = /home/vaishakprasad/.cache/MAYA/data/GT0374.h5\n",
      "WARNING: Could not resolve path for GT0376..best calculated path = /home/vaishakprasad/.cache/MAYA/data/GT0376.h5\n",
      "WARNING: Could not resolve path for GT0378..best calculated path = /home/vaishakprasad/.cache/MAYA/data/GT0378.h5\n",
      "WARNING: Could not resolve path for GT0379..best calculated path = /home/vaishakprasad/.cache/MAYA/data/GT0379.h5\n",
      "WARNING: Could not resolve path for GT0380..best calculated path = /home/vaishakprasad/.cache/MAYA/data/GT0380.h5\n",
      "WARNING: Could not resolve path for GT0382..best calculated path = /home/vaishakprasad/.cache/MAYA/data/GT0382.h5\n",
      "WARNING: Could not resolve path for GT0384..best calculated path = /home/vaishakprasad/.cache/MAYA/data/GT0384.h5\n",
      "WARNING: Could not resolve path for GT0385..best calculated path = /home/vaishakprasad/.cache/MAYA/data/GT0385.h5\n",
      "WARNING: Could not resolve path for GT0388..best calculated path = /home/vaishakprasad/.cache/MAYA/data/GT0388.h5\n",
      "WARNING: Could not resolve path for GT0389..best calculated path = /home/vaishakprasad/.cache/MAYA/data/GT0389.h5\n",
      "WARNING: Could not resolve path for GT0390..best calculated path = /home/vaishakprasad/.cache/MAYA/data/GT0390.h5\n",
      "WARNING: Could not resolve path for GT0391..best calculated path = /home/vaishakprasad/.cache/MAYA/data/GT0391.h5\n",
      "WARNING: Could not resolve path for GT0392..best calculated path = /home/vaishakprasad/.cache/MAYA/data/GT0392.h5\n",
      "WARNING: Could not resolve path for GT0393..best calculated path = /home/vaishakprasad/.cache/MAYA/data/GT0393.h5\n",
      "WARNING: Could not resolve path for GT0395..best calculated path = /home/vaishakprasad/.cache/MAYA/data/GT0395.h5\n",
      "WARNING: Could not resolve path for GT0396..best calculated path = /home/vaishakprasad/.cache/MAYA/data/GT0396.h5\n",
      "WARNING: Could not resolve path for GT0397..best calculated path = /home/vaishakprasad/.cache/MAYA/data/GT0397.h5\n",
      "WARNING: Could not resolve path for GT0398..best calculated path = /home/vaishakprasad/.cache/MAYA/data/GT0398.h5\n",
      "WARNING: Could not resolve path for GT0400..best calculated path = /home/vaishakprasad/.cache/MAYA/data/GT0400.h5\n",
      "WARNING: Could not resolve path for GT0401..best calculated path = /home/vaishakprasad/.cache/MAYA/data/GT0401.h5\n",
      "WARNING: Could not resolve path for GT0405..best calculated path = /home/vaishakprasad/.cache/MAYA/data/GT0405.h5\n",
      "WARNING: Could not resolve path for GT0406..best calculated path = /home/vaishakprasad/.cache/MAYA/data/GT0406.h5\n",
      "WARNING: Could not resolve path for GT0407..best calculated path = /home/vaishakprasad/.cache/MAYA/data/GT0407.h5\n",
      "WARNING: Could not resolve path for GT0411..best calculated path = /home/vaishakprasad/.cache/MAYA/data/GT0411.h5\n",
      "WARNING: Could not resolve path for GT0413..best calculated path = /home/vaishakprasad/.cache/MAYA/data/GT0413.h5\n",
      "WARNING: Could not resolve path for GT0414..best calculated path = /home/vaishakprasad/.cache/MAYA/data/GT0414.h5\n",
      "WARNING: Could not resolve path for GT0415..best calculated path = /home/vaishakprasad/.cache/MAYA/data/GT0415.h5\n",
      "WARNING: Could not resolve path for GT0420..best calculated path = /home/vaishakprasad/.cache/MAYA/data/GT0420.h5\n",
      "WARNING: Could not resolve path for GT0422..best calculated path = /home/vaishakprasad/.cache/MAYA/data/GT0422.h5\n",
      "WARNING: Could not resolve path for GT0424..best calculated path = /home/vaishakprasad/.cache/MAYA/data/GT0424.h5\n",
      "WARNING: Could not resolve path for GT0428..best calculated path = /home/vaishakprasad/.cache/MAYA/data/GT0428.h5\n",
      "WARNING: Could not resolve path for GT0430..best calculated path = /home/vaishakprasad/.cache/MAYA/data/GT0430.h5\n",
      "WARNING: Could not resolve path for GT0431..best calculated path = /home/vaishakprasad/.cache/MAYA/data/GT0431.h5\n",
      "WARNING: Could not resolve path for GT0432..best calculated path = /home/vaishakprasad/.cache/MAYA/data/GT0432.h5\n",
      "WARNING: Could not resolve path for GT0433..best calculated path = /home/vaishakprasad/.cache/MAYA/data/GT0433.h5\n",
      "WARNING: Could not resolve path for GT0434..best calculated path = /home/vaishakprasad/.cache/MAYA/data/GT0434.h5\n",
      "WARNING: Could not resolve path for GT0435..best calculated path = /home/vaishakprasad/.cache/MAYA/data/GT0435.h5\n",
      "WARNING: Could not resolve path for GT0437..best calculated path = /home/vaishakprasad/.cache/MAYA/data/GT0437.h5\n",
      "WARNING: Could not resolve path for GT0438..best calculated path = /home/vaishakprasad/.cache/MAYA/data/GT0438.h5\n",
      "WARNING: Could not resolve path for GT0440..best calculated path = /home/vaishakprasad/.cache/MAYA/data/GT0440.h5\n",
      "WARNING: Could not resolve path for GT0441..best calculated path = /home/vaishakprasad/.cache/MAYA/data/GT0441.h5\n",
      "WARNING: Could not resolve path for GT0443..best calculated path = /home/vaishakprasad/.cache/MAYA/data/GT0443.h5\n",
      "WARNING: Could not resolve path for GT0446..best calculated path = /home/vaishakprasad/.cache/MAYA/data/GT0446.h5\n",
      "WARNING: Could not resolve path for GT0448..best calculated path = /home/vaishakprasad/.cache/MAYA/data/GT0448.h5\n",
      "WARNING: Could not resolve path for GT0453..best calculated path = /home/vaishakprasad/.cache/MAYA/data/GT0453.h5\n",
      "WARNING: Could not resolve path for GT0454..best calculated path = /home/vaishakprasad/.cache/MAYA/data/GT0454.h5\n",
      "WARNING: Could not resolve path for GT0455..best calculated path = /home/vaishakprasad/.cache/MAYA/data/GT0455.h5\n",
      "WARNING: Could not resolve path for GT0456..best calculated path = /home/vaishakprasad/.cache/MAYA/data/GT0456.h5\n",
      "WARNING: Could not resolve path for GT0457..best calculated path = /home/vaishakprasad/.cache/MAYA/data/GT0457.h5\n",
      "WARNING: Could not resolve path for GT0458..best calculated path = /home/vaishakprasad/.cache/MAYA/data/GT0458.h5\n",
      "WARNING: Could not resolve path for GT0459..best calculated path = /home/vaishakprasad/.cache/MAYA/data/GT0459.h5\n",
      "WARNING: Could not resolve path for GT0460..best calculated path = /home/vaishakprasad/.cache/MAYA/data/GT0460.h5\n",
      "WARNING: Could not resolve path for GT0461..best calculated path = /home/vaishakprasad/.cache/MAYA/data/GT0461.h5\n",
      "WARNING: Could not resolve path for GT0462..best calculated path = /home/vaishakprasad/.cache/MAYA/data/GT0462.h5\n",
      "WARNING: Could not resolve path for GT0463..best calculated path = /home/vaishakprasad/.cache/MAYA/data/GT0463.h5\n",
      "WARNING: Could not resolve path for GT0464..best calculated path = /home/vaishakprasad/.cache/MAYA/data/GT0464.h5\n",
      "WARNING: Could not resolve path for GT0465..best calculated path = /home/vaishakprasad/.cache/MAYA/data/GT0465.h5\n",
      "WARNING: Could not resolve path for GT0466..best calculated path = /home/vaishakprasad/.cache/MAYA/data/GT0466.h5\n",
      "WARNING: Could not resolve path for GT0467..best calculated path = /home/vaishakprasad/.cache/MAYA/data/GT0467.h5\n",
      "WARNING: Could not resolve path for GT0468..best calculated path = /home/vaishakprasad/.cache/MAYA/data/GT0468.h5\n",
      "WARNING: Could not resolve path for GT0469..best calculated path = /home/vaishakprasad/.cache/MAYA/data/GT0469.h5\n",
      "WARNING: Could not resolve path for GT0470..best calculated path = /home/vaishakprasad/.cache/MAYA/data/GT0470.h5\n",
      "WARNING: Could not resolve path for GT0471..best calculated path = /home/vaishakprasad/.cache/MAYA/data/GT0471.h5\n",
      "WARNING: Could not resolve path for GT0472..best calculated path = /home/vaishakprasad/.cache/MAYA/data/GT0472.h5\n",
      "WARNING: Could not resolve path for GT0475..best calculated path = /home/vaishakprasad/.cache/MAYA/data/GT0475.h5\n",
      "WARNING: Could not resolve path for GT0476..best calculated path = /home/vaishakprasad/.cache/MAYA/data/GT0476.h5\n",
      "WARNING: Could not resolve path for GT0477..best calculated path = /home/vaishakprasad/.cache/MAYA/data/GT0477.h5\n",
      "WARNING: Could not resolve path for GT0478..best calculated path = /home/vaishakprasad/.cache/MAYA/data/GT0478.h5\n",
      "WARNING: Could not resolve path for GT0479..best calculated path = /home/vaishakprasad/.cache/MAYA/data/GT0479.h5\n",
      "WARNING: Could not resolve path for GT0480..best calculated path = /home/vaishakprasad/.cache/MAYA/data/GT0480.h5\n",
      "WARNING: Could not resolve path for GT0482..best calculated path = /home/vaishakprasad/.cache/MAYA/data/GT0482.h5\n",
      "WARNING: Could not resolve path for GT0483..best calculated path = /home/vaishakprasad/.cache/MAYA/data/GT0483.h5\n",
      "WARNING: Could not resolve path for GT0484..best calculated path = /home/vaishakprasad/.cache/MAYA/data/GT0484.h5\n",
      "WARNING: Could not resolve path for GT0485..best calculated path = /home/vaishakprasad/.cache/MAYA/data/GT0485.h5\n",
      "WARNING: Could not resolve path for GT0486..best calculated path = /home/vaishakprasad/.cache/MAYA/data/GT0486.h5\n",
      "WARNING: Could not resolve path for GT0487..best calculated path = /home/vaishakprasad/.cache/MAYA/data/GT0487.h5\n",
      "WARNING: Could not resolve path for GT0489..best calculated path = /home/vaishakprasad/.cache/MAYA/data/GT0489.h5\n",
      "WARNING: Could not resolve path for GT0490..best calculated path = /home/vaishakprasad/.cache/MAYA/data/GT0490.h5\n",
      "WARNING: Could not resolve path for GT0491..best calculated path = /home/vaishakprasad/.cache/MAYA/data/GT0491.h5\n",
      "WARNING: Could not resolve path for GT0492..best calculated path = /home/vaishakprasad/.cache/MAYA/data/GT0492.h5\n",
      "WARNING: Could not resolve path for GT0493..best calculated path = /home/vaishakprasad/.cache/MAYA/data/GT0493.h5\n",
      "WARNING: Could not resolve path for GT0500..best calculated path = /home/vaishakprasad/.cache/MAYA/data/GT0500.h5\n",
      "WARNING: Could not resolve path for GT0501..best calculated path = /home/vaishakprasad/.cache/MAYA/data/GT0501.h5\n",
      "WARNING: Could not resolve path for GT0502..best calculated path = /home/vaishakprasad/.cache/MAYA/data/GT0502.h5\n",
      "WARNING: Could not resolve path for GT0503..best calculated path = /home/vaishakprasad/.cache/MAYA/data/GT0503.h5\n",
      "WARNING: Could not resolve path for GT0504..best calculated path = /home/vaishakprasad/.cache/MAYA/data/GT0504.h5\n",
      "WARNING: Could not resolve path for GT0505..best calculated path = /home/vaishakprasad/.cache/MAYA/data/GT0505.h5\n",
      "WARNING: Could not resolve path for GT0506..best calculated path = /home/vaishakprasad/.cache/MAYA/data/GT0506.h5\n",
      "WARNING: Could not resolve path for GT0507..best calculated path = /home/vaishakprasad/.cache/MAYA/data/GT0507.h5\n",
      "WARNING: Could not resolve path for GT0508..best calculated path = /home/vaishakprasad/.cache/MAYA/data/GT0508.h5\n",
      "WARNING: Could not resolve path for GT0509..best calculated path = /home/vaishakprasad/.cache/MAYA/data/GT0509.h5\n",
      "WARNING: Could not resolve path for GT0510..best calculated path = /home/vaishakprasad/.cache/MAYA/data/GT0510.h5\n",
      "WARNING: Could not resolve path for GT0511..best calculated path = /home/vaishakprasad/.cache/MAYA/data/GT0511.h5\n",
      "WARNING: Could not resolve path for GT0512..best calculated path = /home/vaishakprasad/.cache/MAYA/data/GT0512.h5\n",
      "WARNING: Could not resolve path for GT0513..best calculated path = /home/vaishakprasad/.cache/MAYA/data/GT0513.h5\n",
      "WARNING: Could not resolve path for GT0514..best calculated path = /home/vaishakprasad/.cache/MAYA/data/GT0514.h5\n",
      "WARNING: Could not resolve path for GT0515..best calculated path = /home/vaishakprasad/.cache/MAYA/data/GT0515.h5\n",
      "WARNING: Could not resolve path for GT0516..best calculated path = /home/vaishakprasad/.cache/MAYA/data/GT0516.h5\n",
      "WARNING: Could not resolve path for GT0517..best calculated path = /home/vaishakprasad/.cache/MAYA/data/GT0517.h5\n",
      "WARNING: Could not resolve path for GT0518..best calculated path = /home/vaishakprasad/.cache/MAYA/data/GT0518.h5\n",
      "WARNING: Could not resolve path for GT0520..best calculated path = /home/vaishakprasad/.cache/MAYA/data/GT0520.h5\n",
      "WARNING: Could not resolve path for GT0521..best calculated path = /home/vaishakprasad/.cache/MAYA/data/GT0521.h5\n",
      "WARNING: Could not resolve path for GT0522..best calculated path = /home/vaishakprasad/.cache/MAYA/data/GT0522.h5\n",
      "WARNING: Could not resolve path for GT0523..best calculated path = /home/vaishakprasad/.cache/MAYA/data/GT0523.h5\n",
      "WARNING: Could not resolve path for GT0524..best calculated path = /home/vaishakprasad/.cache/MAYA/data/GT0524.h5\n",
      "WARNING: Could not resolve path for GT0525..best calculated path = /home/vaishakprasad/.cache/MAYA/data/GT0525.h5\n",
      "WARNING: Could not resolve path for GT0526..best calculated path = /home/vaishakprasad/.cache/MAYA/data/GT0526.h5\n",
      "WARNING: Could not resolve path for GT0527..best calculated path = /home/vaishakprasad/.cache/MAYA/data/GT0527.h5\n",
      "WARNING: Could not resolve path for GT0528..best calculated path = /home/vaishakprasad/.cache/MAYA/data/GT0528.h5\n",
      "WARNING: Could not resolve path for GT0529..best calculated path = /home/vaishakprasad/.cache/MAYA/data/GT0529.h5\n",
      "WARNING: Could not resolve path for GT0530..best calculated path = /home/vaishakprasad/.cache/MAYA/data/GT0530.h5\n",
      "WARNING: Could not resolve path for GT0532..best calculated path = /home/vaishakprasad/.cache/MAYA/data/GT0532.h5\n",
      "WARNING: Could not resolve path for GT0533..best calculated path = /home/vaishakprasad/.cache/MAYA/data/GT0533.h5\n",
      "WARNING: Could not resolve path for GT0534..best calculated path = /home/vaishakprasad/.cache/MAYA/data/GT0534.h5\n",
      "WARNING: Could not resolve path for GT0535..best calculated path = /home/vaishakprasad/.cache/MAYA/data/GT0535.h5\n",
      "WARNING: Could not resolve path for GT0536..best calculated path = /home/vaishakprasad/.cache/MAYA/data/GT0536.h5\n",
      "WARNING: Could not resolve path for GT0537..best calculated path = /home/vaishakprasad/.cache/MAYA/data/GT0537.h5\n",
      "WARNING: Could not resolve path for GT0538..best calculated path = /home/vaishakprasad/.cache/MAYA/data/GT0538.h5\n",
      "WARNING: Could not resolve path for GT0539..best calculated path = /home/vaishakprasad/.cache/MAYA/data/GT0539.h5\n",
      "WARNING: Could not resolve path for GT0540..best calculated path = /home/vaishakprasad/.cache/MAYA/data/GT0540.h5\n",
      "WARNING: Could not resolve path for GT0541..best calculated path = /home/vaishakprasad/.cache/MAYA/data/GT0541.h5\n",
      "WARNING: Could not resolve path for GT0542..best calculated path = /home/vaishakprasad/.cache/MAYA/data/GT0542.h5\n",
      "WARNING: Could not resolve path for GT0543..best calculated path = /home/vaishakprasad/.cache/MAYA/data/GT0543.h5\n",
      "WARNING: Could not resolve path for GT0544..best calculated path = /home/vaishakprasad/.cache/MAYA/data/GT0544.h5\n",
      "WARNING: Could not resolve path for GT0545..best calculated path = /home/vaishakprasad/.cache/MAYA/data/GT0545.h5\n",
      "WARNING: Could not resolve path for GT0546..best calculated path = /home/vaishakprasad/.cache/MAYA/data/GT0546.h5\n",
      "WARNING: Could not resolve path for GT0547..best calculated path = /home/vaishakprasad/.cache/MAYA/data/GT0547.h5\n",
      "WARNING: Could not resolve path for GT0548..best calculated path = /home/vaishakprasad/.cache/MAYA/data/GT0548.h5\n",
      "WARNING: Could not resolve path for GT0549..best calculated path = /home/vaishakprasad/.cache/MAYA/data/GT0549.h5\n",
      "WARNING: Could not resolve path for GT0550..best calculated path = /home/vaishakprasad/.cache/MAYA/data/GT0550.h5\n",
      "WARNING: Could not resolve path for GT0551..best calculated path = /home/vaishakprasad/.cache/MAYA/data/GT0551.h5\n",
      "WARNING: Could not resolve path for GT0554..best calculated path = /home/vaishakprasad/.cache/MAYA/data/GT0554.h5\n",
      "WARNING: Could not resolve path for GT0555..best calculated path = /home/vaishakprasad/.cache/MAYA/data/GT0555.h5\n",
      "WARNING: Could not resolve path for GT0556..best calculated path = /home/vaishakprasad/.cache/MAYA/data/GT0556.h5\n",
      "WARNING: Could not resolve path for GT0557..best calculated path = /home/vaishakprasad/.cache/MAYA/data/GT0557.h5\n",
      "WARNING: Could not resolve path for GT0558..best calculated path = /home/vaishakprasad/.cache/MAYA/data/GT0558.h5\n",
      "WARNING: Could not resolve path for GT0560..best calculated path = /home/vaishakprasad/.cache/MAYA/data/GT0560.h5\n",
      "WARNING: Could not resolve path for GT0564..best calculated path = /home/vaishakprasad/.cache/MAYA/data/GT0564.h5\n",
      "WARNING: Could not resolve path for GT0565..best calculated path = /home/vaishakprasad/.cache/MAYA/data/GT0565.h5\n",
      "WARNING: Could not resolve path for GT0566..best calculated path = /home/vaishakprasad/.cache/MAYA/data/GT0566.h5\n",
      "WARNING: Could not resolve path for GT0567..best calculated path = /home/vaishakprasad/.cache/MAYA/data/GT0567.h5\n",
      "WARNING: Could not resolve path for GT0568..best calculated path = /home/vaishakprasad/.cache/MAYA/data/GT0568.h5\n",
      "WARNING: Could not resolve path for GT0570..best calculated path = /home/vaishakprasad/.cache/MAYA/data/GT0570.h5\n",
      "WARNING: Could not resolve path for GT0573..best calculated path = /home/vaishakprasad/.cache/MAYA/data/GT0573.h5\n",
      "WARNING: Could not resolve path for GT0574..best calculated path = /home/vaishakprasad/.cache/MAYA/data/GT0574.h5\n",
      "WARNING: Could not resolve path for GT0577..best calculated path = /home/vaishakprasad/.cache/MAYA/data/GT0577.h5\n",
      "WARNING: Could not resolve path for GT0578..best calculated path = /home/vaishakprasad/.cache/MAYA/data/GT0578.h5\n",
      "WARNING: Could not resolve path for GT0579..best calculated path = /home/vaishakprasad/.cache/MAYA/data/GT0579.h5\n",
      "WARNING: Could not resolve path for GT0580..best calculated path = /home/vaishakprasad/.cache/MAYA/data/GT0580.h5\n",
      "WARNING: Could not resolve path for GT0582..best calculated path = /home/vaishakprasad/.cache/MAYA/data/GT0582.h5\n",
      "WARNING: Could not resolve path for GT0583..best calculated path = /home/vaishakprasad/.cache/MAYA/data/GT0583.h5\n",
      "WARNING: Could not resolve path for GT0584..best calculated path = /home/vaishakprasad/.cache/MAYA/data/GT0584.h5\n",
      "WARNING: Could not resolve path for GT0587..best calculated path = /home/vaishakprasad/.cache/MAYA/data/GT0587.h5\n",
      "WARNING: Could not resolve path for GT0588..best calculated path = /home/vaishakprasad/.cache/MAYA/data/GT0588.h5\n",
      "WARNING: Could not resolve path for GT0590..best calculated path = /home/vaishakprasad/.cache/MAYA/data/GT0590.h5\n",
      "WARNING: Could not resolve path for GT0596..best calculated path = /home/vaishakprasad/.cache/MAYA/data/GT0596.h5\n",
      "WARNING: Could not resolve path for GT0598..best calculated path = /home/vaishakprasad/.cache/MAYA/data/GT0598.h5\n",
      "WARNING: Could not resolve path for GT0599..best calculated path = /home/vaishakprasad/.cache/MAYA/data/GT0599.h5\n",
      "WARNING: Could not resolve path for GT0600..best calculated path = /home/vaishakprasad/.cache/MAYA/data/GT0600.h5\n",
      "WARNING: Could not resolve path for GT0601..best calculated path = /home/vaishakprasad/.cache/MAYA/data/GT0601.h5\n",
      "WARNING: Could not resolve path for GT0602..best calculated path = /home/vaishakprasad/.cache/MAYA/data/GT0602.h5\n",
      "WARNING: Could not resolve path for GT0603..best calculated path = /home/vaishakprasad/.cache/MAYA/data/GT0603.h5\n",
      "WARNING: Could not resolve path for GT0604..best calculated path = /home/vaishakprasad/.cache/MAYA/data/GT0604.h5\n",
      "WARNING: Could not resolve path for GT0605..best calculated path = /home/vaishakprasad/.cache/MAYA/data/GT0605.h5\n",
      "WARNING: Could not resolve path for GT0606..best calculated path = /home/vaishakprasad/.cache/MAYA/data/GT0606.h5\n",
      "WARNING: Could not resolve path for GT0607..best calculated path = /home/vaishakprasad/.cache/MAYA/data/GT0607.h5\n",
      "WARNING: Could not resolve path for GT0608..best calculated path = /home/vaishakprasad/.cache/MAYA/data/GT0608.h5\n",
      "WARNING: Could not resolve path for GT0609..best calculated path = /home/vaishakprasad/.cache/MAYA/data/GT0609.h5\n",
      "WARNING: Could not resolve path for GT0610..best calculated path = /home/vaishakprasad/.cache/MAYA/data/GT0610.h5\n",
      "WARNING: Could not resolve path for GT0611..best calculated path = /home/vaishakprasad/.cache/MAYA/data/GT0611.h5\n",
      "WARNING: Could not resolve path for GT0612..best calculated path = /home/vaishakprasad/.cache/MAYA/data/GT0612.h5\n",
      "WARNING: Could not resolve path for GT0613..best calculated path = /home/vaishakprasad/.cache/MAYA/data/GT0613.h5\n",
      "WARNING: Could not resolve path for GT0615..best calculated path = /home/vaishakprasad/.cache/MAYA/data/GT0615.h5\n",
      "WARNING: Could not resolve path for GT0617..best calculated path = /home/vaishakprasad/.cache/MAYA/data/GT0617.h5\n",
      "WARNING: Could not resolve path for GT0618..best calculated path = /home/vaishakprasad/.cache/MAYA/data/GT0618.h5\n",
      "WARNING: Could not resolve path for GT0621..best calculated path = /home/vaishakprasad/.cache/MAYA/data/GT0621.h5\n",
      "WARNING: Could not resolve path for GT0622..best calculated path = /home/vaishakprasad/.cache/MAYA/data/GT0622.h5\n",
      "WARNING: Could not resolve path for GT0626..best calculated path = /home/vaishakprasad/.cache/MAYA/data/GT0626.h5\n",
      "WARNING: Could not resolve path for GT0628..best calculated path = /home/vaishakprasad/.cache/MAYA/data/GT0628.h5\n",
      "WARNING: Could not resolve path for GT0629..best calculated path = /home/vaishakprasad/.cache/MAYA/data/GT0629.h5\n",
      "WARNING: Could not resolve path for GT0630..best calculated path = /home/vaishakprasad/.cache/MAYA/data/GT0630.h5\n",
      "WARNING: Could not resolve path for GT0632..best calculated path = /home/vaishakprasad/.cache/MAYA/data/GT0632.h5\n",
      "WARNING: Could not resolve path for GT0633..best calculated path = /home/vaishakprasad/.cache/MAYA/data/GT0633.h5\n",
      "WARNING: Could not resolve path for GT0634..best calculated path = /home/vaishakprasad/.cache/MAYA/data/GT0634.h5\n",
      "WARNING: Could not resolve path for GT0635..best calculated path = /home/vaishakprasad/.cache/MAYA/data/GT0635.h5\n",
      "WARNING: Could not resolve path for GT0636..best calculated path = /home/vaishakprasad/.cache/MAYA/data/GT0636.h5\n",
      "WARNING: Could not resolve path for GT0637..best calculated path = /home/vaishakprasad/.cache/MAYA/data/GT0637.h5\n",
      "WARNING: Could not resolve path for GT0638..best calculated path = /home/vaishakprasad/.cache/MAYA/data/GT0638.h5\n",
      "WARNING: Could not resolve path for GT0639..best calculated path = /home/vaishakprasad/.cache/MAYA/data/GT0639.h5\n",
      "WARNING: Could not resolve path for GT0640..best calculated path = /home/vaishakprasad/.cache/MAYA/data/GT0640.h5\n",
      "WARNING: Could not resolve path for GT0641..best calculated path = /home/vaishakprasad/.cache/MAYA/data/GT0641.h5\n",
      "WARNING: Could not resolve path for GT0642..best calculated path = /home/vaishakprasad/.cache/MAYA/data/GT0642.h5\n",
      "WARNING: Could not resolve path for GT0643..best calculated path = /home/vaishakprasad/.cache/MAYA/data/GT0643.h5\n",
      "WARNING: Could not resolve path for GT0644..best calculated path = /home/vaishakprasad/.cache/MAYA/data/GT0644.h5\n",
      "WARNING: Could not resolve path for GT0645..best calculated path = /home/vaishakprasad/.cache/MAYA/data/GT0645.h5\n",
      "WARNING: Could not resolve path for GT0646..best calculated path = /home/vaishakprasad/.cache/MAYA/data/GT0646.h5\n",
      "WARNING: Could not resolve path for GT0647..best calculated path = /home/vaishakprasad/.cache/MAYA/data/GT0647.h5\n",
      "WARNING: Could not resolve path for GT0648..best calculated path = /home/vaishakprasad/.cache/MAYA/data/GT0648.h5\n",
      "WARNING: Could not resolve path for GT0649..best calculated path = /home/vaishakprasad/.cache/MAYA/data/GT0649.h5\n",
      "WARNING: Could not resolve path for GT0650..best calculated path = /home/vaishakprasad/.cache/MAYA/data/GT0650.h5\n",
      "WARNING: Could not resolve path for GT0651..best calculated path = /home/vaishakprasad/.cache/MAYA/data/GT0651.h5\n",
      "WARNING: Could not resolve path for GT0652..best calculated path = /home/vaishakprasad/.cache/MAYA/data/GT0652.h5\n",
      "WARNING: Could not resolve path for GT0653..best calculated path = /home/vaishakprasad/.cache/MAYA/data/GT0653.h5\n",
      "WARNING: Could not resolve path for GT0654..best calculated path = /home/vaishakprasad/.cache/MAYA/data/GT0654.h5\n",
      "WARNING: Could not resolve path for GT0656..best calculated path = /home/vaishakprasad/.cache/MAYA/data/GT0656.h5\n",
      "WARNING: Could not resolve path for GT0657..best calculated path = /home/vaishakprasad/.cache/MAYA/data/GT0657.h5\n",
      "WARNING: Could not resolve path for GT0659..best calculated path = /home/vaishakprasad/.cache/MAYA/data/GT0659.h5\n",
      "WARNING: Could not resolve path for GT0660..best calculated path = /home/vaishakprasad/.cache/MAYA/data/GT0660.h5\n",
      "WARNING: Could not resolve path for GT0661..best calculated path = /home/vaishakprasad/.cache/MAYA/data/GT0661.h5\n",
      "WARNING: Could not resolve path for GT0662..best calculated path = /home/vaishakprasad/.cache/MAYA/data/GT0662.h5\n",
      "WARNING: Could not resolve path for GT0663..best calculated path = /home/vaishakprasad/.cache/MAYA/data/GT0663.h5\n",
      "WARNING: Could not resolve path for GT0664..best calculated path = /home/vaishakprasad/.cache/MAYA/data/GT0664.h5\n",
      "WARNING: Could not resolve path for GT0665..best calculated path = /home/vaishakprasad/.cache/MAYA/data/GT0665.h5\n",
      "WARNING: Could not resolve path for GT0666..best calculated path = /home/vaishakprasad/.cache/MAYA/data/GT0666.h5\n",
      "WARNING: Could not resolve path for GT0667..best calculated path = /home/vaishakprasad/.cache/MAYA/data/GT0667.h5\n",
      "WARNING: Could not resolve path for GT0668..best calculated path = /home/vaishakprasad/.cache/MAYA/data/GT0668.h5\n",
      "WARNING: Could not resolve path for GT0669..best calculated path = /home/vaishakprasad/.cache/MAYA/data/GT0669.h5\n",
      "WARNING: Could not resolve path for GT0670..best calculated path = /home/vaishakprasad/.cache/MAYA/data/GT0670.h5\n",
      "WARNING: Could not resolve path for GT0671..best calculated path = /home/vaishakprasad/.cache/MAYA/data/GT0671.h5\n",
      "WARNING: Could not resolve path for GT0672..best calculated path = /home/vaishakprasad/.cache/MAYA/data/GT0672.h5\n",
      "WARNING: Could not resolve path for GT0673..best calculated path = /home/vaishakprasad/.cache/MAYA/data/GT0673.h5\n",
      "WARNING: Could not resolve path for GT0674..best calculated path = /home/vaishakprasad/.cache/MAYA/data/GT0674.h5\n",
      "WARNING: Could not resolve path for GT0676..best calculated path = /home/vaishakprasad/.cache/MAYA/data/GT0676.h5\n",
      "WARNING: Could not resolve path for GT0677..best calculated path = /home/vaishakprasad/.cache/MAYA/data/GT0677.h5\n",
      "WARNING: Could not resolve path for GT0678..best calculated path = /home/vaishakprasad/.cache/MAYA/data/GT0678.h5\n",
      "WARNING: Could not resolve path for GT0679..best calculated path = /home/vaishakprasad/.cache/MAYA/data/GT0679.h5\n",
      "WARNING: Could not resolve path for GT0680..best calculated path = /home/vaishakprasad/.cache/MAYA/data/GT0680.h5\n",
      "WARNING: Could not resolve path for GT0681..best calculated path = /home/vaishakprasad/.cache/MAYA/data/GT0681.h5\n",
      "WARNING: Could not resolve path for GT0682..best calculated path = /home/vaishakprasad/.cache/MAYA/data/GT0682.h5\n",
      "WARNING: Could not resolve path for GT0683..best calculated path = /home/vaishakprasad/.cache/MAYA/data/GT0683.h5\n",
      "WARNING: Could not resolve path for GT0684..best calculated path = /home/vaishakprasad/.cache/MAYA/data/GT0684.h5\n",
      "WARNING: Could not resolve path for GT0685..best calculated path = /home/vaishakprasad/.cache/MAYA/data/GT0685.h5\n",
      "WARNING: Could not resolve path for GT0686..best calculated path = /home/vaishakprasad/.cache/MAYA/data/GT0686.h5\n",
      "WARNING: Could not resolve path for GT0688..best calculated path = /home/vaishakprasad/.cache/MAYA/data/GT0688.h5\n",
      "WARNING: Could not resolve path for GT0689..best calculated path = /home/vaishakprasad/.cache/MAYA/data/GT0689.h5\n",
      "WARNING: Could not resolve path for GT0690..best calculated path = /home/vaishakprasad/.cache/MAYA/data/GT0690.h5\n",
      "WARNING: Could not resolve path for GT0691..best calculated path = /home/vaishakprasad/.cache/MAYA/data/GT0691.h5\n",
      "WARNING: Could not resolve path for GT0692..best calculated path = /home/vaishakprasad/.cache/MAYA/data/GT0692.h5\n",
      "WARNING: Could not resolve path for GT0693..best calculated path = /home/vaishakprasad/.cache/MAYA/data/GT0693.h5\n",
      "WARNING: Could not resolve path for GT0694..best calculated path = /home/vaishakprasad/.cache/MAYA/data/GT0694.h5\n",
      "WARNING: Could not resolve path for GT0695..best calculated path = /home/vaishakprasad/.cache/MAYA/data/GT0695.h5\n",
      "WARNING: Could not resolve path for GT0696..best calculated path = /home/vaishakprasad/.cache/MAYA/data/GT0696.h5\n",
      "WARNING: Could not resolve path for GT0697..best calculated path = /home/vaishakprasad/.cache/MAYA/data/GT0697.h5\n",
      "WARNING: Could not resolve path for GT0698..best calculated path = /home/vaishakprasad/.cache/MAYA/data/GT0698.h5\n",
      "WARNING: Could not resolve path for GT0699..best calculated path = /home/vaishakprasad/.cache/MAYA/data/GT0699.h5\n",
      "WARNING: Could not resolve path for GT0701..best calculated path = /home/vaishakprasad/.cache/MAYA/data/GT0701.h5\n",
      "WARNING: Could not resolve path for GT0702..best calculated path = /home/vaishakprasad/.cache/MAYA/data/GT0702.h5\n",
      "WARNING: Could not resolve path for GT0703..best calculated path = /home/vaishakprasad/.cache/MAYA/data/GT0703.h5\n",
      "WARNING: Could not resolve path for GT0704..best calculated path = /home/vaishakprasad/.cache/MAYA/data/GT0704.h5\n",
      "WARNING: Could not resolve path for GT0705..best calculated path = /home/vaishakprasad/.cache/MAYA/data/GT0705.h5\n",
      "WARNING: Could not resolve path for GT0706..best calculated path = /home/vaishakprasad/.cache/MAYA/data/GT0706.h5\n",
      "WARNING: Could not resolve path for GT0707..best calculated path = /home/vaishakprasad/.cache/MAYA/data/GT0707.h5\n",
      "WARNING: Could not resolve path for GT0708..best calculated path = /home/vaishakprasad/.cache/MAYA/data/GT0708.h5\n",
      "WARNING: Could not resolve path for GT0709..best calculated path = /home/vaishakprasad/.cache/MAYA/data/GT0709.h5\n",
      "WARNING: Could not resolve path for GT0710..best calculated path = /home/vaishakprasad/.cache/MAYA/data/GT0710.h5\n",
      "WARNING: Could not resolve path for GT0712..best calculated path = /home/vaishakprasad/.cache/MAYA/data/GT0712.h5\n",
      "WARNING: Could not resolve path for GT0713..best calculated path = /home/vaishakprasad/.cache/MAYA/data/GT0713.h5\n",
      "WARNING: Could not resolve path for GT0714..best calculated path = /home/vaishakprasad/.cache/MAYA/data/GT0714.h5\n",
      "WARNING: Could not resolve path for GT0715..best calculated path = /home/vaishakprasad/.cache/MAYA/data/GT0715.h5\n",
      "WARNING: Could not resolve path for GT0717..best calculated path = /home/vaishakprasad/.cache/MAYA/data/GT0717.h5\n",
      "WARNING: Could not resolve path for GT0718..best calculated path = /home/vaishakprasad/.cache/MAYA/data/GT0718.h5\n",
      "WARNING: Could not resolve path for GT0720..best calculated path = /home/vaishakprasad/.cache/MAYA/data/GT0720.h5\n",
      "WARNING: Could not resolve path for GT0721..best calculated path = /home/vaishakprasad/.cache/MAYA/data/GT0721.h5\n",
      "WARNING: Could not resolve path for GT0722..best calculated path = /home/vaishakprasad/.cache/MAYA/data/GT0722.h5\n",
      "WARNING: Could not resolve path for GT0723..best calculated path = /home/vaishakprasad/.cache/MAYA/data/GT0723.h5\n",
      "WARNING: Could not resolve path for GT0724..best calculated path = /home/vaishakprasad/.cache/MAYA/data/GT0724.h5\n",
      "WARNING: Could not resolve path for GT0725..best calculated path = /home/vaishakprasad/.cache/MAYA/data/GT0725.h5\n",
      "WARNING: Could not resolve path for GT0726..best calculated path = /home/vaishakprasad/.cache/MAYA/data/GT0726.h5\n",
      "WARNING: Could not resolve path for GT0727..best calculated path = /home/vaishakprasad/.cache/MAYA/data/GT0727.h5\n",
      "WARNING: Could not resolve path for GT0728..best calculated path = /home/vaishakprasad/.cache/MAYA/data/GT0728.h5\n",
      "WARNING: Could not resolve path for GT0729..best calculated path = /home/vaishakprasad/.cache/MAYA/data/GT0729.h5\n",
      "WARNING: Could not resolve path for GT0730..best calculated path = /home/vaishakprasad/.cache/MAYA/data/GT0730.h5\n",
      "WARNING: Could not resolve path for GT0732..best calculated path = /home/vaishakprasad/.cache/MAYA/data/GT0732.h5\n",
      "WARNING: Could not resolve path for GT0733..best calculated path = /home/vaishakprasad/.cache/MAYA/data/GT0733.h5\n",
      "WARNING: Could not resolve path for GT0734..best calculated path = /home/vaishakprasad/.cache/MAYA/data/GT0734.h5\n",
      "WARNING: Could not resolve path for GT0735..best calculated path = /home/vaishakprasad/.cache/MAYA/data/GT0735.h5\n",
      "WARNING: Could not resolve path for GT0738..best calculated path = /home/vaishakprasad/.cache/MAYA/data/GT0738.h5\n",
      "WARNING: Could not resolve path for GT0739..best calculated path = /home/vaishakprasad/.cache/MAYA/data/GT0739.h5\n",
      "WARNING: Could not resolve path for GT0740..best calculated path = /home/vaishakprasad/.cache/MAYA/data/GT0740.h5\n",
      "WARNING: Could not resolve path for GT0741..best calculated path = /home/vaishakprasad/.cache/MAYA/data/GT0741.h5\n",
      "WARNING: Could not resolve path for GT0742..best calculated path = /home/vaishakprasad/.cache/MAYA/data/GT0742.h5\n",
      "WARNING: Could not resolve path for GT0743..best calculated path = /home/vaishakprasad/.cache/MAYA/data/GT0743.h5\n",
      "WARNING: Could not resolve path for GT0744..best calculated path = /home/vaishakprasad/.cache/MAYA/data/GT0744.h5\n",
      "WARNING: Could not resolve path for GT0745..best calculated path = /home/vaishakprasad/.cache/MAYA/data/GT0745.h5\n",
      "WARNING: Could not resolve path for GT0746..best calculated path = /home/vaishakprasad/.cache/MAYA/data/GT0746.h5\n",
      "WARNING: Could not resolve path for GT0747..best calculated path = /home/vaishakprasad/.cache/MAYA/data/GT0747.h5\n",
      "WARNING: Could not resolve path for GT0748..best calculated path = /home/vaishakprasad/.cache/MAYA/data/GT0748.h5\n",
      "WARNING: Could not resolve path for GT0749..best calculated path = /home/vaishakprasad/.cache/MAYA/data/GT0749.h5\n",
      "WARNING: Could not resolve path for GT0750..best calculated path = /home/vaishakprasad/.cache/MAYA/data/GT0750.h5\n",
      "WARNING: Could not resolve path for GT0754..best calculated path = /home/vaishakprasad/.cache/MAYA/data/GT0754.h5\n",
      "WARNING: Could not resolve path for GT0756..best calculated path = /home/vaishakprasad/.cache/MAYA/data/GT0756.h5\n",
      "WARNING: Could not resolve path for GT0757..best calculated path = /home/vaishakprasad/.cache/MAYA/data/GT0757.h5\n",
      "WARNING: Could not resolve path for GT0758..best calculated path = /home/vaishakprasad/.cache/MAYA/data/GT0758.h5\n",
      "WARNING: Could not resolve path for GT0759..best calculated path = /home/vaishakprasad/.cache/MAYA/data/GT0759.h5\n",
      "WARNING: Could not resolve path for GT0760..best calculated path = /home/vaishakprasad/.cache/MAYA/data/GT0760.h5\n",
      "WARNING: Could not resolve path for GT0761..best calculated path = /home/vaishakprasad/.cache/MAYA/data/GT0761.h5\n",
      "WARNING: Could not resolve path for GT0762..best calculated path = /home/vaishakprasad/.cache/MAYA/data/GT0762.h5\n",
      "WARNING: Could not resolve path for GT0763..best calculated path = /home/vaishakprasad/.cache/MAYA/data/GT0763.h5\n",
      "WARNING: Could not resolve path for GT0764..best calculated path = /home/vaishakprasad/.cache/MAYA/data/GT0764.h5\n",
      "WARNING: Could not resolve path for GT0765..best calculated path = /home/vaishakprasad/.cache/MAYA/data/GT0765.h5\n",
      "WARNING: Could not resolve path for GT0766..best calculated path = /home/vaishakprasad/.cache/MAYA/data/GT0766.h5\n",
      "WARNING: Could not resolve path for GT0767..best calculated path = /home/vaishakprasad/.cache/MAYA/data/GT0767.h5\n",
      "WARNING: Could not resolve path for GT0768..best calculated path = /home/vaishakprasad/.cache/MAYA/data/GT0768.h5\n",
      "WARNING: Could not resolve path for GT0769..best calculated path = /home/vaishakprasad/.cache/MAYA/data/GT0769.h5\n",
      "WARNING: Could not resolve path for GT0770..best calculated path = /home/vaishakprasad/.cache/MAYA/data/GT0770.h5\n",
      "WARNING: Could not resolve path for GT0771..best calculated path = /home/vaishakprasad/.cache/MAYA/data/GT0771.h5\n",
      "WARNING: Could not resolve path for GT0777..best calculated path = /home/vaishakprasad/.cache/MAYA/data/GT0777.h5\n",
      "WARNING: Could not resolve path for GT0778..best calculated path = /home/vaishakprasad/.cache/MAYA/data/GT0778.h5\n",
      "WARNING: Could not resolve path for GT0779..best calculated path = /home/vaishakprasad/.cache/MAYA/data/GT0779.h5\n",
      "WARNING: Could not resolve path for GT0780..best calculated path = /home/vaishakprasad/.cache/MAYA/data/GT0780.h5\n",
      "WARNING: Could not resolve path for GT0781..best calculated path = /home/vaishakprasad/.cache/MAYA/data/GT0781.h5\n",
      "WARNING: Could not resolve path for GT0787..best calculated path = /home/vaishakprasad/.cache/MAYA/data/GT0787.h5\n",
      "WARNING: Could not resolve path for GT0791..best calculated path = /home/vaishakprasad/.cache/MAYA/data/GT0791.h5\n",
      "WARNING: Could not resolve path for GT0792..best calculated path = /home/vaishakprasad/.cache/MAYA/data/GT0792.h5\n",
      "WARNING: Could not resolve path for GT0794..best calculated path = /home/vaishakprasad/.cache/MAYA/data/GT0794.h5\n",
      "WARNING: Could not resolve path for GT0795..best calculated path = /home/vaishakprasad/.cache/MAYA/data/GT0795.h5\n",
      "WARNING: Could not resolve path for GT0796..best calculated path = /home/vaishakprasad/.cache/MAYA/data/GT0796.h5\n",
      "WARNING: Could not resolve path for GT0797..best calculated path = /home/vaishakprasad/.cache/MAYA/data/GT0797.h5\n",
      "WARNING: Could not resolve path for GT0798..best calculated path = /home/vaishakprasad/.cache/MAYA/data/GT0798.h5\n",
      "WARNING: Could not resolve path for GT0799..best calculated path = /home/vaishakprasad/.cache/MAYA/data/GT0799.h5\n",
      "WARNING: Could not resolve path for GT0800..best calculated path = /home/vaishakprasad/.cache/MAYA/data/GT0800.h5\n",
      "WARNING: Could not resolve path for GT0801..best calculated path = /home/vaishakprasad/.cache/MAYA/data/GT0801.h5\n",
      "WARNING: Could not resolve path for GT0803..best calculated path = /home/vaishakprasad/.cache/MAYA/data/GT0803.h5\n",
      "WARNING: Could not resolve path for GT0805..best calculated path = /home/vaishakprasad/.cache/MAYA/data/GT0805.h5\n",
      "WARNING: Could not resolve path for GT0807..best calculated path = /home/vaishakprasad/.cache/MAYA/data/GT0807.h5\n",
      "WARNING: Could not resolve path for GT0808..best calculated path = /home/vaishakprasad/.cache/MAYA/data/GT0808.h5\n",
      "WARNING: Could not resolve path for GT0809..best calculated path = /home/vaishakprasad/.cache/MAYA/data/GT0809.h5\n",
      "WARNING: Could not resolve path for GT0810..best calculated path = /home/vaishakprasad/.cache/MAYA/data/GT0810.h5\n",
      "WARNING: Could not resolve path for GT0818..best calculated path = /home/vaishakprasad/.cache/MAYA/data/GT0818.h5\n",
      "WARNING: Could not resolve path for GT0824..best calculated path = /home/vaishakprasad/.cache/MAYA/data/GT0824.h5\n",
      "WARNING: Could not resolve path for GT0825..best calculated path = /home/vaishakprasad/.cache/MAYA/data/GT0825.h5\n",
      "WARNING: Could not resolve path for GT0830..best calculated path = /home/vaishakprasad/.cache/MAYA/data/GT0830.h5\n",
      "WARNING: Could not resolve path for GT0833..best calculated path = /home/vaishakprasad/.cache/MAYA/data/GT0833.h5\n",
      "WARNING: Could not resolve path for GT0834..best calculated path = /home/vaishakprasad/.cache/MAYA/data/GT0834.h5\n",
      "WARNING: Could not resolve path for GT0835..best calculated path = /home/vaishakprasad/.cache/MAYA/data/GT0835.h5\n",
      "WARNING: Could not resolve path for GT0836..best calculated path = /home/vaishakprasad/.cache/MAYA/data/GT0836.h5\n",
      "WARNING: Could not resolve path for GT0837..best calculated path = /home/vaishakprasad/.cache/MAYA/data/GT0837.h5\n",
      "WARNING: Could not resolve path for GT0838..best calculated path = /home/vaishakprasad/.cache/MAYA/data/GT0838.h5\n",
      "WARNING: Could not resolve path for GT0839..best calculated path = /home/vaishakprasad/.cache/MAYA/data/GT0839.h5\n",
      "WARNING: Could not resolve path for GT0840..best calculated path = /home/vaishakprasad/.cache/MAYA/data/GT0840.h5\n",
      "WARNING: Could not resolve path for GT0841..best calculated path = /home/vaishakprasad/.cache/MAYA/data/GT0841.h5\n",
      "WARNING: Could not resolve path for GT0842..best calculated path = /home/vaishakprasad/.cache/MAYA/data/GT0842.h5\n",
      "WARNING: Could not resolve path for GT0843..best calculated path = /home/vaishakprasad/.cache/MAYA/data/GT0843.h5\n",
      "WARNING: Could not resolve path for GT0844..best calculated path = /home/vaishakprasad/.cache/MAYA/data/GT0844.h5\n",
      "WARNING: Could not resolve path for GT0845..best calculated path = /home/vaishakprasad/.cache/MAYA/data/GT0845.h5\n",
      "WARNING: Could not resolve path for GT0846..best calculated path = /home/vaishakprasad/.cache/MAYA/data/GT0846.h5\n",
      "WARNING: Could not resolve path for GT0847..best calculated path = /home/vaishakprasad/.cache/MAYA/data/GT0847.h5\n",
      "WARNING: Could not resolve path for GT0848..best calculated path = /home/vaishakprasad/.cache/MAYA/data/GT0848.h5\n",
      "WARNING: Could not resolve path for GT0851..best calculated path = /home/vaishakprasad/.cache/MAYA/data/GT0851.h5\n",
      "WARNING: Could not resolve path for GT0852..best calculated path = /home/vaishakprasad/.cache/MAYA/data/GT0852.h5\n",
      "WARNING: Could not resolve path for GT0853..best calculated path = /home/vaishakprasad/.cache/MAYA/data/GT0853.h5\n",
      "WARNING: Could not resolve path for GT0854..best calculated path = /home/vaishakprasad/.cache/MAYA/data/GT0854.h5\n",
      "WARNING: Could not resolve path for GT0856..best calculated path = /home/vaishakprasad/.cache/MAYA/data/GT0856.h5\n",
      "WARNING: Could not resolve path for GT0857..best calculated path = /home/vaishakprasad/.cache/MAYA/data/GT0857.h5\n",
      "WARNING: Could not resolve path for GT0858..best calculated path = /home/vaishakprasad/.cache/MAYA/data/GT0858.h5\n",
      "WARNING: Could not resolve path for GT0859..best calculated path = /home/vaishakprasad/.cache/MAYA/data/GT0859.h5\n",
      "WARNING: Could not resolve path for GT0860..best calculated path = /home/vaishakprasad/.cache/MAYA/data/GT0860.h5\n",
      "WARNING: Could not resolve path for GT0861..best calculated path = /home/vaishakprasad/.cache/MAYA/data/GT0861.h5\n",
      "WARNING: Could not resolve path for GT0862..best calculated path = /home/vaishakprasad/.cache/MAYA/data/GT0862.h5\n",
      "WARNING: Could not resolve path for GT0863..best calculated path = /home/vaishakprasad/.cache/MAYA/data/GT0863.h5\n",
      "WARNING: Could not resolve path for GT0864..best calculated path = /home/vaishakprasad/.cache/MAYA/data/GT0864.h5\n",
      "WARNING: Could not resolve path for GT0865..best calculated path = /home/vaishakprasad/.cache/MAYA/data/GT0865.h5\n",
      "WARNING: Could not resolve path for GT0866..best calculated path = /home/vaishakprasad/.cache/MAYA/data/GT0866.h5\n",
      "WARNING: Could not resolve path for GT0867..best calculated path = /home/vaishakprasad/.cache/MAYA/data/GT0867.h5\n",
      "WARNING: Could not resolve path for GT0868..best calculated path = /home/vaishakprasad/.cache/MAYA/data/GT0868.h5\n",
      "WARNING: Could not resolve path for GT0869..best calculated path = /home/vaishakprasad/.cache/MAYA/data/GT0869.h5\n",
      "WARNING: Could not resolve path for GT0870..best calculated path = /home/vaishakprasad/.cache/MAYA/data/GT0870.h5\n",
      "WARNING: Could not resolve path for GT0871..best calculated path = /home/vaishakprasad/.cache/MAYA/data/GT0871.h5\n",
      "WARNING: Could not resolve path for GT0872..best calculated path = /home/vaishakprasad/.cache/MAYA/data/GT0872.h5\n",
      "WARNING: Could not resolve path for GT0873..best calculated path = /home/vaishakprasad/.cache/MAYA/data/GT0873.h5\n",
      "WARNING: Could not resolve path for GT0874..best calculated path = /home/vaishakprasad/.cache/MAYA/data/GT0874.h5\n",
      "WARNING: Could not resolve path for GT0875..best calculated path = /home/vaishakprasad/.cache/MAYA/data/GT0875.h5\n",
      "WARNING: Could not resolve path for GT0876..best calculated path = /home/vaishakprasad/.cache/MAYA/data/GT0876.h5\n",
      "WARNING: Could not resolve path for GT0877..best calculated path = /home/vaishakprasad/.cache/MAYA/data/GT0877.h5\n",
      "WARNING: Could not resolve path for GT0878..best calculated path = /home/vaishakprasad/.cache/MAYA/data/GT0878.h5\n",
      "WARNING: Could not resolve path for GT0879..best calculated path = /home/vaishakprasad/.cache/MAYA/data/GT0879.h5\n",
      "WARNING: Could not resolve path for GT0880..best calculated path = /home/vaishakprasad/.cache/MAYA/data/GT0880.h5\n",
      "WARNING: Could not resolve path for GT0881..best calculated path = /home/vaishakprasad/.cache/MAYA/data/GT0881.h5\n",
      "WARNING: Could not resolve path for GT0882..best calculated path = /home/vaishakprasad/.cache/MAYA/data/GT0882.h5\n",
      "WARNING: Could not resolve path for GT0883..best calculated path = /home/vaishakprasad/.cache/MAYA/data/GT0883.h5\n",
      "WARNING: Could not resolve path for GT0884..best calculated path = /home/vaishakprasad/.cache/MAYA/data/GT0884.h5\n",
      "WARNING: Could not resolve path for GT0885..best calculated path = /home/vaishakprasad/.cache/MAYA/data/GT0885.h5\n",
      "WARNING: Could not resolve path for GT0886..best calculated path = /home/vaishakprasad/.cache/MAYA/data/GT0886.h5\n",
      "WARNING: Could not resolve path for GT0887..best calculated path = /home/vaishakprasad/.cache/MAYA/data/GT0887.h5\n",
      "WARNING: Could not resolve path for GT0888..best calculated path = /home/vaishakprasad/.cache/MAYA/data/GT0888.h5\n",
      "WARNING: Could not resolve path for GT0889..best calculated path = /home/vaishakprasad/.cache/MAYA/data/GT0889.h5\n",
      "WARNING: Could not resolve path for GT0890..best calculated path = /home/vaishakprasad/.cache/MAYA/data/GT0890.h5\n",
      "WARNING: Could not resolve path for GT0891..best calculated path = /home/vaishakprasad/.cache/MAYA/data/GT0891.h5\n",
      "WARNING: Could not resolve path for GT0893..best calculated path = /home/vaishakprasad/.cache/MAYA/data/GT0893.h5\n",
      "WARNING: Could not resolve path for GT0894..best calculated path = /home/vaishakprasad/.cache/MAYA/data/GT0894.h5\n",
      "WARNING: Could not resolve path for GT0895..best calculated path = /home/vaishakprasad/.cache/MAYA/data/GT0895.h5\n",
      "WARNING: Could not resolve path for GT0896..best calculated path = /home/vaishakprasad/.cache/MAYA/data/GT0896.h5\n",
      "WARNING: Could not resolve path for GT0897..best calculated path = /home/vaishakprasad/.cache/MAYA/data/GT0897.h5\n",
      "WARNING: Could not resolve path for GT0898..best calculated path = /home/vaishakprasad/.cache/MAYA/data/GT0898.h5\n",
      "WARNING: Could not resolve path for GT0900..best calculated path = /home/vaishakprasad/.cache/MAYA/data/GT0900.h5\n",
      "Computing reference time..\n",
      "Reference time not found in waveform h5 file.\n",
      "Reference time not found in simulation metadata file.\n",
      "Reference time should be computed fromthe reference orbital frequency!\n",
      "Reference orbital phase not found in simulation metadata.Proceeding to retrieve from the h5 file.. 'Omega'\n",
      "/home/vaishakprasad/Documents/Codes/waveformtools/waveformtools\n",
      "No interpolation required.\n",
      "1253 (1253,)\n"
     ]
    },
    {
     "data": {
      "image/png": "[encoded data removed]",
      "text/plain": [
       "<Figure size 432x288 with 1 Axes>"
      ]
     },
     "metadata": {
      "needs_background": "light"
     },
     "output_type": "display_data"
    }
   ],
   "source": [
    "#sc = sxs.Catalog.load(download=True)\n",
    "#rc = RITCatalog.load(verbosity=5, download=True)\n",
    "mc = MayaCatalog.load(verbosity=5, download=True)\n",
    "\n",
    "mwf = mc.get(sim_name)\n",
    "\n",
    "hpc = mwf.get_td_waveform(total_mass=M, distance=D, inclination=inc,\n",
    "                    coa_phase=coa_phase, delta_t=delta_t\n",
    "                    )\n",
    "hpc_pycbc = hpc # mwf.to_pycbc(hpc)\n",
    "hp1, hx1 = hpc_pycbc.real(), hpc_pycbc.imag()\n",
    "\n",
    "plt.plot(hp1.sample_times, hp1)\n",
    "plt.plot(hx1.sample_times, hx1)\n",
    "plt.grid()\n",
    "plt.show()"
   ]
  },
  {
   "cell_type": "code",
   "execution_count": null,
   "id": "c05aeadb",
   "metadata": {},
   "outputs": [],
   "source": []
  },
  {
   "cell_type": "code",
   "execution_count": null,
   "id": "883388f2",
   "metadata": {},
   "outputs": [],
   "source": [
    "a = None"
   ]
  },
  {
   "cell_type": "code",
   "execution_count": null,
   "id": "084b6011",
   "metadata": {},
   "outputs": [],
   "source": [
    "a"
   ]
  },
  {
   "cell_type": "code",
   "execution_count": 15,
   "id": "a63e9fea",
   "metadata": {},
   "outputs": [
    {
     "data": {
      "text/plain": [
       "array([-121.10666667, -120.9       , -120.69333333, ...,  137.22666667,\n",
       "        137.43333333,  137.64      ])"
      ]
     },
     "execution_count": 15,
     "metadata": {},
     "output_type": "execute_result"
    }
   ],
   "source": [
    "mwf.time"
   ]
  },
  {
   "cell_type": "code",
   "execution_count": 14,
   "id": "af0f2e21",
   "metadata": {},
   "outputs": [
    {
     "data": {
      "text/plain": [
       "85.14666666698935"
      ]
     },
     "execution_count": 14,
     "metadata": {},
     "output_type": "execute_result"
    }
   ],
   "source": [
    "mwf.t_ref_nr"
   ]
  },
  {
   "cell_type": "code",
   "execution_count": 15,
   "id": "4c7220b6",
   "metadata": {},
   "outputs": [
    {
     "name": "stdout",
     "output_type": "stream",
     "text": [
      "Reference time not found in waveform h5 file.\n",
      "Reference time not found in simulation metadata file.\n",
      "Reference time should be computed fromthe reference orbital frequency!\n",
      "Reference orbital phase not found in simulation metadata.Proceeding to retrieve from the h5 file.. 'Omega'\n"
     ]
    },
    {
     "ename": "NotImplementedError",
     "evalue": "Computing the reference time from referenceorbital frequency is not implemented yet!",
     "output_type": "error",
     "traceback": [
      "\u001b[0;31m---------------------------------------------------------------------------\u001b[0m",
      "\u001b[0;31mNotImplementedError\u001b[0m                       Traceback (most recent call last)",
      "Cell \u001b[0;32mIn[15], line 1\u001b[0m\n\u001b[0;32m----> 1\u001b[0m \u001b[43mmwf\u001b[49m\u001b[38;5;241;43m.\u001b[39;49m\u001b[43m_compute_reference_time\u001b[49m\u001b[43m(\u001b[49m\u001b[43m)\u001b[49m\n",
      "File \u001b[0;32m~/Documents/Codes/nr-catalog-tools-vp/nrcatalogtools/waveform.py:446\u001b[0m, in \u001b[0;36mWaveformModes._compute_reference_time\u001b[0;34m(self)\u001b[0m\n\u001b[1;32m    443\u001b[0m nr_orb_phase \u001b[38;5;241m=\u001b[39m \u001b[38;5;28mself\u001b[39m\u001b[38;5;241m.\u001b[39m_get_phase(\u001b[38;5;241m2\u001b[39m, \u001b[38;5;241m2\u001b[39m) \u001b[38;5;241m/\u001b[39m \u001b[38;5;241m2\u001b[39m\n\u001b[1;32m    445\u001b[0m \u001b[38;5;66;03m# ToDo : Use waveformtools.differentiate here (04.05.23, VP)\u001b[39;00m\n\u001b[0;32m--> 446\u001b[0m \u001b[38;5;28;01mraise\u001b[39;00m \u001b[38;5;167;01mNotImplementedError\u001b[39;00m(\n\u001b[1;32m    447\u001b[0m     \u001b[38;5;124m\"\u001b[39m\u001b[38;5;124mComputing the reference time from reference\u001b[39m\u001b[38;5;124m\"\u001b[39m\n\u001b[1;32m    448\u001b[0m     \u001b[38;5;124m\"\u001b[39m\u001b[38;5;124morbital frequency is not implemented yet!\u001b[39m\u001b[38;5;124m\"\u001b[39m\n\u001b[1;32m    449\u001b[0m )\n\u001b[1;32m    450\u001b[0m \u001b[38;5;66;03m# nr_omega =\u001b[39;00m\n\u001b[1;32m    451\u001b[0m ref_loc \u001b[38;5;241m=\u001b[39m np\u001b[38;5;241m.\u001b[39margmin(np\u001b[38;5;241m.\u001b[39mabsolute(nr_orb_phase \u001b[38;5;241m-\u001b[39m ref_omega))\n",
      "\u001b[0;31mNotImplementedError\u001b[0m: Computing the reference time from referenceorbital frequency is not implemented yet!"
     ]
    }
   ],
   "source": [
    "mwf._compute_reference_time()"
   ]
  },
  {
   "cell_type": "code",
   "execution_count": 16,
   "id": "f54a2cc7",
   "metadata": {},
   "outputs": [
    {
     "data": {
      "text/plain": [
       "'/home/vaishakprasad/.cache/MAYA/data/GT0001.h5'"
      ]
     },
     "execution_count": 16,
     "metadata": {},
     "output_type": "execute_result"
    }
   ],
   "source": [
    "mwf.filepath"
   ]
  },
  {
   "cell_type": "code",
   "execution_count": 18,
   "id": "d355458e",
   "metadata": {},
   "outputs": [
    {
     "data": {
      "text/plain": [
       "Metadata([('GTID', 'GT0001'),\n",
       "          ('GT_Tag', 'fr_b3.1_a0.4_oth.000_M77'),\n",
       "          ('q', 1.0),\n",
       "          ('a1x', 0.0),\n",
       "          ('a1y', 0.0),\n",
       "          ('a1z', 0.3999),\n",
       "          ('a2x', -0.4001),\n",
       "          ('a2y', 0.0),\n",
       "          ('a2z', 0.0),\n",
       "          ('af', nan),\n",
       "          ('mf', nan),\n",
       "          ('Momega', 0.09132),\n",
       "          ('metadata_location',\n",
       "           '/home/vaishakprasad/.cache/MAYA/metadata/GT0001.txt'),\n",
       "          ('metadata_link',\n",
       "           'https://raw.githubusercontent.com/cevans216/gt-waveform-catalog/master/catalog-table.txt'),\n",
       "          ('waveform_data_link',\n",
       "           'https://raw.githubusercontent.com/cevans216/gt-waveform-catalog/master/h5files/GT0001.h5'),\n",
       "          ('waveform_data_location',\n",
       "           '/home/vaishakprasad/.cache/MAYA/data/GT0001.h5')])"
      ]
     },
     "execution_count": 18,
     "metadata": {},
     "output_type": "execute_result"
    }
   ],
   "source": [
    "mwf.sim_metadata"
   ]
  },
  {
   "cell_type": "code",
   "execution_count": 15,
   "id": "415553c1",
   "metadata": {},
   "outputs": [],
   "source": [
    "import h5py"
   ]
  },
  {
   "cell_type": "code",
   "execution_count": 17,
   "id": "ef296e5e",
   "metadata": {},
   "outputs": [
    {
     "data": {
      "text/plain": [
       "(1253,)"
      ]
     },
     "execution_count": 17,
     "metadata": {},
     "output_type": "execute_result"
    }
   ],
   "source": [
    "mwf.time.shape"
   ]
  },
  {
   "cell_type": "code",
   "execution_count": 26,
   "id": "67d219a9",
   "metadata": {},
   "outputs": [],
   "source": [
    "f = 'a'"
   ]
  },
  {
   "cell_type": "code",
   "execution_count": 30,
   "id": "e3ea2a83",
   "metadata": {},
   "outputs": [
    {
     "name": "stdout",
     "output_type": "stream",
     "text": [
      "Not possible\n"
     ]
    },
    {
     "ename": "TypeError",
     "evalue": "can only concatenate str (not \"int\") to str",
     "output_type": "error",
     "traceback": [
      "\u001b[0;31m---------------------------------------------------------------------------\u001b[0m",
      "\u001b[0;31mTypeError\u001b[0m                                 Traceback (most recent call last)",
      "Cell \u001b[0;32mIn[30], line 2\u001b[0m\n\u001b[1;32m      1\u001b[0m \u001b[38;5;28;01mtry\u001b[39;00m:\n\u001b[0;32m----> 2\u001b[0m     f\u001b[38;5;241m+\u001b[39m\u001b[38;5;241m=\u001b[39m\u001b[38;5;241m1\u001b[39m\n\u001b[1;32m      3\u001b[0m     \u001b[38;5;28mprint\u001b[39m(f)\n",
      "\u001b[0;31mTypeError\u001b[0m: can only concatenate str (not \"int\") to str",
      "\nDuring handling of the above exception, another exception occurred:\n",
      "\u001b[0;31mTypeError\u001b[0m                                 Traceback (most recent call last)",
      "Cell \u001b[0;32mIn[30], line 5\u001b[0m\n\u001b[1;32m      3\u001b[0m     \u001b[38;5;28mprint\u001b[39m(f)\n\u001b[1;32m      4\u001b[0m \u001b[38;5;28;01mexcept\u001b[39;00m:\n\u001b[0;32m----> 5\u001b[0m     f\u001b[38;5;241m+\u001b[39m\u001b[38;5;241m=\u001b[39m\u001b[38;5;241m4\u001b[39m\n\u001b[1;32m      6\u001b[0m     \u001b[38;5;28mprint\u001b[39m(f)\n\u001b[1;32m      7\u001b[0m \u001b[38;5;28;01mfinally\u001b[39;00m:\n",
      "\u001b[0;31mTypeError\u001b[0m: can only concatenate str (not \"int\") to str"
     ]
    }
   ],
   "source": [
    "try:\n",
    "    f+=1\n",
    "    print(f)\n",
    "except:\n",
    "    f+=4\n",
    "    print(f)\n",
    "finally:\n",
    "    print('Not possible')"
   ]
  },
  {
   "cell_type": "code",
   "execution_count": 18,
   "id": "cbc5fe29",
   "metadata": {},
   "outputs": [
    {
     "data": {
      "text/plain": [
       "Metadata([('GTID', 'GT0001'),\n",
       "          ('GT_Tag', 'fr_b3.1_a0.4_oth.000_M77'),\n",
       "          ('q', 1.0),\n",
       "          ('a1x', 0.0),\n",
       "          ('a1y', 0.0),\n",
       "          ('a1z', 0.3999),\n",
       "          ('a2x', -0.4001),\n",
       "          ('a2y', 0.0),\n",
       "          ('a2z', 0.0),\n",
       "          ('af', nan),\n",
       "          ('mf', nan),\n",
       "          ('Momega', 0.09132),\n",
       "          ('metadata_location',\n",
       "           '/home/vaishakprasad/.cache/MAYA/metadata/GT0001.txt'),\n",
       "          ('metadata_link',\n",
       "           'https://raw.githubusercontent.com/cevans216/gt-waveform-catalog/master/catalog-table.txt'),\n",
       "          ('waveform_data_link',\n",
       "           'https://raw.githubusercontent.com/cevans216/gt-waveform-catalog/master/h5files/GT0001.h5'),\n",
       "          ('waveform_data_location',\n",
       "           '/home/vaishakprasad/.cache/MAYA/data/GT0001.h5')])"
      ]
     },
     "execution_count": 18,
     "metadata": {},
     "output_type": "execute_result"
    }
   ],
   "source": [
    "mwf.sim_metadata"
   ]
  },
  {
   "cell_type": "code",
   "execution_count": 19,
   "id": "a966b6f2",
   "metadata": {},
   "outputs": [
    {
     "name": "stdout",
     "output_type": "stream",
     "text": [
      "<KeysViewHDF5 ['Contact Person', 'Format', 'INSPIRE-bibtex-keys', 'LNhatx', 'LNhaty', 'LNhatz', 'Lmax', 'NR-code', 'NR-group', 'NR-techniques', 'Omega', 'PN_approximant', 'Warning1', 'alternative-names', 'comparable-simulation', 'eccentricity', 'eta', 'f_lower_at_1MSUN', 'f_lower_at_1MSUN ', 'files-in-error-series', 'horizon_mass1', 'horizon_mass2', 'init_sep', 'license', 'mean_anomaly', 'modification-date', 'name', 'nhatx', 'nhaty', 'nhatz', 'number_of_orbits', 'object1', 'object2', 'point-of-contact-email', 'production-run', 'puncture_mass1', 'puncture_mass2', 'simulation-type', 'spin1x', 'spin1y', 'spin1z', 'spin2x', 'spin2y', 'spin2z', 'type']>\n",
      "0.09132119375928947\n"
     ]
    }
   ],
   "source": [
    "with h5py.File(mwf.filepath) as f:\n",
    "    print(f.attrs.keys())\n",
    "    print(f.attrs['Omega'])\n",
    "    #print(f.attrs['f_lower'])"
   ]
  },
  {
   "cell_type": "code",
   "execution_count": 17,
   "id": "893ad66e",
   "metadata": {},
   "outputs": [
    {
     "data": {
      "text/plain": [
       "(1253, 3)"
      ]
     },
     "execution_count": 17,
     "metadata": {},
     "output_type": "execute_result"
    }
   ],
   "source": [
    "mwf..shape"
   ]
  },
  {
   "cell_type": "code",
   "execution_count": 21,
   "id": "355c736a",
   "metadata": {},
   "outputs": [
    {
     "ename": "ValueError",
     "evalue": "too many values to unpack (expected 2)",
     "output_type": "error",
     "traceback": [
      "\u001b[0;31m---------------------------------------------------------------------------\u001b[0m",
      "\u001b[0;31mValueError\u001b[0m                                Traceback (most recent call last)",
      "Cell \u001b[0;32mIn[21], line 1\u001b[0m\n\u001b[0;32m----> 1\u001b[0m a,b \u001b[38;5;241m=\u001b[39m mwf\u001b[38;5;241m.\u001b[39mget_mode(\u001b[38;5;241m2\u001b[39m, \u001b[38;5;241m2\u001b[39m)\n",
      "\u001b[0;31mValueError\u001b[0m: too many values to unpack (expected 2)"
     ]
    }
   ],
   "source": [
    "a = mwf.get_mode(2, 2)"
   ]
  },
  {
   "cell_type": "code",
   "execution_count": 42,
   "id": "c397839f",
   "metadata": {},
   "outputs": [
    {
     "name": "stdout",
     "output_type": "stream",
     "text": [
      "Help on method rotate in module sxs.waveforms.waveform_modes:\n",
      "\n",
      "rotate(quat) method of nrcatalogtools.waveform.WaveformModes instance\n",
      "    Rotate decomposition basis of modes represented by this waveform\n",
      "    \n",
      "    This returns a new waveform object, with missing \"frame\" data.\n",
      "    \n",
      "    Parameters\n",
      "    ----------\n",
      "    quat : quaternionic.array\n",
      "        This must have one quaternion or the same number of quaternions as the\n",
      "        number of times in the waveform.\n",
      "\n"
     ]
    }
   ],
   "source": [
    "help(mwf.rotate)"
   ]
  },
  {
   "cell_type": "code",
   "execution_count": 58,
   "id": "c57866b7",
   "metadata": {},
   "outputs": [],
   "source": [
    "mwf_td_2 = mwf.evaluate([2, 1, np.pi/6])"
   ]
  },
  {
   "cell_type": "code",
   "execution_count": 59,
   "id": "5fa8112f",
   "metadata": {},
   "outputs": [],
   "source": [
    "mwf_td_1 = mwf.evaluate([2, 1, 0])"
   ]
  },
  {
   "cell_type": "code",
   "execution_count": 62,
   "id": "46fb56d2",
   "metadata": {},
   "outputs": [
    {
     "data": {
      "text/plain": [
       "(TimeSeries([-1.62801166e-02, -1.58400992e-02, -1.53679929e-02, ...,\n",
       "         4.70065459e-07,  2.86069535e-07,  9.46817151e-08], time=array([-121.10666667, -120.9       , -120.69333333, ...,  137.22666667,\n",
       "         137.43333333,  137.64      ]), time_axis=0),\n",
       " TimeSeries([-2.09512806e-02, -2.15379246e-02, -2.21197561e-02, ...,\n",
       "        -6.17362641e-07, -3.66243997e-07, -1.23870467e-07], time=array([-121.10666667, -120.9       , -120.69333333, ...,  137.22666667,\n",
       "         137.43333333,  137.64      ]), time_axis=0))"
      ]
     },
     "execution_count": 62,
     "metadata": {},
     "output_type": "execute_result"
    }
   ],
   "source": [
    "mwf_td_1.real, mwf_td_1.imag"
   ]
  },
  {
   "cell_type": "code",
   "execution_count": 48,
   "id": "5a96c85b",
   "metadata": {},
   "outputs": [
    {
     "data": {
      "text/plain": [
       "array([-1.04719755+1.21087504e-16j, -1.04719755+2.49393694e-17j,\n",
       "       -1.04719755-4.34531893e-17j, ..., -1.04719755-3.31897592e-16j,\n",
       "       -1.04719755-1.67356899e-16j, -1.04719755-8.40901724e-17j])"
      ]
     },
     "execution_count": 48,
     "metadata": {},
     "output_type": "execute_result"
    }
   ],
   "source": [
    "np.log(np.array(mwf_td_2/ mwf_td_1))*1j"
   ]
  },
  {
   "cell_type": "code",
   "execution_count": 63,
   "id": "90b3adea",
   "metadata": {},
   "outputs": [],
   "source": [
    "def rotate2(wf, alpha):\n",
    "    \n",
    "    re_wf = np.cos(2*alpha)*wf.real -np.sin(2*alpha)*wf.imag\n",
    "    im_wf = np.sin(2*alpha)*wf.real + np.cos(2*alpha)*wf.imag\n",
    "    \n",
    "    return re_wf + 1j*im_wf"
   ]
  },
  {
   "cell_type": "code",
   "execution_count": 64,
   "id": "c2d1ff88",
   "metadata": {},
   "outputs": [],
   "source": [
    "mwf_td_3 = rotate2(np.array(mwf_td_1), np.pi/6)"
   ]
  },
  {
   "cell_type": "code",
   "execution_count": 65,
   "id": "375559c3",
   "metadata": {},
   "outputs": [
    {
     "data": {
      "text/plain": [
       "(1.3877787807814457e-16-6.938893903907228e-17j)"
      ]
     },
     "execution_count": 65,
     "metadata": {},
     "output_type": "execute_result"
    }
   ],
   "source": [
    "np.amax(mwf_td_3 - np.array(mwf_td_2))"
   ]
  },
  {
   "cell_type": "code",
   "execution_count": 14,
   "id": "7a0df7fd",
   "metadata": {},
   "outputs": [
    {
     "data": {
      "text/plain": [
       "'/home/vaishakprasad/.cache/MAYA/data/GT0001.h5'"
      ]
     },
     "execution_count": 14,
     "metadata": {},
     "output_type": "execute_result"
    }
   ],
   "source": [
    "mwf.filepath"
   ]
  },
  {
   "cell_type": "code",
   "execution_count": 15,
   "id": "427de687",
   "metadata": {},
   "outputs": [
    {
     "data": {
      "text/plain": [
       "{'time': array([-121.10666667, -120.9       , -120.69333333, ...,  137.22666667,\n",
       "         137.43333333,  137.64      ]),\n",
       " 'time_axis': 0,\n",
       " 'modes_axis': 1,\n",
       " 'ell_min': 2,\n",
       " 'ell_max': 6,\n",
       " 'metadata': {'simulation_name': 'GT0001',\n",
       "  'GT_Tag': 'fr_b3.1_a0.4_oth.000_M77',\n",
       "  'q': 1.0,\n",
       "  'a1x': 0.0,\n",
       "  'a1y': 0.0,\n",
       "  'a1z': 0.3999,\n",
       "  'a2x': -0.4001,\n",
       "  'a2y': 0.0,\n",
       "  'a2z': 0.0,\n",
       "  'af': nan,\n",
       "  'mf': nan,\n",
       "  'Momega': 0.09132},\n",
       " 'history': '',\n",
       " 'frame': quaternionic.array([[1., 0., 0., 0.]]),\n",
       " 'frame_type': 'inertial',\n",
       " 'data_type': 'h',\n",
       " 'spin_weight': -2,\n",
       " 'r_is_scaled_out': True,\n",
       " 'm_is_scaled_out': True}"
      ]
     },
     "execution_count": 15,
     "metadata": {},
     "output_type": "execute_result"
    }
   ],
   "source": [
    "mwf.metadata"
   ]
  },
  {
   "cell_type": "code",
   "execution_count": 16,
   "id": "2580401b",
   "metadata": {},
   "outputs": [
    {
     "data": {
      "text/plain": [
       "simulation_name                      GT0001\n",
       "GT_Tag             fr_b3.1_a0.4_oth.000_M77\n",
       "q                                       1.0\n",
       "a1x                                     0.0\n",
       "a1y                                     0.0\n",
       "a1z                                  0.3999\n",
       "a2x                                 -0.4001\n",
       "a2y                                     0.0\n",
       "a2z                                     0.0\n",
       "af                                      NaN\n",
       "mf                                      NaN\n",
       "Momega                              0.09132\n",
       "Name: GT0001, dtype: object"
      ]
     },
     "execution_count": 16,
     "metadata": {},
     "output_type": "execute_result"
    }
   ],
   "source": [
    "mc.get_metadata(sim_name)"
   ]
  },
  {
   "cell_type": "code",
   "execution_count": 17,
   "id": "9973a5be",
   "metadata": {},
   "outputs": [
    {
     "data": {
      "text/plain": [
       "PosixPath('/home/vaishakprasad/.cache/MAYA/data/GT0001.h5')"
      ]
     },
     "execution_count": 17,
     "metadata": {},
     "output_type": "execute_result"
    }
   ],
   "source": [
    "mc.waveform_filepath_from_simname(sim_name)"
   ]
  },
  {
   "cell_type": "code",
   "execution_count": 18,
   "id": "5a3cf722",
   "metadata": {},
   "outputs": [],
   "source": [
    "import h5py"
   ]
  },
  {
   "cell_type": "markdown",
   "id": "6ccd2916",
   "metadata": {},
   "source": [
    "import gc\n",
    "for obj in gc.get_objects():   # Browse through ALL objects\n",
    "    print(obj)\n",
    "    if isinstance(obj, h5py.File):   # Just HDF5 files\n",
    "        try:\n",
    "            obj.close()\n",
    "            print('Closed', obj)\n",
    "        except:\n",
    "            pass # Was already closed\n"
   ]
  },
  {
   "cell_type": "markdown",
   "id": "6a553c3e",
   "metadata": {},
   "source": [
    "# Method II :\n",
    "\n",
    "Using [the script](https://github.com/cevans216/gt-waveform-catalog/tree/master/scripts)"
   ]
  },
  {
   "cell_type": "code",
   "execution_count": 14,
   "id": "8ba0a313",
   "metadata": {},
   "outputs": [],
   "source": [
    "import lal"
   ]
  },
  {
   "cell_type": "code",
   "execution_count": 15,
   "id": "252da55b",
   "metadata": {},
   "outputs": [
    {
     "data": {
      "text/plain": [
       "'/home/vaishakprasad/soft/anaconda3/envs/nrcat/lib/python3.10/site-packages/lal/__init__.py'"
      ]
     },
     "execution_count": 15,
     "metadata": {},
     "output_type": "execute_result"
    }
   ],
   "source": [
    "# Lal path\n",
    "lal.__file__"
   ]
  },
  {
   "cell_type": "markdown",
   "id": "1c6520fb",
   "metadata": {},
   "source": [
    "## Original script, no changes"
   ]
  },
  {
   "cell_type": "markdown",
   "id": "efc2192c",
   "metadata": {},
   "source": [
    "import h5py\n",
    "import lal\n",
    "import lalsimulation as lalsim\n",
    "from pycbc import pnutils\n",
    "from matplotlib import pyplot\n",
    "import numpy\n",
    "\n",
    "file = f'{fdir}/data/GT0001.h5'\n",
    "\n",
    "f = h5py.File(file, 'r')\n",
    "\n",
    "params = {}\n",
    "\n",
    "# Extrinsic parameters:\n",
    "\n",
    "params['f_lower'] = 20.0\n",
    "params['mtotal'] = 150.0\n",
    "params['inclination'] = 0.0\n",
    "params['distance'] = 100.0\n",
    "\n",
    "# Metadata parameters:\n",
    "\n",
    "params['eta'] = f.attrs['eta']\n",
    "\n",
    "params['mass1'] = pnutils.mtotal_eta_to_mass1_mass2(params['mtotal'], params['eta'])[0]\n",
    "params['mass2'] = pnutils.mtotal_eta_to_mass1_mass2(params['mtotal'], params['eta'])[1]\n",
    "\n",
    "params['spin1x'] = f.attrs['spin1x']\n",
    "params['spin1y'] = f.attrs['spin1y']\n",
    "params['spin1z'] = f.attrs['spin1z']\n",
    "params['spin2x'] = f.attrs['spin2x']\n",
    "params['spin2y'] = f.attrs['spin2y']\n",
    "params['spin2z'] = f.attrs['spin2z']\n",
    "\n",
    "\n",
    "params['coa_phase'] = f.attrs['coa_phase']\n",
    "\n",
    "    \n",
    "f.close()\n",
    "\n",
    "#\n",
    "dt = 1.0/4096.0\n",
    "\n",
    "from pycbc.waveform import get_td_waveform\n",
    "\n",
    "hp, hc = get_td_waveform(approximant='NR_hdf5',\n",
    "                         numrel_data=file,\n",
    "                         mass1=params['mass1'],\n",
    "                         mass2=params['mass2'],\n",
    "\t\t\t spin1x=params['spin1x'],\n",
    "\t\t\t spin1y=params['spin1y'],\n",
    "                         spin1z=params['spin1z'],\n",
    "\t\t\t spin2x=params['spin2x'],\n",
    "                         spin2y=params['spin2y'],\n",
    "\t\t\t spin2z=params['spin2z'],\n",
    "                         delta_t=dt,\n",
    "                         f_lower=30.0,\n",
    "                         inclination=params['inclination'],\n",
    "                         coa_phase=params['coa_phase'],\n",
    "                         distance=params['distance'])\n",
    "\n",
    "#\n",
    "t = numpy.array(range( len(hp) ) )*dt\n",
    "pyplot.figure()\n",
    "pyplot.plot( t, hp, color=[0,0.7071,1] )\n",
    "pyplot.show()\n"
   ]
  },
  {
   "cell_type": "markdown",
   "id": "08413f35",
   "metadata": {},
   "source": [
    "Here, `coa_phase` is missing from h5 file's attributes. Correcting for this and loading the same simulation as in the catalogue load, "
   ]
  },
  {
   "cell_type": "code",
   "execution_count": 16,
   "id": "d3e41e2b",
   "metadata": {},
   "outputs": [],
   "source": [
    "def TransformSpinsNRtoLAL(nrSpin1, nrSpin2, n_hat, ln_hat):\n",
    "    ''' Trnasform the spins of the NR simulation from the\n",
    "    NR frame to the  frame.\n",
    "    Parameters\n",
    "    ----------\n",
    "    nrSpin1, nrSpin2 : list\n",
    "             A list of the components of the spins of the objects.\n",
    "    nhat, ln_hat : list\n",
    "             A list of the components of the unit vectors of the objects, \n",
    "             against which the components of the spins are specified.\n",
    "    Returns\n",
    "    -------\n",
    "    S1, S2 : list\n",
    "             The transformed spins in LAL frame.\n",
    "    '''\n",
    "    nrSpin1x, nrSpin1y, nrSpin1z = nrSpin1\n",
    "    nrSpin2x, nrSpin2y, nrSpin2z = nrSpin2\n",
    "    \n",
    "    n_hat_x, n_hat_y, n_hat_z = n_hat\n",
    "    ln_hat_x, ln_hat_y, ln_hat_z = ln_hat\n",
    "        \n",
    "    S1x = nrSpin1x * n_hat_x + nrSpin1y * n_hat_y + nrSpin1z * n_hat_z\n",
    "    \n",
    "    S1y = nrSpin1x * (-ln_hat_z * n_hat_y + ln_hat_y * n_hat_z)\\\n",
    "         + nrSpin1y * (ln_hat_z * n_hat_x - ln_hat_x * n_hat_z) \\\n",
    "         + nrSpin1z * (-ln_hat_y * n_hat_x + ln_hat_x * n_hat_y)\n",
    "            \n",
    "    S1z = nrSpin1x * ln_hat_x + nrSpin1y * ln_hat_y + nrSpin1z * ln_hat_z\n",
    "  \n",
    "    S2x = nrSpin2x * n_hat_x + nrSpin2y * n_hat_y + nrSpin2z * n_hat_z\n",
    "    S2y = nrSpin2x * (-ln_hat_z * n_hat_y + ln_hat_y * n_hat_z) \\\n",
    "         + nrSpin2y * (ln_hat_z * n_hat_x - ln_hat_x * n_hat_z) \\\n",
    "         + nrSpin2z * (-ln_hat_y * n_hat_x + ln_hat_x * n_hat_y)\n",
    "            \n",
    "    S2z = nrSpin2x * ln_hat_x + nrSpin2y * ln_hat_y + nrSpin2z * ln_hat_z\n",
    "    \n",
    "    S1 = [S1x, S1y, S1z]\n",
    "    S2 = [S2x, S2y, S2z]\n",
    "    \n",
    "    return S1, S2"
   ]
  },
  {
   "cell_type": "code",
   "execution_count": 17,
   "id": "adbbb34a",
   "metadata": {},
   "outputs": [
    {
     "name": "stdout",
     "output_type": "stream",
     "text": [
      "/home/vaishakprasad/soft/lalsuite/lalsuite-extra/data/lalsimulation\n"
     ]
    }
   ],
   "source": [
    "%%bash\n",
    "# Ensure threadsafe loading is off\n",
    "export HDF5_USE_FILE_LOCKING='FALSE'\n",
    "\n",
    "# LAL ROM dir\n",
    "#export LAL_DATA_PATH='/home/vaishakprasad/soft/lalsuite/lalsuite-extra/data/lalsimulation' \n",
    "export LAL_DATA_PATH='/home/vaishakprasad/soft/lalsuite/lalsuite-extra/data/lalsimulation'\n",
    "echo $LAL_DATA_PATH"
   ]
  },
  {
   "cell_type": "code",
   "execution_count": 18,
   "id": "2f0dc2e8",
   "metadata": {},
   "outputs": [],
   "source": [
    "from pycbc.waveform import td_approximants, fd_approximants\n",
    "\n",
    "# List of td approximants that are available\n",
    "#print(td_approximants())\n",
    "\n",
    "apx = 'SEOBNRv4_ROM'\n",
    "if apx not in td_approximants():\n",
    "    #print('Apx not loaded correctly!')\n",
    "    raise AttributeError(f'Approximant {apx} not found! Please check `LAL_DATA_PATH`')\n",
    "# List of fd approximants that are currently available\n",
    "#print(fd_approximants())"
   ]
  },
  {
   "cell_type": "code",
   "execution_count": 19,
   "id": "b093a20c",
   "metadata": {},
   "outputs": [
    {
     "name": "stdout",
     "output_type": "stream",
     "text": [
      "/home/vaishakprasad/soft/lalsuite/lalsuite-extra/data/lalsimulation\n"
     ]
    }
   ],
   "source": [
    "%%bash\n",
    "echo $LAL_DATA_PATH"
   ]
  },
  {
   "cell_type": "code",
   "execution_count": 20,
   "id": "f4260633",
   "metadata": {},
   "outputs": [],
   "source": [
    "\n",
    "import lal\n",
    "import lalsimulation as lalsim\n",
    "from pycbc import pnutils\n"
   ]
  },
  {
   "cell_type": "code",
   "execution_count": 21,
   "id": "1e35a0f0",
   "metadata": {},
   "outputs": [],
   "source": [
    "from nrcatalogtools.utils import maya_catalog_info\n",
    "import h5py\n",
    "from pycbc import pnutils"
   ]
  },
  {
   "cell_type": "markdown",
   "id": "f1ff3864",
   "metadata": {},
   "source": [
    "# Check h5 file attributes"
   ]
  },
  {
   "cell_type": "code",
   "execution_count": 32,
   "id": "a80006d4",
   "metadata": {},
   "outputs": [],
   "source": [
    "fdir = maya_catalog_info['cache_dir']\n",
    "fname = f'{fdir}/data/{sim_name}.h5'\n",
    "\n",
    "\n",
    "ff = h5py.File(fname)\n",
    "\n",
    "all_keys = list(ff.keys())\n",
    "all_attrs = list(ff.attrs.keys())\n",
    "\n",
    "ff.close()"
   ]
  },
  {
   "cell_type": "code",
   "execution_count": 33,
   "id": "78e776f8",
   "metadata": {},
   "outputs": [
    {
     "ename": "ValueError",
     "evalue": "Invalid location identifier (invalid location identifier)",
     "output_type": "error",
     "traceback": [
      "\u001b[0;31m---------------------------------------------------------------------------\u001b[0m",
      "\u001b[0;31mValueError\u001b[0m                                Traceback (most recent call last)",
      "Cell \u001b[0;32mIn[33], line 1\u001b[0m\n\u001b[0;32m----> 1\u001b[0m \u001b[43mff\u001b[49m\u001b[43m[\u001b[49m\u001b[38;5;124;43m'\u001b[39;49m\u001b[38;5;124;43mauxiliary-info\u001b[39;49m\u001b[38;5;124;43m'\u001b[39;49m\u001b[43m]\u001b[49m\n",
      "File \u001b[0;32mh5py/_objects.pyx:54\u001b[0m, in \u001b[0;36mh5py._objects.with_phil.wrapper\u001b[0;34m()\u001b[0m\n",
      "File \u001b[0;32mh5py/_objects.pyx:55\u001b[0m, in \u001b[0;36mh5py._objects.with_phil.wrapper\u001b[0;34m()\u001b[0m\n",
      "File \u001b[0;32m~/soft/anaconda3/envs/nrcat/lib/python3.10/site-packages/h5py/_hl/group.py:357\u001b[0m, in \u001b[0;36mGroup.__getitem__\u001b[0;34m(self, name)\u001b[0m\n\u001b[1;32m    355\u001b[0m         \u001b[38;5;28;01mraise\u001b[39;00m \u001b[38;5;167;01mValueError\u001b[39;00m(\u001b[38;5;124m\"\u001b[39m\u001b[38;5;124mInvalid HDF5 object reference\u001b[39m\u001b[38;5;124m\"\u001b[39m)\n\u001b[1;32m    356\u001b[0m \u001b[38;5;28;01melif\u001b[39;00m \u001b[38;5;28misinstance\u001b[39m(name, (\u001b[38;5;28mbytes\u001b[39m, \u001b[38;5;28mstr\u001b[39m)):\n\u001b[0;32m--> 357\u001b[0m     oid \u001b[38;5;241m=\u001b[39m \u001b[43mh5o\u001b[49m\u001b[38;5;241;43m.\u001b[39;49m\u001b[43mopen\u001b[49m\u001b[43m(\u001b[49m\u001b[38;5;28;43mself\u001b[39;49m\u001b[38;5;241;43m.\u001b[39;49m\u001b[43mid\u001b[49m\u001b[43m,\u001b[49m\u001b[43m \u001b[49m\u001b[38;5;28;43mself\u001b[39;49m\u001b[38;5;241;43m.\u001b[39;49m\u001b[43m_e\u001b[49m\u001b[43m(\u001b[49m\u001b[43mname\u001b[49m\u001b[43m)\u001b[49m\u001b[43m,\u001b[49m\u001b[43m \u001b[49m\u001b[43mlapl\u001b[49m\u001b[38;5;241;43m=\u001b[39;49m\u001b[38;5;28;43mself\u001b[39;49m\u001b[38;5;241;43m.\u001b[39;49m\u001b[43m_lapl\u001b[49m\u001b[43m)\u001b[49m\n\u001b[1;32m    358\u001b[0m \u001b[38;5;28;01melse\u001b[39;00m:\n\u001b[1;32m    359\u001b[0m     \u001b[38;5;28;01mraise\u001b[39;00m \u001b[38;5;167;01mTypeError\u001b[39;00m(\u001b[38;5;124m\"\u001b[39m\u001b[38;5;124mAccessing a group is done with bytes or str, \u001b[39m\u001b[38;5;124m\"\u001b[39m\n\u001b[1;32m    360\u001b[0m                     \u001b[38;5;124m\"\u001b[39m\u001b[38;5;124mnot \u001b[39m\u001b[38;5;132;01m{}\u001b[39;00m\u001b[38;5;124m\"\u001b[39m\u001b[38;5;241m.\u001b[39mformat(\u001b[38;5;28mtype\u001b[39m(name)))\n",
      "File \u001b[0;32mh5py/_objects.pyx:54\u001b[0m, in \u001b[0;36mh5py._objects.with_phil.wrapper\u001b[0;34m()\u001b[0m\n",
      "File \u001b[0;32mh5py/_objects.pyx:55\u001b[0m, in \u001b[0;36mh5py._objects.with_phil.wrapper\u001b[0;34m()\u001b[0m\n",
      "File \u001b[0;32mh5py/h5o.pyx:190\u001b[0m, in \u001b[0;36mh5py.h5o.open\u001b[0;34m()\u001b[0m\n",
      "\u001b[0;31mValueError\u001b[0m: Invalid location identifier (invalid location identifier)"
     ]
    }
   ],
   "source": [
    "ff['auxiliary-info']"
   ]
  },
  {
   "cell_type": "code",
   "execution_count": 34,
   "id": "fbbecfb3",
   "metadata": {},
   "outputs": [
    {
     "ename": "ValueError",
     "evalue": "Invalid location identifier (invalid location identifier)",
     "output_type": "error",
     "traceback": [
      "\u001b[0;31m---------------------------------------------------------------------------\u001b[0m",
      "\u001b[0;31mValueError\u001b[0m                                Traceback (most recent call last)",
      "Cell \u001b[0;32mIn[34], line 1\u001b[0m\n\u001b[0;32m----> 1\u001b[0m \u001b[43mff\u001b[49m\u001b[38;5;241;43m.\u001b[39;49m\u001b[43mattrs\u001b[49m[\u001b[38;5;124m'\u001b[39m\u001b[38;5;124mOmega\u001b[39m\u001b[38;5;124m'\u001b[39m]\n",
      "File \u001b[0;32m~/soft/anaconda3/envs/nrcat/lib/python3.10/site-packages/h5py/_hl/files.py:286\u001b[0m, in \u001b[0;36mFile.attrs\u001b[0;34m(self)\u001b[0m\n\u001b[1;32m    284\u001b[0m \u001b[38;5;28;01mfrom\u001b[39;00m \u001b[38;5;21;01m.\u001b[39;00m \u001b[38;5;28;01mimport\u001b[39;00m attrs\n\u001b[1;32m    285\u001b[0m \u001b[38;5;28;01mwith\u001b[39;00m phil:\n\u001b[0;32m--> 286\u001b[0m     \u001b[38;5;28;01mreturn\u001b[39;00m attrs\u001b[38;5;241m.\u001b[39mAttributeManager(\u001b[38;5;28;43mself\u001b[39;49m\u001b[43m[\u001b[49m\u001b[38;5;124;43m'\u001b[39;49m\u001b[38;5;124;43m/\u001b[39;49m\u001b[38;5;124;43m'\u001b[39;49m\u001b[43m]\u001b[49m)\n",
      "File \u001b[0;32mh5py/_objects.pyx:54\u001b[0m, in \u001b[0;36mh5py._objects.with_phil.wrapper\u001b[0;34m()\u001b[0m\n",
      "File \u001b[0;32mh5py/_objects.pyx:55\u001b[0m, in \u001b[0;36mh5py._objects.with_phil.wrapper\u001b[0;34m()\u001b[0m\n",
      "File \u001b[0;32m~/soft/anaconda3/envs/nrcat/lib/python3.10/site-packages/h5py/_hl/group.py:357\u001b[0m, in \u001b[0;36mGroup.__getitem__\u001b[0;34m(self, name)\u001b[0m\n\u001b[1;32m    355\u001b[0m         \u001b[38;5;28;01mraise\u001b[39;00m \u001b[38;5;167;01mValueError\u001b[39;00m(\u001b[38;5;124m\"\u001b[39m\u001b[38;5;124mInvalid HDF5 object reference\u001b[39m\u001b[38;5;124m\"\u001b[39m)\n\u001b[1;32m    356\u001b[0m \u001b[38;5;28;01melif\u001b[39;00m \u001b[38;5;28misinstance\u001b[39m(name, (\u001b[38;5;28mbytes\u001b[39m, \u001b[38;5;28mstr\u001b[39m)):\n\u001b[0;32m--> 357\u001b[0m     oid \u001b[38;5;241m=\u001b[39m \u001b[43mh5o\u001b[49m\u001b[38;5;241;43m.\u001b[39;49m\u001b[43mopen\u001b[49m\u001b[43m(\u001b[49m\u001b[38;5;28;43mself\u001b[39;49m\u001b[38;5;241;43m.\u001b[39;49m\u001b[43mid\u001b[49m\u001b[43m,\u001b[49m\u001b[43m \u001b[49m\u001b[38;5;28;43mself\u001b[39;49m\u001b[38;5;241;43m.\u001b[39;49m\u001b[43m_e\u001b[49m\u001b[43m(\u001b[49m\u001b[43mname\u001b[49m\u001b[43m)\u001b[49m\u001b[43m,\u001b[49m\u001b[43m \u001b[49m\u001b[43mlapl\u001b[49m\u001b[38;5;241;43m=\u001b[39;49m\u001b[38;5;28;43mself\u001b[39;49m\u001b[38;5;241;43m.\u001b[39;49m\u001b[43m_lapl\u001b[49m\u001b[43m)\u001b[49m\n\u001b[1;32m    358\u001b[0m \u001b[38;5;28;01melse\u001b[39;00m:\n\u001b[1;32m    359\u001b[0m     \u001b[38;5;28;01mraise\u001b[39;00m \u001b[38;5;167;01mTypeError\u001b[39;00m(\u001b[38;5;124m\"\u001b[39m\u001b[38;5;124mAccessing a group is done with bytes or str, \u001b[39m\u001b[38;5;124m\"\u001b[39m\n\u001b[1;32m    360\u001b[0m                     \u001b[38;5;124m\"\u001b[39m\u001b[38;5;124mnot \u001b[39m\u001b[38;5;132;01m{}\u001b[39;00m\u001b[38;5;124m\"\u001b[39m\u001b[38;5;241m.\u001b[39mformat(\u001b[38;5;28mtype\u001b[39m(name)))\n",
      "File \u001b[0;32mh5py/_objects.pyx:54\u001b[0m, in \u001b[0;36mh5py._objects.with_phil.wrapper\u001b[0;34m()\u001b[0m\n",
      "File \u001b[0;32mh5py/_objects.pyx:55\u001b[0m, in \u001b[0;36mh5py._objects.with_phil.wrapper\u001b[0;34m()\u001b[0m\n",
      "File \u001b[0;32mh5py/h5o.pyx:190\u001b[0m, in \u001b[0;36mh5py.h5o.open\u001b[0;34m()\u001b[0m\n",
      "\u001b[0;31mValueError\u001b[0m: Invalid location identifier (invalid location identifier)"
     ]
    }
   ],
   "source": [
    "ff.attrs['Omega']"
   ]
  },
  {
   "cell_type": "code",
   "execution_count": 35,
   "id": "52fde725",
   "metadata": {
    "scrolled": true
   },
   "outputs": [
    {
     "data": {
      "text/plain": [
       "['Contact Person',\n",
       " 'Format',\n",
       " 'INSPIRE-bibtex-keys',\n",
       " 'LNhatx',\n",
       " 'LNhaty',\n",
       " 'LNhatz',\n",
       " 'Lmax',\n",
       " 'NR-code',\n",
       " 'NR-group',\n",
       " 'NR-techniques',\n",
       " 'Omega',\n",
       " 'PN_approximant',\n",
       " 'Warning1',\n",
       " 'alternative-names',\n",
       " 'comparable-simulation',\n",
       " 'eccentricity',\n",
       " 'eta',\n",
       " 'f_lower_at_1MSUN',\n",
       " 'f_lower_at_1MSUN ',\n",
       " 'files-in-error-series',\n",
       " 'horizon_mass1',\n",
       " 'horizon_mass2',\n",
       " 'init_sep',\n",
       " 'license',\n",
       " 'mean_anomaly',\n",
       " 'modification-date',\n",
       " 'name',\n",
       " 'nhatx',\n",
       " 'nhaty',\n",
       " 'nhatz',\n",
       " 'number_of_orbits',\n",
       " 'object1',\n",
       " 'object2',\n",
       " 'point-of-contact-email',\n",
       " 'production-run',\n",
       " 'puncture_mass1',\n",
       " 'puncture_mass2',\n",
       " 'simulation-type',\n",
       " 'spin1x',\n",
       " 'spin1y',\n",
       " 'spin1z',\n",
       " 'spin2x',\n",
       " 'spin2y',\n",
       " 'spin2z',\n",
       " 'type']"
      ]
     },
     "execution_count": 35,
     "metadata": {},
     "output_type": "execute_result"
    }
   ],
   "source": [
    "all_attrs"
   ]
  },
  {
   "cell_type": "code",
   "execution_count": 36,
   "id": "59133c5a",
   "metadata": {
    "scrolled": true
   },
   "outputs": [
    {
     "data": {
      "text/plain": [
       "['amp_l2_m-1',\n",
       " 'amp_l2_m-2',\n",
       " 'amp_l2_m0',\n",
       " 'amp_l2_m1',\n",
       " 'amp_l2_m2',\n",
       " 'amp_l3_m-1',\n",
       " 'amp_l3_m-2',\n",
       " 'amp_l3_m-3',\n",
       " 'amp_l3_m0',\n",
       " 'amp_l3_m1',\n",
       " 'amp_l3_m2',\n",
       " 'amp_l3_m3',\n",
       " 'amp_l4_m-1',\n",
       " 'amp_l4_m-2',\n",
       " 'amp_l4_m-3',\n",
       " 'amp_l4_m-4',\n",
       " 'amp_l4_m0',\n",
       " 'amp_l4_m1',\n",
       " 'amp_l4_m2',\n",
       " 'amp_l4_m3',\n",
       " 'amp_l4_m4',\n",
       " 'amp_l5_m-1',\n",
       " 'amp_l5_m-2',\n",
       " 'amp_l5_m-3',\n",
       " 'amp_l5_m-4',\n",
       " 'amp_l5_m-5',\n",
       " 'amp_l5_m0',\n",
       " 'amp_l5_m1',\n",
       " 'amp_l5_m2',\n",
       " 'amp_l5_m3',\n",
       " 'amp_l5_m4',\n",
       " 'amp_l5_m5',\n",
       " 'amp_l6_m-1',\n",
       " 'amp_l6_m-2',\n",
       " 'amp_l6_m-3',\n",
       " 'amp_l6_m-4',\n",
       " 'amp_l6_m-5',\n",
       " 'amp_l6_m-6',\n",
       " 'amp_l6_m0',\n",
       " 'amp_l6_m1',\n",
       " 'amp_l6_m2',\n",
       " 'amp_l6_m3',\n",
       " 'amp_l6_m4',\n",
       " 'amp_l6_m5',\n",
       " 'amp_l6_m6',\n",
       " 'auxiliary-info',\n",
       " 'phase_l2_m-1',\n",
       " 'phase_l2_m-2',\n",
       " 'phase_l2_m0',\n",
       " 'phase_l2_m1',\n",
       " 'phase_l2_m2',\n",
       " 'phase_l3_m-1',\n",
       " 'phase_l3_m-2',\n",
       " 'phase_l3_m-3',\n",
       " 'phase_l3_m0',\n",
       " 'phase_l3_m1',\n",
       " 'phase_l3_m2',\n",
       " 'phase_l3_m3',\n",
       " 'phase_l4_m-1',\n",
       " 'phase_l4_m-2',\n",
       " 'phase_l4_m-3',\n",
       " 'phase_l4_m-4',\n",
       " 'phase_l4_m0',\n",
       " 'phase_l4_m1',\n",
       " 'phase_l4_m2',\n",
       " 'phase_l4_m3',\n",
       " 'phase_l4_m4',\n",
       " 'phase_l5_m-1',\n",
       " 'phase_l5_m-2',\n",
       " 'phase_l5_m-3',\n",
       " 'phase_l5_m-4',\n",
       " 'phase_l5_m-5',\n",
       " 'phase_l5_m0',\n",
       " 'phase_l5_m1',\n",
       " 'phase_l5_m2',\n",
       " 'phase_l5_m3',\n",
       " 'phase_l5_m4',\n",
       " 'phase_l5_m5',\n",
       " 'phase_l6_m-1',\n",
       " 'phase_l6_m-2',\n",
       " 'phase_l6_m-3',\n",
       " 'phase_l6_m-4',\n",
       " 'phase_l6_m-5',\n",
       " 'phase_l6_m-6',\n",
       " 'phase_l6_m0',\n",
       " 'phase_l6_m1',\n",
       " 'phase_l6_m2',\n",
       " 'phase_l6_m3',\n",
       " 'phase_l6_m4',\n",
       " 'phase_l6_m5',\n",
       " 'phase_l6_m6']"
      ]
     },
     "execution_count": 36,
     "metadata": {},
     "output_type": "execute_result"
    }
   ],
   "source": [
    "all_keys"
   ]
  },
  {
   "cell_type": "code",
   "execution_count": 38,
   "id": "28d7374d",
   "metadata": {},
   "outputs": [
    {
     "data": {
      "text/plain": [
       "<Closed HDF5 file>"
      ]
     },
     "execution_count": 38,
     "metadata": {},
     "output_type": "execute_result"
    }
   ],
   "source": [
    "ff"
   ]
  },
  {
   "cell_type": "code",
   "execution_count": 46,
   "id": "e7ca33d0",
   "metadata": {
    "scrolled": true
   },
   "outputs": [
    {
     "name": "stdout",
     "output_type": "stream",
     "text": [
      "Cannot find the attribute `coa_phase` in the file. Setting to 0.5235987755982988\n",
      "Loading waveform\n"
     ]
    },
    {
     "data": {
      "image/png": "[encoded data removed]",
      "text/plain": [
       "<Figure size 432x288 with 1 Axes>"
      ]
     },
     "metadata": {
      "needs_background": "light"
     },
     "output_type": "display_data"
    }
   ],
   "source": [
    "\n",
    "\n",
    "\n",
    "fdir = maya_catalog_info['cache_dir']\n",
    "file = f'{fdir}/data/{sim_name}.h5'\n",
    "\n",
    "\n",
    "#file = f'/home/vaishakprasad/{sim_name}.h5'\n",
    "# Check by changing spin by small amount\n",
    "#dspins2x = np.linspace(-0.1, 0.1, 1000)\n",
    "try:\n",
    "    f.close()\n",
    "except:\n",
    "    pass\n",
    "\n",
    "f = h5py.File(file, 'a')\n",
    "if 'f_lower_at_1MSUN' not in list(f.attrs.keys()):\n",
    "    \n",
    "    f.attrs['f_lower_at_1MSUN'] = f_lower_at_1MSUN\n",
    "    f.close()\n",
    "else:\n",
    "    f.close()\n",
    "    \n",
    "f = h5py.File(file, 'r')\n",
    "    \n",
    "#print(f.attrs.keys())\n",
    "#print(f.keys())\n",
    "params = {}\n",
    "\n",
    "# Extrinsic parameters:\n",
    "f_lower = 20\n",
    "f_lower_at_1MSUN = f_lower/M\n",
    "\n",
    "\n",
    "\n",
    "params['f_lower'] = f_lower\n",
    "params['mtotal'] = M#150.0\n",
    "params['inclination'] = inc#0.0\n",
    "params['distance'] = D#100.0\n",
    "\n",
    "# Metadata parameters:\n",
    "\n",
    "params['eta'] = f.attrs['eta']\n",
    "\n",
    "params['mass1'] = pnutils.mtotal_eta_to_mass1_mass2(params['mtotal'], params['eta'])[0]\n",
    "params['mass2'] = pnutils.mtotal_eta_to_mass1_mass2(params['mtotal'], params['eta'])[1]\n",
    "\n",
    "# BH1 spins\n",
    "params['spin1x'] = f.attrs['spin1x']\n",
    "params['spin1y'] = f.attrs['spin1y']\n",
    "params['spin1z'] = f.attrs['spin1z']\n",
    "\n",
    "\n",
    "# BH2 spins\n",
    "\n",
    "params['spin2x'] = f.attrs['spin2x']\n",
    "params['spin2y'] = f.attrs['spin2y']\n",
    "params['spin2z'] = f.attrs['spin2z']\n",
    "\n",
    "\n",
    "# Spin unit vectors\n",
    "\n",
    "params['nhat'] = [f.attrs['nhatx'], f.attrs['nhaty'], f.attrs['nhatz']]\n",
    "params['lnhat'] = [f.attrs['LNhatx'], f.attrs['LNhaty'], f.attrs['LNhatz']]\n",
    "\n",
    "\n",
    "# Check for coa_phase, else use the phase from nr cat load.\n",
    "try:\n",
    "    params['coa_phase'] = f.attrs['coa_phase']\n",
    "except:\n",
    "    print(f'Cannot find the attribute `coa_phase` in the file. Setting to {coa_phase}')\n",
    "    #raise AttributeError('Cannot find the attribute `coa_phase` in the file')\n",
    "    params['coa_phase']=coa_phase\n",
    "\n",
    "# Transform spins\n",
    "\n",
    "# NR frame\n",
    "s1 = [params['spin1x'], params['spin1y'], params['spin1z']]\n",
    "s2 = [params['spin2x'], params['spin2y'], params['spin2z']]\n",
    "\n",
    "# LAL frame\n",
    "S1, S2 = TransformSpinsNRtoLAL(s1, s2, params['nhat'], params['lnhat'])\n",
    "\n",
    "from pycbc.waveform import get_td_waveform\n",
    "\n",
    "\n",
    "print('Loading waveform')\n",
    "hp2, hx2 = get_td_waveform(approximant='NR_hdf5',\n",
    "                         numrel_data=file,\n",
    "                         mass1=params['mass1'],\n",
    "                         mass2=params['mass2'],\n",
    "                         spin1x=S1[0],\n",
    "                         spin1y=S1[1],\n",
    "                         spin1z=S1[2],\n",
    "                         spin2x=S2[0],\n",
    "                         spin2y=S2[1],\n",
    "                         spin2z=S2[2],\n",
    "                         delta_t=delta_t,\n",
    "                         f_lower=f_lower,\n",
    "                         inclination=params['inclination'],\n",
    "                         coa_phase=params['coa_phase'],\n",
    "                         distance=params['distance'])\n",
    "\n",
    "#\n",
    "t = np.array(range( len(hp2) ) )*delta_t\n",
    "\n",
    "#pyplot.figure()\n",
    "plt.plot(t, hp2, color=[0,0.7071,1])\n",
    "plt.plot(t, hx2, color=[0.1,0,0])\n",
    "plt.show()\n",
    "f.close()"
   ]
  },
  {
   "cell_type": "code",
   "execution_count": 47,
   "id": "9c184807",
   "metadata": {},
   "outputs": [],
   "source": [
    "mloc2 = np.argmax(hp2**2 + hx2**2)"
   ]
  },
  {
   "cell_type": "code",
   "execution_count": 48,
   "id": "0a195bfb",
   "metadata": {},
   "outputs": [],
   "source": [
    "t-=t[mloc2]"
   ]
  },
  {
   "cell_type": "code",
   "execution_count": 49,
   "id": "0cfd309c",
   "metadata": {},
   "outputs": [],
   "source": [
    "t1 = hp1.sample_times\n",
    "t1 = t1 - t1[np.argmax(np.absolute(hp1 + 1j*hx1))]"
   ]
  },
  {
   "cell_type": "code",
   "execution_count": 50,
   "id": "f869242f",
   "metadata": {},
   "outputs": [
    {
     "data": {
      "image/png": "[encoded data removed]",
      "text/plain": [
       "<Figure size 432x288 with 1 Axes>"
      ]
     },
     "metadata": {
      "needs_background": "light"
     },
     "output_type": "display_data"
    }
   ],
   "source": [
    "plt.plot(t, hp2, color=[0,0.7071,1], label='lal')\n",
    "#plt.plot(t, hc2, color=[0.1,0,0])\n",
    "plt.plot(t1, hp1, label='nrcat')\n",
    "#plt.plot(hc1.sample_times, hc1)\n",
    "plt.legend()\n",
    "plt.show()"
   ]
  },
  {
   "cell_type": "code",
   "execution_count": 43,
   "id": "7bf9738c",
   "metadata": {},
   "outputs": [
    {
     "data": {
      "image/png": "[encoded data removed]",
      "text/plain": [
       "<Figure size 432x288 with 1 Axes>"
      ]
     },
     "metadata": {
      "needs_background": "light"
     },
     "output_type": "display_data"
    }
   ],
   "source": [
    "plt.plot(t, np.absolute(hp2 + 1j*hx2), color=[0,0.7071,1], label='lal')\n",
    "#plt.plot(t, hc2, color=[0.1,0,0])\n",
    "plt.plot(t1, np.absolute(hp1 + 1j*hx1), label='nrcat')\n",
    "#plt.plot(hc1.sample_times, hc1)\n",
    "plt.legend()\n",
    "plt.show()"
   ]
  },
  {
   "cell_type": "code",
   "execution_count": 84,
   "id": "61b92a20",
   "metadata": {},
   "outputs": [
    {
     "data": {
      "text/plain": [
       "((1.922976876902883e-22-8.430373387040842e-23j),\n",
       " (1.9229768786447812e-22+8.430371908950888e-23j))"
      ]
     },
     "execution_count": 84,
     "metadata": {},
     "output_type": "execute_result"
    }
   ],
   "source": [
    "np.amax(np.array(wf1)), np.amax(np.array(wf2))"
   ]
  },
  {
   "cell_type": "code",
   "execution_count": 29,
   "id": "d97ec218",
   "metadata": {},
   "outputs": [],
   "source": [
    "wf1 = hp1 + 1j*hx1"
   ]
  },
  {
   "cell_type": "code",
   "execution_count": 30,
   "id": "6a2631b6",
   "metadata": {},
   "outputs": [],
   "source": [
    "wf2 = hp2 + 1j*hx2"
   ]
  },
  {
   "cell_type": "code",
   "execution_count": 31,
   "id": "e55d90e6",
   "metadata": {},
   "outputs": [
    {
     "data": {
      "text/plain": [
       "(105, 105)"
      ]
     },
     "execution_count": 31,
     "metadata": {},
     "output_type": "execute_result"
    }
   ],
   "source": [
    "len(wf1), len(wf2)"
   ]
  },
  {
   "cell_type": "code",
   "execution_count": 32,
   "id": "8eb21bf2",
   "metadata": {},
   "outputs": [],
   "source": [
    "import waveformtools"
   ]
  },
  {
   "cell_type": "code",
   "execution_count": 33,
   "id": "aba453b4",
   "metadata": {},
   "outputs": [
    {
     "ename": "AttributeError",
     "evalue": "module 'waveformtools' has no attribute 'waveformtools'",
     "output_type": "error",
     "traceback": [
      "\u001b[0;31m---------------------------------------------------------------------------\u001b[0m",
      "\u001b[0;31mAttributeError\u001b[0m                            Traceback (most recent call last)",
      "Cell \u001b[0;32mIn[33], line 2\u001b[0m\n\u001b[1;32m      1\u001b[0m \u001b[38;5;28;01mfrom\u001b[39;00m \u001b[38;5;21;01mimportlib\u001b[39;00m \u001b[38;5;28;01mimport\u001b[39;00m reload\n\u001b[0;32m----> 2\u001b[0m reload(\u001b[43mwaveformtools\u001b[49m\u001b[38;5;241;43m.\u001b[39;49m\u001b[43mwaveformtools\u001b[49m)\n",
      "\u001b[0;31mAttributeError\u001b[0m: module 'waveformtools' has no attribute 'waveformtools'"
     ]
    }
   ],
   "source": [
    "from importlib import reload\n",
    "reload(waveformtools.waveformtools)"
   ]
  },
  {
   "cell_type": "code",
   "execution_count": 34,
   "id": "1ec3f91f",
   "metadata": {},
   "outputs": [],
   "source": [
    "from waveformtools.waveformtools import match_wfs"
   ]
  },
  {
   "cell_type": "code",
   "execution_count": 103,
   "id": "bc31bb5f",
   "metadata": {},
   "outputs": [
    {
     "name": "stdout",
     "output_type": "stream",
     "text": [
      "0\n"
     ]
    }
   ],
   "source": [
    "if (t==np.array(hp1.sample_times)).all():\n",
    "    print(1)\n",
    "else: print(0)"
   ]
  },
  {
   "cell_type": "code",
   "execution_count": 35,
   "id": "e71dc087",
   "metadata": {},
   "outputs": [
    {
     "name": "stderr",
     "output_type": "stream",
     "text": [
      "/home/vaishakprasad/Documents/Codes/waveformtools/waveformtools/waveformtools.py:2410: FutureWarning: Unlike other reduction functions (e.g. `skew`, `kurtosis`), the default behavior of `mode` typically preserves the axis it acts along. In SciPy 1.11.0, this behavior will change: the default value of `keepdims` will become False, the `axis` over which the statistic is taken will be eliminated, and the value None will no longer be accepted. Set `keepdims` to True or False to avoid this warning.\n",
      "  delta_t = mode(np.diff(sorted(time_axis1)))[0][0]\n"
     ]
    },
    {
     "name": "stdout",
     "output_type": "stream",
     "text": [
      "Interpolating time axis\n",
      "Taxis limits\n",
      "WF1 tmin -0.0244140625 tmax 0.0263671875\n",
      "WF2 tmin -0.023860392 tmax 0.026920858\n",
      "-----------------------------------\n",
      " Shift information for waveform 2 against 1 \n",
      "\n",
      "Recovered Time shift: 0.00048828125\n",
      "Recovered Phase shift: (0.9999982636933844+0.0018634940880789706j), (0.0018634951666120908+6.323712722862738e-17j) in radians\n",
      "-----------------------------------\n"
     ]
    }
   ],
   "source": [
    "md = match_wfs([t, np.array(hp1.sample_times)], [np.array(wf1).real, np.array(wf2).real])"
   ]
  },
  {
   "cell_type": "code",
   "execution_count": 88,
   "id": "2a2ea17d",
   "metadata": {},
   "outputs": [
    {
     "name": "stdout",
     "output_type": "stream",
     "text": [
      "Help on function match_wfs in module waveformtools.waveformtools:\n",
      "\n",
      "match_wfs(all_time_axes, all_waveforms, delta_t='auto')\n",
      "    Match two waveforms and return the time shift,\n",
      "    phase shift, normalized waveforms and match coefficient.\n",
      "    \n",
      "    Parameters\n",
      "    ----------\n",
      "    time_axes: list\n",
      "            A list containing the time axes\n",
      "            of the two waveforms\n",
      "    \n",
      "    waveforms: list\n",
      "                A list of two waveforms.\n",
      "                Each is a 1d array.\n",
      "    delta_t: float, string, optional\n",
      "             The time step of the resampled arrays.\n",
      "             Can be A, B, auto or any float value.\n",
      "    \n",
      "    Returns\n",
      "    -------\n",
      "    match_details: dict\n",
      "                    A dictionary containing the\n",
      "                    i). match coeffient\n",
      "                    ii). time_shift\n",
      "                    iii). phase shift in radians\n",
      "                    iv). normalized, resampled, waveforms and their\n",
      "                         time-axes.\n",
      "    \n",
      "    Note\n",
      "    ----\n",
      "    The shifts give by how much the first waveform has to be shifted to match with the second.\n",
      "\n"
     ]
    }
   ],
   "source": [
    "help(match_wfs)"
   ]
  },
  {
   "cell_type": "code",
   "execution_count": null,
   "id": "9c2b4895",
   "metadata": {},
   "outputs": [],
   "source": [
    "wf1/"
   ]
  },
  {
   "cell_type": "code",
   "execution_count": 30,
   "id": "56b8e717",
   "metadata": {},
   "outputs": [],
   "source": [
    "from pycbc.types.timeseries import TimeSeries\n",
    "from pycbc.filter.matchedfilter import match\n",
    "from pycbc.waveform.utils import coalign_waveforms"
   ]
  },
  {
   "cell_type": "markdown",
   "id": "ec0500f9",
   "metadata": {},
   "source": [
    "hp2_ts = TimeSeries(hp2, delta_t=delta_t)\n",
    "hx2_ts = TimeSeries(hx2, delta_t=delta_t)\n",
    "\n",
    "mp, sp = match(hp1, hp2_ts)\n",
    "mx, sx = match(hx1, hx2_ts)\n",
    "\n",
    "wf1_p, wf2_p = coalign_waveforms(hp1, hp2_ts)\n",
    "wf1_x, wf2_x = coalign_waveforms(hx1, hx2_ts)"
   ]
  },
  {
   "cell_type": "code",
   "execution_count": 31,
   "id": "94e8607e",
   "metadata": {},
   "outputs": [],
   "source": [
    "hp2_ts = TimeSeries(hp2, delta_t=delta_t)\n",
    "hx2_ts = TimeSeries(hx2, delta_t=delta_t)\n",
    "\n",
    "mp, sp = match(hp1, hp2_ts)\n",
    "mx, sx = match(hx1, hx2_ts)\n",
    "\n",
    "wf1_p, wf2_p = coalign_waveforms(hp1, hp2_ts)\n",
    "wf1_x, wf2_x = coalign_waveforms(hx1, hx2_ts)\n",
    "\n",
    "# Normalize the arrays\n",
    "wf1 = np.array(wf1_p) + 1j*np.array(wf1_x)\n",
    "wf2 = np.array(wf2_p) + 1j*np.array(wf2_x)\n",
    "\n",
    "n1 = np.sqrt(np.dot(wf1, np.conjugate(wf1)))\n",
    "n2 = np.sqrt(np.dot(wf2, np.conjugate(wf2)))\n",
    "\n",
    "wf1 = wf1/n1\n",
    "wf2 = wf2/n2\n",
    "\n",
    "wf1_p = wf1.real\n",
    "wf1_x = wf1.imag\n",
    "\n",
    "wf2_p = wf2.real\n",
    "wf2_x = wf2.imag\n",
    "\n",
    "wf1_p = TimeSeries(wf1_p, delta_t)\n",
    "wf1_x = TimeSeries(wf1_x, delta_t)\n",
    "wf2_p = TimeSeries(wf2_p, delta_t)\n",
    "wf2_x = TimeSeries(wf2_x, delta_t)"
   ]
  },
  {
   "cell_type": "code",
   "execution_count": null,
   "id": "89d350aa",
   "metadata": {},
   "outputs": [],
   "source": []
  },
  {
   "cell_type": "code",
   "execution_count": 33,
   "id": "9d321397",
   "metadata": {},
   "outputs": [
    {
     "data": {
      "text/plain": [
       "0.9999999999721022"
      ]
     },
     "execution_count": 33,
     "metadata": {},
     "output_type": "execute_result"
    }
   ],
   "source": [
    "mp"
   ]
  },
  {
   "cell_type": "code",
   "execution_count": 36,
   "id": "5891ce20",
   "metadata": {},
   "outputs": [
    {
     "data": {
      "text/plain": [
       "(1.0386251447832684-0.05936415918147342j)"
      ]
     },
     "execution_count": 36,
     "metadata": {},
     "output_type": "execute_result"
    }
   ],
   "source": [
    "np.amax(wf2/wf1)"
   ]
  },
  {
   "cell_type": "code",
   "execution_count": null,
   "id": "af7ec059",
   "metadata": {},
   "outputs": [],
   "source": []
  },
  {
   "cell_type": "code",
   "execution_count": 38,
   "id": "49117514",
   "metadata": {},
   "outputs": [
    {
     "data": {
      "image/png": "[encoded data removed]",
      "text/plain": [
       "<Figure size 432x288 with 1 Axes>"
      ]
     },
     "metadata": {
      "needs_background": "light"
     },
     "output_type": "display_data"
    }
   ],
   "source": [
    "plt.plot(wf2_p.sample_times, wf2_p, color=[0,0.7071,1], label='lal')\n",
    "#plt.plot(t, hc2, color=[0.1,0,0])\n",
    "plt.plot(wf1_p.sample_times, wf1_p, label='nrcat')\n",
    "#plt.plot(hc1.sample_times, hc1)\n",
    "plt.legend()\n",
    "plt.show()"
   ]
  },
  {
   "cell_type": "code",
   "execution_count": null,
   "id": "b8aa1845",
   "metadata": {},
   "outputs": [],
   "source": []
  },
  {
   "cell_type": "code",
   "execution_count": 38,
   "id": "a8c54897",
   "metadata": {},
   "outputs": [],
   "source": [
    "dwf_p = np.array(wf1_p) - np.array(wf2_p)\n",
    "dwf_x = np.array(wf1_x) - np.array(wf2_x)"
   ]
  },
  {
   "cell_type": "code",
   "execution_count": 39,
   "id": "f38e611e",
   "metadata": {},
   "outputs": [
    {
     "data": {
      "image/png": "[encoded data removed]",
      "text/plain": [
       "<Figure size 432x288 with 1 Axes>"
      ]
     },
     "metadata": {
      "needs_background": "light"
     },
     "output_type": "display_data"
    }
   ],
   "source": [
    "#plt.plot(wf2.sample_times, wf2, color=[0,0.7071,1], label='lal')\n",
    "#plt.plot(t, hc2, color=[0.1,0,0])\n",
    "plt.plot(wf1_p.sample_times, dwf_p, label='diff +')\n",
    "plt.plot(wf1_p.sample_times, dwf_x, label='diff x')\n",
    "#plt.plot(hc1.sample_times, hc1)\n",
    "plt.legend()\n",
    "plt.show()"
   ]
  },
  {
   "cell_type": "markdown",
   "id": "44c52eaf",
   "metadata": {},
   "source": [
    "# Tests"
   ]
  },
  {
   "cell_type": "code",
   "execution_count": 53,
   "id": "1362530f",
   "metadata": {},
   "outputs": [],
   "source": [
    "def RMSerrs(func1, func2):\n",
    "    ''' Compute and return the error estimates between two arrays\n",
    "    \n",
    "    Parameters\n",
    "    ----------\n",
    "    func1, func2 : ndarray\n",
    "                   Arrays of same shape to compare with.\n",
    "    info : sphericalarray\n",
    "           Grid info\n",
    "    \n",
    "    Returns\n",
    "    -------\n",
    "    RMS : float\n",
    "          The RMS error\n",
    "    Amax : float\n",
    "           The max diff relative to A1max\n",
    "    Amin : float the min diff relative to A2max\n",
    "    '''\n",
    "    A1max = np.amax(np.absolute(func1))\n",
    "\n",
    "    diff = (func1 - func2)\n",
    "\n",
    "    Amax = np.amax(diff)/A1max\n",
    "    Amin = np.amin(diff)/A1max\n",
    "\n",
    "    RMS = np.sqrt(np.sum(np.absolute(diff)**2)/len(func1))/A1max\n",
    "\n",
    "    return RMS, Amin, Amax"
   ]
  },
  {
   "cell_type": "code",
   "execution_count": 68,
   "id": "ab260b88",
   "metadata": {},
   "outputs": [
    {
     "name": "stderr",
     "output_type": "stream",
     "text": [
      "test_waveforms (__main__.TestMaya)\n",
      "Test the MAYA loading of waveforms against ... ok\n",
      "\n",
      "----------------------------------------------------------------------\n",
      "Ran 1 test in 0.066s\n",
      "\n",
      "OK\n"
     ]
    }
   ],
   "source": [
    "import unittest\n",
    "\n",
    "\n",
    "class TestMaya(unittest.TestCase):\n",
    "    ''' Test loading of MAYA waveforms '''\n",
    "    \n",
    "    def test_waveforms(self):\n",
    "        ''' Test the MAYA loading of waveforms against \n",
    "        that loading using lalsimulation. Tested are RMS errors, maximum deviation and mismatches'''\n",
    "        \n",
    "      \n",
    "        \n",
    "        # L2 errors\n",
    "        Res_p, Amin_p, Amax_p = RMSerrs(np.array(wf1_p), np.array(wf2_p))\n",
    "        Res_x, Amin_x, Amax_x = RMSerrs(np.array(wf1_x), np.array(wf2_x))\n",
    "        \n",
    "        wf1 = np.array(wf1_p) + 1j*np.array(wf1_x)\n",
    "        wf2 = np.array(wf2_p) + 1j*np.array(wf2_x)\n",
    "        #Amin_p/=A1max\n",
    "        #Amin\n",
    "        # Match\n",
    "        match_p, shift_p = match(wf1_p, wf2_p)\n",
    "        match_x, shift_x = match(wf1_x, wf2_x)\n",
    "\n",
    "        mismatch_p = 100*(1-match_p)\n",
    "        mismatch_x = 100*(1-match_x)\n",
    "        \n",
    "        prec = 1\n",
    "        # RMS error should be less than 0.1 x Amax(wf1)\n",
    "        self.assertAlmostEqual(Res_p, 0, prec, f\"The RMS error between the + components of the waveforms must be almost 0\")\n",
    "        self.assertAlmostEqual(Res_x, 0, prec, f\"The RMS error between the x components of the waveforms must be almost 0\")\n",
    "        \n",
    "        prec = 0\n",
    "        # Max relative point-wise deviation w.r.t Amax(wf1) should be less than 100%\n",
    "        self.assertAlmostEqual(np.absolute(Amin_p), 0, prec, f\"The maximum lower deviation between the + components of the waveforms must be atmost 100%\")\n",
    "        self.assertAlmostEqual(np.absolute(Amin_x), 0, prec, f\"The maximum lower deviation between the x components of the waveforms must be atmost 100%\")\n",
    "        \n",
    "        self.assertAlmostEqual(np.absolute(Amax_p), 0, prec, f\"The maximum upper deviation between the + components of the waveforms must be atmost 100%0\")\n",
    "        self.assertAlmostEqual(np.absolute(Amax_x), 0, prec, f\"The maximum upper deviation between the x components of the waveforms must be atmost 100%0\")\n",
    "        \n",
    "        prec = 0\n",
    "        # Mismatch should be less than 1%\n",
    "        self.assertAlmostEqual(mismatch_p, 0, prec, f\"The mismatch between the + components of the waveforms must be almost 0\")\n",
    "        self.assertAlmostEqual(mismatch_p, 0, prec, f\"The mismatch between the x components of the waveforms must be almost 0\")\n",
    "\n",
    "        prec = 1\n",
    "        # Full array\n",
    "        np.testing.assert_almost_equal(wf1, wf2, prec, f'Array elements must be equal to at least 1 decimal')\n",
    "        \n",
    "if __name__ == '__main__':\n",
    "    unittest.main(argv=['first-arg-is-ignored'], exit=False, verbosity=2)"
   ]
  },
  {
   "cell_type": "code",
   "execution_count": null,
   "id": "c5215b5d",
   "metadata": {},
   "outputs": [],
   "source": []
  }
 ],
 "metadata": {
  "kernelspec": {
   "display_name": "Python 3",
   "language": "python",
   "name": "python3"
  },
  "language_info": {
   "codemirror_mode": {
    "name": "ipython",
    "version": 3
   },
   "file_extension": ".py",
   "mimetype": "text/x-python",
   "name": "python",
   "nbconvert_exporter": "python",
   "pygments_lexer": "ipython3",
   "version": "3.10.11"
  }
 },
 "nbformat": 4,
 "nbformat_minor": 5
}
