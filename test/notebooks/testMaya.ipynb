{
 "cells": [
  {
   "cell_type": "markdown",
   "id": "e0ffa464",
   "metadata": {},
   "source": [
    "# Testing GT catalogue load\n",
    "\n",
    "Objectives:\n",
    "    1. Test GT simulation waveform loaded through nrc-catalogue-tools."
   ]
  },
  {
   "cell_type": "markdown",
   "id": "526e0964",
   "metadata": {},
   "source": [
    "## Load the library"
   ]
  },
  {
   "cell_type": "code",
   "execution_count": 1,
   "id": "b15a125f",
   "metadata": {},
   "outputs": [
    {
     "name": "stdout",
     "output_type": "stream",
     "text": [
      "['/home/vaishakprasad/Documents/Codes/nrcattools-local/test/notebooks', '/home/vaishakprasad/Documents/Codes/config', '/home/vaishakprasad/Documents/Codes/waveformtools', '/home/vaishakprasad/Documents/Codes/qlmtools', '/home/vaishakprasad/Documents/Codes/nrcattools-local/test/notebooks', '/home/vaishakprasad/soft/anaconda3/envs/nrcat/lib/python310.zip', '/home/vaishakprasad/soft/anaconda3/envs/nrcat/lib/python3.10', '/home/vaishakprasad/soft/anaconda3/envs/nrcat/lib/python3.10/lib-dynload', '', '/home/vaishakprasad/soft/anaconda3/envs/nrcat/lib/python3.10/site-packages', '/home/vaishakprasad/Documents/Codes/nr-catalog-tools']\n"
     ]
    }
   ],
   "source": [
    "import sys\n",
    "\n",
    "#p1 = \"/home/vaishakp/Codes/custom_libraries/nr-catalog-tools\"\n",
    "#libpath = '/mnt/pfs/vaishak.p/Projects/Codes/custom_libraries/nr-catalog-tools'\n",
    "libpath = '/home/vaishakprasad/Documents/Codes/nr-catalog-tools'\n",
    "\n",
    "if libpath not in sys.path:\n",
    "    sys.path.append(libpath)\n",
    "\n",
    "print(sys.path)"
   ]
  },
  {
   "cell_type": "markdown",
   "id": "1beb3ba1",
   "metadata": {},
   "source": [
    "## Display the environment"
   ]
  },
  {
   "cell_type": "code",
   "execution_count": 2,
   "id": "33247ec5",
   "metadata": {},
   "outputs": [
    {
     "name": "stdout",
     "output_type": "stream",
     "text": [
      "Python 3.10.11\n",
      "nrcat                 *  /home/vaishakprasad/soft/anaconda3/envs/nrcat\n"
     ]
    }
   ],
   "source": [
    "%%bash\n",
    "python --version\n",
    "conda info --envs | grep '*'"
   ]
  },
  {
   "cell_type": "markdown",
   "id": "79d14827",
   "metadata": {},
   "source": [
    "# Method I : through nr-catalogue-tools"
   ]
  },
  {
   "cell_type": "code",
   "execution_count": 3,
   "id": "0a023c50",
   "metadata": {},
   "outputs": [
    {
     "name": "stdout",
     "output_type": "stream",
     "text": [
      "No version information file '.version' found\n"
     ]
    }
   ],
   "source": [
    "import nrcatalogtools"
   ]
  },
  {
   "cell_type": "code",
   "execution_count": 4,
   "id": "cafe71e4",
   "metadata": {},
   "outputs": [],
   "source": [
    "import nrcatalogtools.lvc as lalutils"
   ]
  },
  {
   "cell_type": "code",
   "execution_count": 5,
   "id": "719be505",
   "metadata": {},
   "outputs": [],
   "source": [
    "from nrcatalogtools.lvc import get_lal_mode_dictionary_from_lmax"
   ]
  },
  {
   "cell_type": "code",
   "execution_count": 6,
   "id": "5e7c4f37",
   "metadata": {},
   "outputs": [],
   "source": [
    "import numpy as np\n",
    "from nrcatalogtools.maya import MayaCatalog\n",
    "import matplotlib.pyplot as plt\n",
    "\n",
    "\n",
    "#####################\n",
    "# matplotlib presets\n",
    "#########################################\n",
    "\n",
    "labelsize=16\n",
    "labelpad=14\n",
    "\n",
    "plt.rcParams.update({'font.size': 12})\n",
    "plt.rcParams.update({\"figure.figsize\" : (8,6)})\n",
    "#plt.rcParams.update({\"axes.grid\" : True})\n",
    "plt.rcParams.update({\"axes.labelpad\" : labelpad})\n",
    "plt.rcParams.update({\"axes.labelsize\" : labelsize})\n",
    "plt.rcParams.update({\"figure.autolayout\" : True})\n",
    "plt.rcParams.update({\"grid.alpha\" : 0.3})\n",
    "plt.rcParams.update({\"grid.alpha\" : 0.3})\n",
    "plt.rcParams.update({'legend.markerscale': 12})"
   ]
  },
  {
   "cell_type": "code",
   "execution_count": 7,
   "id": "aeb8e283",
   "metadata": {},
   "outputs": [],
   "source": [
    "#from nrcatalogtools.rit import RITCatalog\n",
    "\n",
    "from nrcatalogtools import utils\n",
    "from nrcatalogtools.waveform import WaveformModes"
   ]
  },
  {
   "cell_type": "code",
   "execution_count": 8,
   "id": "86d48b05",
   "metadata": {},
   "outputs": [],
   "source": [
    "\n",
    "import sxs\n"
   ]
  },
  {
   "cell_type": "code",
   "execution_count": 9,
   "id": "57929277",
   "metadata": {},
   "outputs": [
    {
     "data": {
      "text/plain": [
       "PosixPath('/home/vaishakprasad/.cache/sxs')"
      ]
     },
     "execution_count": 9,
     "metadata": {},
     "output_type": "execute_result"
    }
   ],
   "source": [
    "# View SXS cache\n",
    "sxs.sxs_directory(\"cache\")"
   ]
  },
  {
   "cell_type": "markdown",
   "id": "7b58288c",
   "metadata": {},
   "source": [
    "### MAYA cat details"
   ]
  },
  {
   "cell_type": "code",
   "execution_count": 9,
   "id": "305699ce",
   "metadata": {},
   "outputs": [
    {
     "data": {
      "text/plain": [
       "{'cache_dir': PosixPath('/home/vaishakprasad/.cache/MAYA'),\n",
       " 'url': 'https://raw.githubusercontent.com/cevans216/gt-waveform-catalog/master/h5files',\n",
       " 'metadata_url': 'https://raw.githubusercontent.com/cevans216/gt-waveform-catalog/master/catalog-table.txt',\n",
       " 'data_dir': PosixPath('/home/vaishakprasad/.cache/MAYA/data'),\n",
       " 'metadata_dir': PosixPath('/home/vaishakprasad/.cache/MAYA/metadata'),\n",
       " 'data_url': 'https://raw.githubusercontent.com/cevans216/gt-waveform-catalog/master/h5files'}"
      ]
     },
     "execution_count": 9,
     "metadata": {},
     "output_type": "execute_result"
    }
   ],
   "source": [
    "nrcatalogtools.utils.maya_catalog_info"
   ]
  },
  {
   "cell_type": "code",
   "execution_count": 11,
   "id": "d0def83e",
   "metadata": {},
   "outputs": [],
   "source": [
    "# Simulation name\n",
    "sim_name = 'GT0001'\n",
    "\n",
    "# Parameters\n",
    "M = 40\n",
    "D = 1000\n",
    "inc = np.pi/2 - 0.0001\n",
    "coa_phase = np.pi/4\n",
    "delta_t = 1./2048"
   ]
  },
  {
   "cell_type": "markdown",
   "id": "536479c0",
   "metadata": {},
   "source": [
    "## Load waveform"
   ]
  },
  {
   "cell_type": "code",
   "execution_count": 12,
   "id": "ca0887f5",
   "metadata": {},
   "outputs": [
    {
     "name": "stdout",
     "output_type": "stream",
     "text": [
      "Downloading to /home/vaishakprasad/.cache/MAYA/catalog.temp.txt:\n"
     ]
    },
    {
     "data": {
      "application/vnd.jupyter.widget-view+json": {
       "model_id": "e9fc66bd461e40b79bd118f2cd5b7c15",
       "version_major": 2,
       "version_minor": 0
      },
      "text/plain": [
       "  0%|          | 0/10710 [00:00<?, ?it/s]"
      ]
     },
     "metadata": {},
     "output_type": "display_data"
    },
    {
     "data": {
      "image/png": "[encoded data removed]",
      "text/plain": [
       "<Figure size 432x288 with 1 Axes>"
      ]
     },
     "metadata": {
      "needs_background": "light"
     },
     "output_type": "display_data"
    }
   ],
   "source": [
    "#sc = sxs.Catalog.load(download=True)\n",
    "#rc = RITCatalog.load(verbosity=5, download=True)\n",
    "mc = MayaCatalog.load(verbosity=5)\n",
    "\n",
    "mwf = mc.get(sim_name)\n",
    "\n",
    "hpc = mwf.get_td_waveform(total_mass=M, distance=D, inclination=inc,\n",
    "                    coa_phase=coa_phase, delta_t=delta_t\n",
    "                    )\n",
    "hpc_pycbc = hpc # mwf.to_pycbc(hpc)\n",
    "hp1, hx1 = hpc_pycbc.real(), hpc_pycbc.imag()\n",
    "\n",
    "plt.plot(hp1.sample_times, hp1)\n",
    "plt.plot(hx1.sample_times, hx1)\n",
    "plt.grid()\n",
    "plt.show()"
   ]
  },
  {
   "cell_type": "code",
   "execution_count": 13,
   "id": "b6d1ef58",
   "metadata": {},
   "outputs": [],
   "source": [
    "import h5py"
   ]
  },
  {
   "cell_type": "markdown",
   "id": "1f655825",
   "metadata": {},
   "source": [
    "import gc\n",
    "for obj in gc.get_objects():   # Browse through ALL objects\n",
    "    print(obj)\n",
    "    if isinstance(obj, h5py.File):   # Just HDF5 files\n",
    "        try:\n",
    "            obj.close()\n",
    "            print('Closed', obj)\n",
    "        except:\n",
    "            pass # Was already closed\n"
   ]
  },
  {
   "cell_type": "markdown",
   "id": "0d9ca82f",
   "metadata": {},
   "source": [
    "# Method II :\n",
    "\n",
    "Using [the script](https://github.com/cevans216/gt-waveform-catalog/tree/master/scripts)"
   ]
  },
  {
   "cell_type": "code",
   "execution_count": 14,
   "id": "4128b2b7",
   "metadata": {},
   "outputs": [],
   "source": [
    "import lal"
   ]
  },
  {
   "cell_type": "code",
   "execution_count": 15,
   "id": "026f7f83",
   "metadata": {},
   "outputs": [
    {
     "data": {
      "text/plain": [
       "'/home/vaishakprasad/soft/anaconda3/envs/nrcat/lib/python3.10/site-packages/lal/__init__.py'"
      ]
     },
     "execution_count": 15,
     "metadata": {},
     "output_type": "execute_result"
    }
   ],
   "source": [
    "# Lal path\n",
    "lal.__file__"
   ]
  },
  {
   "cell_type": "markdown",
   "id": "2c3ea856",
   "metadata": {},
   "source": [
    "## Original script, no changes"
   ]
  },
  {
   "cell_type": "markdown",
   "id": "afd03912",
   "metadata": {},
   "source": [
    "import h5py\n",
    "import lal\n",
    "import lalsimulation as lalsim\n",
    "from pycbc import pnutils\n",
    "from matplotlib import pyplot\n",
    "import numpy\n",
    "\n",
    "file = f'{fdir}/data/GT0001.h5'\n",
    "\n",
    "f = h5py.File(file, 'r')\n",
    "\n",
    "params = {}\n",
    "\n",
    "# Extrinsic parameters:\n",
    "\n",
    "params['f_lower'] = 20.0\n",
    "params['mtotal'] = 150.0\n",
    "params['inclination'] = 0.0\n",
    "params['distance'] = 100.0\n",
    "\n",
    "# Metadata parameters:\n",
    "\n",
    "params['eta'] = f.attrs['eta']\n",
    "\n",
    "params['mass1'] = pnutils.mtotal_eta_to_mass1_mass2(params['mtotal'], params['eta'])[0]\n",
    "params['mass2'] = pnutils.mtotal_eta_to_mass1_mass2(params['mtotal'], params['eta'])[1]\n",
    "\n",
    "params['spin1x'] = f.attrs['spin1x']\n",
    "params['spin1y'] = f.attrs['spin1y']\n",
    "params['spin1z'] = f.attrs['spin1z']\n",
    "params['spin2x'] = f.attrs['spin2x']\n",
    "params['spin2y'] = f.attrs['spin2y']\n",
    "params['spin2z'] = f.attrs['spin2z']\n",
    "\n",
    "\n",
    "params['coa_phase'] = f.attrs['coa_phase']\n",
    "\n",
    "    \n",
    "f.close()\n",
    "\n",
    "#\n",
    "dt = 1.0/4096.0\n",
    "\n",
    "from pycbc.waveform import get_td_waveform\n",
    "\n",
    "hp, hc = get_td_waveform(approximant='NR_hdf5',\n",
    "                         numrel_data=file,\n",
    "                         mass1=params['mass1'],\n",
    "                         mass2=params['mass2'],\n",
    "\t\t\t spin1x=params['spin1x'],\n",
    "\t\t\t spin1y=params['spin1y'],\n",
    "                         spin1z=params['spin1z'],\n",
    "\t\t\t spin2x=params['spin2x'],\n",
    "                         spin2y=params['spin2y'],\n",
    "\t\t\t spin2z=params['spin2z'],\n",
    "                         delta_t=dt,\n",
    "                         f_lower=30.0,\n",
    "                         inclination=params['inclination'],\n",
    "                         coa_phase=params['coa_phase'],\n",
    "                         distance=params['distance'])\n",
    "\n",
    "#\n",
    "t = numpy.array(range( len(hp) ) )*dt\n",
    "pyplot.figure()\n",
    "pyplot.plot( t, hp, color=[0,0.7071,1] )\n",
    "pyplot.show()\n"
   ]
  },
  {
   "cell_type": "markdown",
   "id": "1289381c",
   "metadata": {},
   "source": [
    "Here, `coa_phase` is missing from h5 file's attributes. Correcting for this and loading the same simulation as in the catalogue load, "
   ]
  },
  {
   "cell_type": "code",
   "execution_count": 16,
   "id": "76323a94",
   "metadata": {},
   "outputs": [],
   "source": [
    "def TransformSpinsNRtoLAL(nrSpin1, nrSpin2, n_hat, ln_hat):\n",
    "    ''' Trnasform the spins of the NR simulation from the\n",
    "    NR frame to the  frame.\n",
    "    Parameters\n",
    "    ----------\n",
    "    nrSpin1, nrSpin2 : list\n",
    "             A list of the components of the spins of the objects.\n",
    "    nhat, ln_hat : list\n",
    "             A list of the components of the unit vectors of the objects, \n",
    "             against which the components of the spins are specified.\n",
    "    Returns\n",
    "    -------\n",
    "    S1, S2 : list\n",
    "             The transformed spins in LAL frame.\n",
    "    '''\n",
    "    nrSpin1x, nrSpin1y, nrSpin1z = nrSpin1\n",
    "    nrSpin2x, nrSpin2y, nrSpin2z = nrSpin2\n",
    "    \n",
    "    n_hat_x, n_hat_y, n_hat_z = n_hat\n",
    "    ln_hat_x, ln_hat_y, ln_hat_z = ln_hat\n",
    "        \n",
    "    S1x = nrSpin1x * n_hat_x + nrSpin1y * n_hat_y + nrSpin1z * n_hat_z\n",
    "    \n",
    "    S1y = nrSpin1x * (-ln_hat_z * n_hat_y + ln_hat_y * n_hat_z)\\\n",
    "         + nrSpin1y * (ln_hat_z * n_hat_x - ln_hat_x * n_hat_z) \\\n",
    "         + nrSpin1z * (-ln_hat_y * n_hat_x + ln_hat_x * n_hat_y)\n",
    "            \n",
    "    S1z = nrSpin1x * ln_hat_x + nrSpin1y * ln_hat_y + nrSpin1z * ln_hat_z\n",
    "  \n",
    "    S2x = nrSpin2x * n_hat_x + nrSpin2y * n_hat_y + nrSpin2z * n_hat_z\n",
    "    S2y = nrSpin2x * (-ln_hat_z * n_hat_y + ln_hat_y * n_hat_z) \\\n",
    "         + nrSpin2y * (ln_hat_z * n_hat_x - ln_hat_x * n_hat_z) \\\n",
    "         + nrSpin2z * (-ln_hat_y * n_hat_x + ln_hat_x * n_hat_y)\n",
    "            \n",
    "    S2z = nrSpin2x * ln_hat_x + nrSpin2y * ln_hat_y + nrSpin2z * ln_hat_z\n",
    "    \n",
    "    S1 = [S1x, S1y, S1z]\n",
    "    S2 = [S2x, S2y, S2z]\n",
    "    \n",
    "    return S1, S2"
   ]
  },
  {
   "cell_type": "code",
   "execution_count": 17,
   "id": "d69880bc",
   "metadata": {},
   "outputs": [
    {
     "name": "stdout",
     "output_type": "stream",
     "text": [
      "/home/vaishakprasad/soft/lalsuite/lalsuite-extra/data/lalsimulation\n"
     ]
    }
   ],
   "source": [
    "%%bash\n",
    "# Ensure threadsafe loading is off\n",
    "export HDF5_USE_FILE_LOCKING='FALSE'\n",
    "\n",
    "# LAL ROM dir\n",
    "#export LAL_DATA_PATH='/home/vaishakprasad/soft/lalsuite/lalsuite-extra/data/lalsimulation' \n",
    "export LAL_DATA_PATH='/home/vaishakprasad/soft/lalsuite/lalsuite-extra/data/lalsimulation'\n",
    "echo $LAL_DATA_PATH"
   ]
  },
  {
   "cell_type": "code",
   "execution_count": 18,
   "id": "ae590c35",
   "metadata": {},
   "outputs": [],
   "source": [
    "from pycbc.waveform import td_approximants, fd_approximants\n",
    "\n",
    "# List of td approximants that are available\n",
    "#print(td_approximants())\n",
    "\n",
    "apx = 'SEOBNRv4_ROM'\n",
    "if apx not in td_approximants():\n",
    "    #print('Apx not loaded correctly!')\n",
    "    raise AttributeError(f'Approximant {apx} not found! Please check `LAL_DATA_PATH`')\n",
    "# List of fd approximants that are currently available\n",
    "#print(fd_approximants())"
   ]
  },
  {
   "cell_type": "code",
   "execution_count": 19,
   "id": "f1608efd",
   "metadata": {},
   "outputs": [
    {
     "name": "stdout",
     "output_type": "stream",
     "text": [
      "/home/vaishakprasad/soft/lalsuite/lalsuite-extra/data/lalsimulation\n"
     ]
    }
   ],
   "source": [
    "%%bash\n",
    "echo $LAL_DATA_PATH"
   ]
  },
  {
   "cell_type": "code",
   "execution_count": 20,
   "id": "7df49397",
   "metadata": {},
   "outputs": [],
   "source": [
    "\n",
    "import lal\n",
    "import lalsimulation as lalsim\n",
    "from pycbc import pnutils\n"
   ]
  },
  {
   "cell_type": "code",
   "execution_count": 21,
   "id": "816801eb",
   "metadata": {},
   "outputs": [],
   "source": [
    "from nrcatalogtools.utils import maya_catalog_info\n",
    "import h5py\n",
    "from pycbc import pnutils"
   ]
  },
  {
   "cell_type": "code",
   "execution_count": 22,
   "id": "ec375092",
   "metadata": {
    "scrolled": true
   },
   "outputs": [
    {
     "name": "stdout",
     "output_type": "stream",
     "text": [
      "Cannot find the attribute `coa_phase` in the file. Setting to 0.7853981633974483\n",
      "Loading waveform\n"
     ]
    },
    {
     "data": {
      "image/png": "[encoded data removed]",
      "text/plain": [
       "<Figure size 432x288 with 1 Axes>"
      ]
     },
     "metadata": {
      "needs_background": "light"
     },
     "output_type": "display_data"
    }
   ],
   "source": [
    "\n",
    "\n",
    "\n",
    "fdir = maya_catalog_info['cache_dir']\n",
    "file = f'{fdir}/data/{sim_name}.h5'\n",
    "\n",
    "\n",
    "#file = f'/home/vaishakprasad/{sim_name}.h5'\n",
    "# Check by changing spin by small amount\n",
    "#dspins2x = np.linspace(-0.1, 0.1, 1000)\n",
    "try:\n",
    "    f.close()\n",
    "except:\n",
    "    pass\n",
    "\n",
    "f = h5py.File(file, 'a')\n",
    "if 'f_lower_at_1MSUN' not in list(f.attrs.keys()):\n",
    "    \n",
    "    f.attrs['f_lower_at_1MSUN'] = f_lower_at_1MSUN\n",
    "    f.close()\n",
    "else:\n",
    "    f.close()\n",
    "    \n",
    "f = h5py.File(file, 'r')\n",
    "    \n",
    "#print(f.attrs.keys())\n",
    "#print(f.keys())\n",
    "params = {}\n",
    "\n",
    "# Extrinsic parameters:\n",
    "f_lower = 20\n",
    "f_lower_at_1MSUN = f_lower/M\n",
    "\n",
    "\n",
    "\n",
    "params['f_lower'] = f_lower\n",
    "params['mtotal'] = M#150.0\n",
    "params['inclination'] = inc#0.0\n",
    "params['distance'] = D#100.0\n",
    "\n",
    "# Metadata parameters:\n",
    "\n",
    "params['eta'] = f.attrs['eta']\n",
    "\n",
    "params['mass1'] = pnutils.mtotal_eta_to_mass1_mass2(params['mtotal'], params['eta'])[0]\n",
    "params['mass2'] = pnutils.mtotal_eta_to_mass1_mass2(params['mtotal'], params['eta'])[1]\n",
    "\n",
    "# BH1 spins\n",
    "params['spin1x'] = f.attrs['spin1x']\n",
    "params['spin1y'] = f.attrs['spin1y']\n",
    "params['spin1z'] = f.attrs['spin1z']\n",
    "\n",
    "\n",
    "# BH2 spins\n",
    "\n",
    "params['spin2x'] = f.attrs['spin2x']\n",
    "params['spin2y'] = f.attrs['spin2y']\n",
    "params['spin2z'] = f.attrs['spin2z']\n",
    "\n",
    "\n",
    "# Spin unit vectors\n",
    "\n",
    "params['nhat'] = [f.attrs['nhatx'], f.attrs['nhaty'], f.attrs['nhatz']]\n",
    "params['lnhat'] = [f.attrs['LNhatx'], f.attrs['LNhaty'], f.attrs['LNhatz']]\n",
    "\n",
    "\n",
    "# Check for coa_phase, else use the phase from nr cat load.\n",
    "try:\n",
    "    params['coa_phase'] = f.attrs['coa_phase']\n",
    "except:\n",
    "    print(f'Cannot find the attribute `coa_phase` in the file. Setting to {coa_phase}')\n",
    "    #raise AttributeError('Cannot find the attribute `coa_phase` in the file')\n",
    "    params['coa_phase']=coa_phase\n",
    "\n",
    "# Transform spins\n",
    "\n",
    "# NR frame\n",
    "s1 = [params['spin1x'], params['spin1y'], params['spin1z']]\n",
    "s2 = [params['spin2x'], params['spin2y'], params['spin2z']]\n",
    "\n",
    "# LAL frame\n",
    "S1, S2 = TransformSpinsNRtoLAL(s1, s2, params['nhat'], params['lnhat'])\n",
    "\n",
    "from pycbc.waveform import get_td_waveform\n",
    "\n",
    "\n",
    "print('Loading waveform')\n",
    "hp2, hx2 = get_td_waveform(approximant='NR_hdf5',\n",
    "                         numrel_data=file,\n",
    "                         mass1=params['mass1'],\n",
    "                         mass2=params['mass2'],\n",
    "                         spin1x=S1[0],\n",
    "                         spin1y=S1[1],\n",
    "                         spin1z=S1[2],\n",
    "                         spin2x=S2[0],\n",
    "                         spin2y=S2[1],\n",
    "                         spin2z=S2[2],\n",
    "                         delta_t=delta_t,\n",
    "                         f_lower=f_lower,\n",
    "                         inclination=params['inclination'],\n",
    "                         coa_phase=params['coa_phase'],\n",
    "                         distance=params['distance'])\n",
    "\n",
    "#\n",
    "t = np.array(range( len(hp2) ) )*delta_t\n",
    "\n",
    "#pyplot.figure()\n",
    "plt.plot(t, hp2, color=[0,0.7071,1])\n",
    "plt.plot(t, hx2, color=[0.1,0,0])\n",
    "plt.show()\n",
    "f.close()"
   ]
  },
  {
   "cell_type": "code",
   "execution_count": 23,
   "id": "0ac8ec77",
   "metadata": {},
   "outputs": [],
   "source": [
    "mloc2 = np.argmax(hp2**2 + hx2**2)"
   ]
  },
  {
   "cell_type": "code",
   "execution_count": 24,
   "id": "f800b130",
   "metadata": {},
   "outputs": [],
   "source": [
    "t-=t[mloc2]"
   ]
  },
  {
   "cell_type": "code",
   "execution_count": 25,
   "id": "c4303785",
   "metadata": {},
   "outputs": [
    {
     "data": {
      "image/png": "[encoded data removed]",
      "text/plain": [
       "<Figure size 432x288 with 1 Axes>"
      ]
     },
     "metadata": {
      "needs_background": "light"
     },
     "output_type": "display_data"
    }
   ],
   "source": [
    "plt.plot(t, hp2, color=[0,0.7071,1], label='lal')\n",
    "#plt.plot(t, hc2, color=[0.1,0,0])\n",
    "plt.plot(hp1.sample_times, hp1, label='nrcat')\n",
    "#plt.plot(hc1.sample_times, hc1)\n",
    "plt.legend()\n",
    "plt.show()"
   ]
  },
  {
   "cell_type": "code",
   "execution_count": 26,
   "id": "ff2d6c55",
   "metadata": {},
   "outputs": [],
   "source": [
    "from pycbc.types.timeseries import TimeSeries\n",
    "from pycbc.filter.matchedfilter import match\n",
    "from pycbc.waveform.utils import coalign_waveforms"
   ]
  },
  {
   "cell_type": "markdown",
   "id": "77445dee",
   "metadata": {},
   "source": [
    "hp2_ts = TimeSeries(hp2, delta_t=delta_t)\n",
    "hx2_ts = TimeSeries(hx2, delta_t=delta_t)\n",
    "\n",
    "mp, sp = match(hp1, hp2_ts)\n",
    "mx, sx = match(hx1, hx2_ts)\n",
    "\n",
    "wf1_p, wf2_p = coalign_waveforms(hp1, hp2_ts)\n",
    "wf1_x, wf2_x = coalign_waveforms(hx1, hx2_ts)"
   ]
  },
  {
   "cell_type": "code",
   "execution_count": 48,
   "id": "68befead",
   "metadata": {},
   "outputs": [],
   "source": [
    "hp2_ts = TimeSeries(hp2, delta_t=delta_t)\n",
    "hx2_ts = TimeSeries(hx2, delta_t=delta_t)\n",
    "\n",
    "mp, sp = match(hp1, hp2_ts)\n",
    "mx, sx = match(hx1, hx2_ts)\n",
    "\n",
    "wf1_p, wf2_p = coalign_waveforms(hp1, hp2_ts)\n",
    "wf1_x, wf2_x = coalign_waveforms(hx1, hx2_ts)\n",
    "\n",
    "# Normalize the arrays\n",
    "wf1 = np.array(wf1_p) + 1j*np.array(wf1_x)\n",
    "wf2 = np.array(wf2_p) + 1j*np.array(wf2_x)\n",
    "\n",
    "n1 = np.sqrt(np.dot(wf1, np.conjugate(wf1)))\n",
    "n2 = np.sqrt(np.dot(wf2, np.conjugate(wf2)))\n",
    "\n",
    "wf1 = wf1/n1\n",
    "wf2 = wf2/n2\n",
    "\n",
    "wf1_p = wf1.real\n",
    "wf1_x = wf1.imag\n",
    "\n",
    "wf2_p = wf2.real\n",
    "wf2_x = wf2.imag\n",
    "\n",
    "wf1_p = TimeSeries(wf1_p, delta_t)\n",
    "wf1_x = TimeSeries(wf1_x, delta_t)\n",
    "wf2_p = TimeSeries(wf2_p, delta_t)\n",
    "wf2_x = TimeSeries(wf2_x, delta_t)"
   ]
  },
  {
   "cell_type": "code",
   "execution_count": 50,
   "id": "cae682a1",
   "metadata": {},
   "outputs": [
    {
     "data": {
      "image/png": "[encoded data removed]",
      "text/plain": [
       "<Figure size 432x288 with 1 Axes>"
      ]
     },
     "metadata": {
      "needs_background": "light"
     },
     "output_type": "display_data"
    }
   ],
   "source": [
    "plt.plot(wf2_p.sample_times, wf2_p, color=[0,0.7071,1], label='lal')\n",
    "#plt.plot(t, hc2, color=[0.1,0,0])\n",
    "plt.plot(wf1_p.sample_times, wf1_p, label='nrcat')\n",
    "#plt.plot(hc1.sample_times, hc1)\n",
    "plt.legend()\n",
    "plt.show()"
   ]
  },
  {
   "cell_type": "code",
   "execution_count": 51,
   "id": "06e36647",
   "metadata": {},
   "outputs": [],
   "source": [
    "dwf_p = np.array(wf1_p) - np.array(wf2_p)\n",
    "dwf_x = np.array(wf1_x) - np.array(wf2_x)"
   ]
  },
  {
   "cell_type": "code",
   "execution_count": 52,
   "id": "834126b5",
   "metadata": {},
   "outputs": [
    {
     "data": {
      "image/png": "[encoded data removed]",
      "text/plain": [
       "<Figure size 432x288 with 1 Axes>"
      ]
     },
     "metadata": {
      "needs_background": "light"
     },
     "output_type": "display_data"
    }
   ],
   "source": [
    "#plt.plot(wf2.sample_times, wf2, color=[0,0.7071,1], label='lal')\n",
    "#plt.plot(t, hc2, color=[0.1,0,0])\n",
    "plt.plot(wf1_p.sample_times, dwf_p, label='diff +')\n",
    "plt.plot(wf1_p.sample_times, dwf_x, label='diff x')\n",
    "#plt.plot(hc1.sample_times, hc1)\n",
    "plt.legend()\n",
    "plt.show()"
   ]
  },
  {
   "cell_type": "markdown",
   "id": "8a995837",
   "metadata": {},
   "source": [
    "# Tests"
   ]
  },
  {
   "cell_type": "code",
   "execution_count": 53,
   "id": "0cd10407",
   "metadata": {},
   "outputs": [],
   "source": [
    "def RMSerrs(func1, func2):\n",
    "    ''' Compute and return the error estimates between two arrays\n",
    "    \n",
    "    Parameters\n",
    "    ----------\n",
    "    func1, func2 : ndarray\n",
    "                   Arrays of same shape to compare with.\n",
    "    info : sphericalarray\n",
    "           Grid info\n",
    "    \n",
    "    Returns\n",
    "    -------\n",
    "    RMS : float\n",
    "          The RMS error\n",
    "    Amax : float\n",
    "           The max diff relative to A1max\n",
    "    Amin : float the min diff relative to A2max\n",
    "    '''\n",
    "    A1max = np.amax(np.absolute(func1))\n",
    "\n",
    "    diff = (func1 - func2)\n",
    "\n",
    "    Amax = np.amax(diff)/A1max\n",
    "    Amin = np.amin(diff)/A1max\n",
    "\n",
    "    RMS = np.sqrt(np.sum(np.absolute(diff)**2)/len(func1))/A1max\n",
    "\n",
    "    return RMS, Amin, Amax"
   ]
  },
  {
   "cell_type": "code",
   "execution_count": 68,
   "id": "8c639cdc",
   "metadata": {},
   "outputs": [
    {
     "name": "stderr",
     "output_type": "stream",
     "text": [
      "test_waveforms (__main__.TestMaya)\n",
      "Test the MAYA loading of waveforms against ... ok\n",
      "\n",
      "----------------------------------------------------------------------\n",
      "Ran 1 test in 0.066s\n",
      "\n",
      "OK\n"
     ]
    }
   ],
   "source": [
    "import unittest\n",
    "\n",
    "\n",
    "class TestMaya(unittest.TestCase):\n",
    "    ''' Test loading of MAYA waveforms '''\n",
    "    \n",
    "    def test_waveforms(self):\n",
    "        ''' Test the MAYA loading of waveforms against \n",
    "        that loading using lalsimulation. Tested are RMS errors, maximum deviation and mismatches'''\n",
    "        \n",
    "      \n",
    "        \n",
    "        # L2 errors\n",
    "        Res_p, Amin_p, Amax_p = RMSerrs(np.array(wf1_p), np.array(wf2_p))\n",
    "        Res_x, Amin_x, Amax_x = RMSerrs(np.array(wf1_x), np.array(wf2_x))\n",
    "        \n",
    "        wf1 = np.array(wf1_p) + 1j*np.array(wf1_x)\n",
    "        wf2 = np.array(wf2_p) + 1j*np.array(wf2_x)\n",
    "        #Amin_p/=A1max\n",
    "        #Amin\n",
    "        # Match\n",
    "        match_p, shift_p = match(wf1_p, wf2_p)\n",
    "        match_x, shift_x = match(wf1_x, wf2_x)\n",
    "\n",
    "        mismatch_p = 100*(1-match_p)\n",
    "        mismatch_x = 100*(1-match_x)\n",
    "        \n",
    "        prec = 1\n",
    "        # RMS error should be less than 0.1 x Amax(wf1)\n",
    "        self.assertAlmostEqual(Res_p, 0, prec, f\"The RMS error between the + components of the waveforms must be almost 0\")\n",
    "        self.assertAlmostEqual(Res_x, 0, prec, f\"The RMS error between the x components of the waveforms must be almost 0\")\n",
    "        \n",
    "        prec = 0\n",
    "        # Max relative point-wise deviation w.r.t Amax(wf1) should be less than 100%\n",
    "        self.assertAlmostEqual(np.absolute(Amin_p), 0, prec, f\"The maximum lower deviation between the + components of the waveforms must be atmost 100%\")\n",
    "        self.assertAlmostEqual(np.absolute(Amin_x), 0, prec, f\"The maximum lower deviation between the x components of the waveforms must be atmost 100%\")\n",
    "        \n",
    "        self.assertAlmostEqual(np.absolute(Amax_p), 0, prec, f\"The maximum upper deviation between the + components of the waveforms must be atmost 100%0\")\n",
    "        self.assertAlmostEqual(np.absolute(Amax_x), 0, prec, f\"The maximum upper deviation between the x components of the waveforms must be atmost 100%0\")\n",
    "        \n",
    "        prec = 0\n",
    "        # Mismatch should be less than 1%\n",
    "        self.assertAlmostEqual(mismatch_p, 0, prec, f\"The mismatch between the + components of the waveforms must be almost 0\")\n",
    "        self.assertAlmostEqual(mismatch_p, 0, prec, f\"The mismatch between the x components of the waveforms must be almost 0\")\n",
    "\n",
    "        prec = 1\n",
    "        # Full array\n",
    "        np.testing.assert_almost_equal(wf1, wf2, prec, f'Array elements must be equal to at least 1 decimal')\n",
    "        \n",
    "if __name__ == '__main__':\n",
    "    unittest.main(argv=['first-arg-is-ignored'], exit=False, verbosity=2)"
   ]
  },
  {
   "cell_type": "code",
   "execution_count": null,
   "id": "e235735a",
   "metadata": {},
   "outputs": [],
   "source": []
  }
 ],
 "metadata": {
  "kernelspec": {
   "display_name": "Python 3",
   "language": "python",
   "name": "python3"
  },
  "language_info": {
   "codemirror_mode": {
    "name": "ipython",
    "version": 3
   },
   "file_extension": ".py",
   "mimetype": "text/x-python",
   "name": "python",
   "nbconvert_exporter": "python",
   "pygments_lexer": "ipython3",
   "version": "3.10.11"
  }
 },
 "nbformat": 4,
 "nbformat_minor": 5
}
