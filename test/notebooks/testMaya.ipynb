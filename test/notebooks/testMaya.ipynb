{
 "cells": [
  {
   "cell_type": "markdown",
   "id": "9ca8b9ba",
   "metadata": {},
   "source": [
    "# Testing GT catalogue load\n",
    "\n",
    "Objectives:\n",
    "    1. Test GT simulation waveform loaded through nrc-catalogue-tools."
   ]
  },
  {
   "cell_type": "markdown",
   "id": "d4464dc4",
   "metadata": {},
   "source": [
    "## Load the library"
   ]
  },
  {
   "cell_type": "code",
   "execution_count": 5,
   "id": "fc9f0b45",
   "metadata": {},
   "outputs": [
    {
     "name": "stdout",
     "output_type": "stream",
     "text": [
      "['/home/vaishakprasad/Documents/Codes/nrcattools-local/test/notebooks', '', '/home/vaishakprasad/soft/lalsuite-dev/lib/python3.11/site-packages', '/home/vaishakprasad/Documents/Codes/config', '/home/vaishakprasad/Documents/Codes/waveformtools', '/home/vaishakprasad/Documents/Codes/qlmtools', '/home/vaishakprasad/Documents/Codes/nrcattools-local/test/notebooks', '/home/vaishakprasad/soft/anaconda3/envs/nrcat/lib/python310.zip', '/home/vaishakprasad/soft/anaconda3/envs/nrcat/lib/python3.10', '/home/vaishakprasad/soft/anaconda3/envs/nrcat/lib/python3.10/lib-dynload', '/home/vaishakprasad/soft/anaconda3/envs/nrcat/lib/python3.10/site-packages', '/home/vaishakprasad/Documents/Codes/nr-catalog-tools-vp']\n"
     ]
    }
   ],
   "source": [
    "import sys\n",
    "\n",
    "#p1 = \"/home/vaishakp/Codes/custom_libraries/nr-catalog-tools\"\n",
    "#libpath = '/mnt/pfs/vaishak.p/Projects/Codes/custom_libraries/nr-catalog-tools'\n",
    "libpath = '/home/vaishakprasad/Documents/Codes/nr-catalog-tools-vp'\n",
    "\n",
    "if libpath not in sys.path:\n",
    "    sys.path.append(libpath)\n",
    "\n",
    "print(sys.path)"
   ]
  },
  {
   "cell_type": "markdown",
   "id": "6e8509e8",
   "metadata": {},
   "source": [
    "## Display the environment"
   ]
  },
  {
   "cell_type": "code",
   "execution_count": 6,
   "id": "b27006ab",
   "metadata": {},
   "outputs": [
    {
     "name": "stdout",
     "output_type": "stream",
     "text": [
      "Python 3.10.11\n",
      "nrcat                 *  /home/vaishakprasad/soft/anaconda3/envs/nrcat\n"
     ]
    }
   ],
   "source": [
    "%%bash\n",
    "python --version\n",
    "conda info --envs | grep '*'"
   ]
  },
  {
   "cell_type": "markdown",
   "id": "5b0d92b6",
   "metadata": {},
   "source": [
    "# Method I : through nr-catalogue-tools"
   ]
  },
  {
   "cell_type": "code",
   "execution_count": 7,
   "id": "aa082828",
   "metadata": {},
   "outputs": [
    {
     "name": "stdout",
     "output_type": "stream",
     "text": [
      "No version information file '.version' found\n"
     ]
    }
   ],
   "source": [
    "import nrcatalogtools"
   ]
  },
  {
   "cell_type": "code",
   "execution_count": 8,
   "id": "a62903dc",
   "metadata": {},
   "outputs": [],
   "source": [
    "import nrcatalogtools.lvc as lalutils"
   ]
  },
  {
   "cell_type": "code",
   "execution_count": 9,
   "id": "71a5205a",
   "metadata": {},
   "outputs": [],
   "source": [
    "from nrcatalogtools.lvc import get_lal_mode_dictionary_from_lmax"
   ]
  },
  {
   "cell_type": "code",
   "execution_count": 10,
   "id": "9f182490",
   "metadata": {},
   "outputs": [],
   "source": [
    "import numpy as np\n",
    "from nrcatalogtools.maya import MayaCatalog\n",
    "import matplotlib.pyplot as plt\n",
    "\n",
    "\n",
    "#####################\n",
    "# matplotlib presets\n",
    "#########################################\n",
    "\n",
    "labelsize=16\n",
    "labelpad=14\n",
    "\n",
    "plt.rcParams.update({'font.size': 12})\n",
    "plt.rcParams.update({\"figure.figsize\" : (8,6)})\n",
    "#plt.rcParams.update({\"axes.grid\" : True})\n",
    "plt.rcParams.update({\"axes.labelpad\" : labelpad})\n",
    "plt.rcParams.update({\"axes.labelsize\" : labelsize})\n",
    "plt.rcParams.update({\"figure.autolayout\" : True})\n",
    "plt.rcParams.update({\"grid.alpha\" : 0.3})\n",
    "plt.rcParams.update({\"grid.alpha\" : 0.3})\n",
    "plt.rcParams.update({'legend.markerscale': 12})"
   ]
  },
  {
   "cell_type": "code",
   "execution_count": 11,
   "id": "9a0e9735",
   "metadata": {},
   "outputs": [],
   "source": [
    "#from nrcatalogtools.rit import RITCatalog\n",
    "\n",
    "from nrcatalogtools import utils\n",
    "from nrcatalogtools.waveform import WaveformModes"
   ]
  },
  {
   "cell_type": "code",
   "execution_count": 12,
   "id": "a20c8839",
   "metadata": {},
   "outputs": [],
   "source": [
    "\n",
    "import sxs\n"
   ]
  },
  {
   "cell_type": "code",
   "execution_count": 13,
   "id": "66ef17e8",
   "metadata": {},
   "outputs": [
    {
     "data": {
      "text/plain": [
       "PosixPath('/home/vaishakprasad/.cache/sxs')"
      ]
     },
     "execution_count": 13,
     "metadata": {},
     "output_type": "execute_result"
    }
   ],
   "source": [
    "# View SXS cache\n",
    "sxs.sxs_directory(\"cache\")"
   ]
  },
  {
   "cell_type": "code",
   "execution_count": 14,
   "id": "15b562e1",
   "metadata": {},
   "outputs": [
    {
     "data": {
      "text/plain": [
       "'/home/vaishakprasad/Documents/Codes/nr-catalog-tools-vp/nrcatalogtools/__init__.py'"
      ]
     },
     "execution_count": 14,
     "metadata": {},
     "output_type": "execute_result"
    }
   ],
   "source": [
    "nrcatalogtools.__file__"
   ]
  },
  {
   "cell_type": "markdown",
   "id": "24cce345",
   "metadata": {},
   "source": [
    "### MAYA cat details"
   ]
  },
  {
   "cell_type": "code",
   "execution_count": 15,
   "id": "39ff9203",
   "metadata": {},
   "outputs": [
    {
     "data": {
      "text/plain": [
       "{'cache_dir': PosixPath('/home/vaishakprasad/.cache/MAYA'),\n",
       " 'url': 'https://raw.githubusercontent.com/cevans216/gt-waveform-catalog/master/h5files',\n",
       " 'metadata_url': 'https://raw.githubusercontent.com/cevans216/gt-waveform-catalog/master/catalog-table.txt',\n",
       " 'data_dir': PosixPath('/home/vaishakprasad/.cache/MAYA/data'),\n",
       " 'metadata_dir': PosixPath('/home/vaishakprasad/.cache/MAYA/metadata'),\n",
       " 'data_url': 'https://raw.githubusercontent.com/cevans216/gt-waveform-catalog/master/h5files'}"
      ]
     },
     "execution_count": 15,
     "metadata": {},
     "output_type": "execute_result"
    }
   ],
   "source": [
    "nrcatalogtools.utils.maya_catalog_info"
   ]
  },
  {
   "cell_type": "code",
   "execution_count": 16,
   "id": "14a973c6",
   "metadata": {},
   "outputs": [],
   "source": [
    "# Simulation name\n",
    "sim_name = 'GT0001'\n",
    "\n",
    "# Parameters\n",
    "M = 40\n",
    "D = 1000\n",
    "inc = np.pi/3 #np.pi/3 - 0.0001\n",
    "coa_phase = np.pi/6\n",
    "delta_t = 1./2048"
   ]
  },
  {
   "cell_type": "markdown",
   "id": "d1f2ae92",
   "metadata": {},
   "source": [
    "## Load waveform"
   ]
  },
  {
   "cell_type": "code",
   "execution_count": null,
   "id": "8cf29859",
   "metadata": {
    "scrolled": true
   },
   "outputs": [
    {
     "name": "stdout",
     "output_type": "stream",
     "text": [
      "Downloading to /home/vaishakprasad/.cache/MAYA/catalog.temp.txt:\n"
     ]
    }
   ],
   "source": [
    "#sc = sxs.Catalog.load(download=True)\n",
    "#rc = RITCatalog.load(verbosity=5, download=True)\n",
    "mc = MayaCatalog.load(verbosity=5, download=True)\n",
    "\n",
    "mwf = mc.get(sim_name)\n",
    "\n",
    "hpc = mwf.get_td_waveform(total_mass=M, distance=D, inclination=inc,\n",
    "                    coa_phase=coa_phase, delta_t=delta_t\n",
    "                    )\n",
    "hpc_pycbc = hpc # mwf.to_pycbc(hpc)\n",
    "hp1, hx1 = hpc_pycbc.real(), hpc_pycbc.imag()\n",
    "\n",
    "plt.plot(hp1.sample_times, hp1)\n",
    "plt.plot(hx1.sample_times, hx1)\n",
    "plt.grid()\n",
    "plt.show()"
   ]
  },
  {
   "cell_type": "markdown",
   "id": "013fe44f",
   "metadata": {},
   "source": [
    "# Method II :\n",
    "\n",
    "Using [the script](https://github.com/cevans216/gt-waveform-catalog/tree/master/scripts)"
   ]
  },
  {
   "cell_type": "code",
   "execution_count": null,
   "id": "f9d6d12d",
   "metadata": {},
   "outputs": [],
   "source": [
    "import lal"
   ]
  },
  {
   "cell_type": "code",
   "execution_count": null,
   "id": "1e8c0262",
   "metadata": {},
   "outputs": [],
   "source": [
    "# Lal path\n",
    "lal.__file__"
   ]
  },
  {
   "cell_type": "markdown",
   "id": "0a9b7765",
   "metadata": {},
   "source": [
    "## Original script, no changes"
   ]
  },
  {
   "cell_type": "markdown",
   "id": "f8b7d027",
   "metadata": {},
   "source": [
    "import h5py\n",
    "import lal\n",
    "import lalsimulation as lalsim\n",
    "from pycbc import pnutils\n",
    "from matplotlib import pyplot\n",
    "import numpy\n",
    "\n",
    "file = f'{fdir}/data/GT0001.h5'\n",
    "\n",
    "f = h5py.File(file, 'r')\n",
    "\n",
    "params = {}\n",
    "\n",
    "# Extrinsic parameters:\n",
    "\n",
    "params['f_lower'] = 20.0\n",
    "params['mtotal'] = 150.0\n",
    "params['inclination'] = 0.0\n",
    "params['distance'] = 100.0\n",
    "\n",
    "# Metadata parameters:\n",
    "\n",
    "params['eta'] = f.attrs['eta']\n",
    "\n",
    "params['mass1'] = pnutils.mtotal_eta_to_mass1_mass2(params['mtotal'], params['eta'])[0]\n",
    "params['mass2'] = pnutils.mtotal_eta_to_mass1_mass2(params['mtotal'], params['eta'])[1]\n",
    "\n",
    "params['spin1x'] = f.attrs['spin1x']\n",
    "params['spin1y'] = f.attrs['spin1y']\n",
    "params['spin1z'] = f.attrs['spin1z']\n",
    "params['spin2x'] = f.attrs['spin2x']\n",
    "params['spin2y'] = f.attrs['spin2y']\n",
    "params['spin2z'] = f.attrs['spin2z']\n",
    "\n",
    "\n",
    "params['coa_phase'] = f.attrs['coa_phase']\n",
    "\n",
    "    \n",
    "f.close()\n",
    "\n",
    "#\n",
    "dt = 1.0/4096.0\n",
    "\n",
    "from pycbc.waveform import get_td_waveform\n",
    "\n",
    "hp, hc = get_td_waveform(approximant='NR_hdf5',\n",
    "                         numrel_data=file,\n",
    "                         mass1=params['mass1'],\n",
    "                         mass2=params['mass2'],\n",
    "\t\t\t spin1x=params['spin1x'],\n",
    "\t\t\t spin1y=params['spin1y'],\n",
    "                         spin1z=params['spin1z'],\n",
    "\t\t\t spin2x=params['spin2x'],\n",
    "                         spin2y=params['spin2y'],\n",
    "\t\t\t spin2z=params['spin2z'],\n",
    "                         delta_t=dt,\n",
    "                         f_lower=30.0,\n",
    "                         inclination=params['inclination'],\n",
    "                         coa_phase=params['coa_phase'],\n",
    "                         distance=params['distance'])\n",
    "\n",
    "#\n",
    "t = numpy.array(range( len(hp) ) )*dt\n",
    "pyplot.figure()\n",
    "pyplot.plot( t, hp, color=[0,0.7071,1] )\n",
    "pyplot.show()\n"
   ]
  },
  {
   "cell_type": "markdown",
   "id": "1e48e43e",
   "metadata": {},
   "source": [
    "Here, `coa_phase` is missing from h5 file's attributes. Correcting for this and loading the same simulation as in the catalogue load, "
   ]
  },
  {
   "cell_type": "code",
   "execution_count": 16,
   "id": "b43e100b",
   "metadata": {},
   "outputs": [],
   "source": [
    "from pycbc.waveform import td_approximants, fd_approximants\n",
    "\n",
    "# List of td approximants that are available\n",
    "#print(td_approximants())\n",
    "\n",
    "apx = 'SEOBNRv4_ROM'\n",
    "if apx not in td_approximants():\n",
    "    #print('Apx not loaded correctly!')\n",
    "    raise AttributeError(f'Approximant {apx} not found! Please check `LAL_DATA_PATH`')\n",
    "# List of fd approximants that are currently available\n",
    "#print(fd_approximants())"
   ]
  },
  {
   "cell_type": "code",
   "execution_count": 17,
   "id": "f03e3819",
   "metadata": {},
   "outputs": [
    {
     "name": "stdout",
     "output_type": "stream",
     "text": [
      "/home/vaishakprasad/soft/lalsuite/lalsuite-extra/data/lalsimulation\n"
     ]
    }
   ],
   "source": [
    "%%bash\n",
    "echo $LAL_DATA_PATH"
   ]
  },
  {
   "cell_type": "code",
   "execution_count": 18,
   "id": "b2d03ac6",
   "metadata": {},
   "outputs": [],
   "source": [
    "\n",
    "import lal\n",
    "import lalsimulation as lalsim\n",
    "from pycbc import pnutils\n"
   ]
  },
  {
   "cell_type": "code",
   "execution_count": 19,
   "id": "af32209b",
   "metadata": {},
   "outputs": [],
   "source": [
    "from nrcatalogtools.utils import maya_catalog_info\n",
    "import h5py\n",
    "from pycbc import pnutils"
   ]
  },
  {
   "cell_type": "markdown",
   "id": "62240781",
   "metadata": {},
   "source": [
    "# Check h5 file attributes"
   ]
  },
  {
   "cell_type": "markdown",
   "id": "c8a8a236",
   "metadata": {},
   "source": [
    "fdir = maya_catalog_info['cache_dir']\n",
    "fname = f'{fdir}/data/{sim_name}.h5'\n",
    "\n",
    "ff = h5py.File(fname)\n",
    "\n",
    "all_keys = list(ff.keys())\n",
    "all_attrs = list(ff.attrs.keys())\n",
    "\n",
    "ff.close()"
   ]
  },
  {
   "cell_type": "markdown",
   "id": "6da9f4da",
   "metadata": {},
   "source": [
    "all_attrs"
   ]
  },
  {
   "cell_type": "markdown",
   "id": "be09c346",
   "metadata": {},
   "source": [
    "all_keys"
   ]
  },
  {
   "cell_type": "code",
   "execution_count": 20,
   "id": "70603bfb",
   "metadata": {
    "scrolled": true
   },
   "outputs": [
    {
     "name": "stdout",
     "output_type": "stream",
     "text": [
      "Cannot find the attribute `coa_phase` in the file. Setting to 0.5235987755982988\n",
      "Loading waveform\n"
     ]
    },
    {
     "data": {
      "image/png": "[encoded data removed]",
      "text/plain": [
       "<Figure size 432x288 with 1 Axes>"
      ]
     },
     "metadata": {
      "needs_background": "light"
     },
     "output_type": "display_data"
    }
   ],
   "source": [
    "fdir = maya_catalog_info['cache_dir']\n",
    "file = f'{fdir}/data/{sim_name}.h5'\n",
    "\n",
    "try:\n",
    "    f.close()\n",
    "except:\n",
    "    pass\n",
    "\n",
    "f = h5py.File(file, 'a')\n",
    "if 'f_lower_at_1MSUN' not in list(f.attrs.keys()):\n",
    "    \n",
    "    f.attrs['f_lower_at_1MSUN'] = f_lower_at_1MSUN\n",
    "    f.close()\n",
    "else:\n",
    "    f.close()\n",
    "    \n",
    "f = h5py.File(file, 'r')\n",
    "    \n",
    "#print(f.attrs.keys())\n",
    "#print(f.keys())\n",
    "params = {}\n",
    "\n",
    "# Extrinsic parameters:\n",
    "f_lower = 1\n",
    "f_lower_at_1MSUN = f_lower/M\n",
    "\n",
    "\n",
    "\n",
    "params['f_lower'] = f_lower\n",
    "params['mtotal'] = M#150.0\n",
    "params['inclination'] = inc#0.0\n",
    "params['distance'] = D#100.0\n",
    "\n",
    "# Metadata parameters:\n",
    "\n",
    "params['eta'] = f.attrs['eta']\n",
    "\n",
    "params['mass1'] = pnutils.mtotal_eta_to_mass1_mass2(params['mtotal'], params['eta'])[0]\n",
    "params['mass2'] = pnutils.mtotal_eta_to_mass1_mass2(params['mtotal'], params['eta'])[1]\n",
    "\n",
    "# BH1 spins\n",
    "params['spin1x'] = f.attrs['spin1x']\n",
    "params['spin1y'] = f.attrs['spin1y']\n",
    "params['spin1z'] = f.attrs['spin1z']\n",
    "\n",
    "\n",
    "# BH2 spins\n",
    "\n",
    "params['spin2x'] = f.attrs['spin2x']\n",
    "params['spin2y'] = f.attrs['spin2y']\n",
    "params['spin2z'] = f.attrs['spin2z']\n",
    "\n",
    "\n",
    "# Spin unit vectors\n",
    "\n",
    "params['nhat'] = [f.attrs['nhatx'], f.attrs['nhaty'], f.attrs['nhatz']]\n",
    "params['lnhat'] = [f.attrs['LNhatx'], f.attrs['LNhaty'], f.attrs['LNhatz']]\n",
    "\n",
    "\n",
    "# Check for coa_phase, else use the phase from nr cat load.\n",
    "try:\n",
    "    params['coa_phase'] = f.attrs['coa_phase']\n",
    "except:\n",
    "    print(f'Cannot find the attribute `coa_phase` in the file. Setting to {coa_phase}')\n",
    "    #raise AttributeError('Cannot find the attribute `coa_phase` in the file')\n",
    "    params['coa_phase']=coa_phase\n",
    "\n",
    "# Transform spins\n",
    "\n",
    "# NR frame\n",
    "s1 = [params['spin1x'], params['spin1y'], params['spin1z']]\n",
    "s2 = [params['spin2x'], params['spin2y'], params['spin2z']]\n",
    "\n",
    "# LAL frame\n",
    "from nrcatalogtools.lvc import transform_spins_nr_to_lal\n",
    "S1, S2 = transform_spins_nr_to_lal(s1, s2, params['nhat'], params['lnhat'])\n",
    "\n",
    "from pycbc.waveform import get_td_waveform\n",
    "\n",
    "\n",
    "print('Loading waveform')\n",
    "hp2, hx2 = get_td_waveform(approximant='NR_hdf5',\n",
    "                         numrel_data=file,\n",
    "                         mass1=params['mass1'],\n",
    "                         mass2=params['mass2'],\n",
    "                         spin1x=S1[0],\n",
    "                         spin1y=S1[1],\n",
    "                         spin1z=S1[2],\n",
    "                         spin2x=S2[0],\n",
    "                         spin2y=S2[1],\n",
    "                         spin2z=S2[2],\n",
    "                         delta_t=delta_t,\n",
    "                         f_lower=f_lower,\n",
    "                         inclination=params['inclination'],\n",
    "                         coa_phase=params['coa_phase'],\n",
    "                         distance=params['distance'])\n",
    "\n",
    "#\n",
    "t = np.array(range( len(hp2) ) )*delta_t\n",
    "\n",
    "#pyplot.figure()\n",
    "plt.plot(t, hp2, color=[0,0.7071,1])\n",
    "plt.plot(t, hx2, color=[0.1,0,0])\n",
    "plt.show()\n",
    "f.close()"
   ]
  },
  {
   "cell_type": "markdown",
   "id": "5fdabd91",
   "metadata": {},
   "source": [
    "# Method 3: waveformtools"
   ]
  },
  {
   "cell_type": "markdown",
   "id": "8e5b75a1",
   "metadata": {},
   "source": [
    "## First, get rotation angles"
   ]
  },
  {
   "cell_type": "code",
   "execution_count": 21,
   "id": "121fac6a",
   "metadata": {},
   "outputs": [
    {
     "data": {
      "text/plain": [
       "(1.0471975511965976, 0.5235987755982988)"
      ]
     },
     "execution_count": 21,
     "metadata": {},
     "output_type": "execute_result"
    }
   ],
   "source": [
    "inc, coa_phase"
   ]
  },
  {
   "cell_type": "code",
   "execution_count": 22,
   "id": "309dcc76",
   "metadata": {},
   "outputs": [],
   "source": [
    "angles = mwf.get_angles(inclination=inc, coa_phase=coa_phase)"
   ]
  },
  {
   "cell_type": "code",
   "execution_count": 23,
   "id": "ccc4efdf",
   "metadata": {},
   "outputs": [
    {
     "data": {
      "text/plain": [
       "{'theta': 1.0471975511965976,\n",
       " 'psi': 1.7627061697475976,\n",
       " 'alpha': 3.141592653589793,\n",
       " 't_ref': -1,\n",
       " 'f_ref': None}"
      ]
     },
     "execution_count": 23,
     "metadata": {},
     "output_type": "execute_result"
    }
   ],
   "source": [
    "angles"
   ]
  },
  {
   "cell_type": "code",
   "execution_count": 24,
   "id": "d441a99e",
   "metadata": {},
   "outputs": [],
   "source": [
    "fdir = \"/home/vaishakprasad/.cache/MAYA/data/\"\n",
    "fname = 'GT0001.h5'"
   ]
  },
  {
   "cell_type": "code",
   "execution_count": 25,
   "id": "3d8e62a0",
   "metadata": {},
   "outputs": [
    {
     "data": {
      "text/plain": [
       "'/home/vaishakprasad/.cache/MAYA/data/'"
      ]
     },
     "execution_count": 25,
     "metadata": {},
     "output_type": "execute_result"
    }
   ],
   "source": [
    "fdir"
   ]
  },
  {
   "cell_type": "code",
   "execution_count": 26,
   "id": "3fc5e584",
   "metadata": {},
   "outputs": [],
   "source": [
    "from waveformtools.waveforms import modes_array"
   ]
  },
  {
   "cell_type": "code",
   "execution_count": 27,
   "id": "65e66619",
   "metadata": {},
   "outputs": [],
   "source": [
    "wfm = modes_array(label='GT1', data_dir=fdir, file_name=fname)"
   ]
  },
  {
   "cell_type": "code",
   "execution_count": 28,
   "id": "a032fc5a",
   "metadata": {
    "scrolled": true
   },
   "outputs": [
    {
     "name": "stdout",
     "output_type": "stream",
     "text": [
      "Passing /home/vaishakprasad/.cache/MAYA/data/ GT0001.h5\n",
      "ell_max not provided.\n",
      "modes array not provided. Setting ell_max from file...\n",
      "Chosen ell max 6 Available ell_max 6\n",
      "Constructing the modes list\n",
      "NRTimes not present. Will compute dt auto from mode time axis\n",
      "Reading in modes...\n",
      "Loading 2 -2\n",
      "Creating modes data\n",
      "Default dt is 0.6200000000000045\n",
      "Loading 2 -1\n"
     ]
    },
    {
     "name": "stderr",
     "output_type": "stream",
     "text": [
      "/home/vaishakprasad/Documents/Codes/waveformtools/waveformtools/dataIO.py:671: FutureWarning: Unlike other reduction functions (e.g. `skew`, `kurtosis`), the default behavior of `mode` typically preserves the axis it acts along. In SciPy 1.11.0, this behavior will change: the default value of `keepdims` will become False, the `axis` over which the statistic is taken will be eliminated, and the value None will no longer be accepted. Set `keepdims` to True or False to avoid this warning.\n",
      "  dt_auto = mode(np.diff(time_axis))[0][0]\n"
     ]
    },
    {
     "name": "stdout",
     "output_type": "stream",
     "text": [
      "Loading 2 0\n",
      "Loading 2 1\n",
      "Loading 2 2\n",
      "Loading 3 -3\n",
      "Loading 3 -2\n",
      "Loading 3 -1\n",
      "Loading 3 0\n",
      "Loading 3 1\n",
      "Loading 3 2\n",
      "Loading 3 3\n",
      "Loading 4 -4\n",
      "Loading 4 -3\n",
      "Loading 4 -2\n",
      "Loading 4 -1\n",
      "Loading 4 0\n",
      "Loading 4 1\n",
      "Loading 4 2\n",
      "Loading 4 3\n",
      "Loading 4 4\n",
      "Loading 5 -5\n",
      "Loading 5 -4\n",
      "Loading 5 -3\n",
      "Loading 5 -2\n",
      "Loading 5 -1\n",
      "Loading 5 0\n",
      "Loading 5 1\n",
      "Loading 5 2\n",
      "Loading 5 3\n",
      "Loading 5 4\n",
      "Loading 5 5\n",
      "Loading 6 -6\n",
      "Loading 6 -5\n",
      "Loading 6 -4\n",
      "Loading 6 -3\n",
      "Loading 6 -2\n",
      "Loading 6 -1\n",
      "Loading 6 0\n",
      "Loading 6 1\n",
      "Loading 6 2\n",
      "Loading 6 3\n",
      "Loading 6 4\n",
      "Loading 6 5\n",
      "Loading 6 6\n"
     ]
    },
    {
     "data": {
      "text/plain": [
       "1"
      ]
     },
     "execution_count": 28,
     "metadata": {},
     "output_type": "execute_result"
    }
   ],
   "source": [
    "wfm.load_modes(ftype='GT', var_type='Strain')"
   ]
  },
  {
   "cell_type": "code",
   "execution_count": 29,
   "id": "34b51241",
   "metadata": {},
   "outputs": [
    {
     "data": {
      "text/plain": [
       "{'label': 'GT1',\n",
       " 'data_dir': '/home/vaishakprasad/.cache/MAYA/data/',\n",
       " 'file_name': 'GT0001.h5',\n",
       " 'key_format': None,\n",
       " 'ell_max': 6,\n",
       " 'modes_list': [[2, [-2, -1, 0, 1, 2]],\n",
       "  [3, [-3, -2, -1, 0, 1, 2, 3]],\n",
       "  [4, [-4, -3, -2, -1, 0, 1, 2, 3, 4]],\n",
       "  [5, [-5, -4, -3, -2, -1, 0, 1, 2, 3, 4, 5]],\n",
       "  [6, [-6, -5, -4, -3, -2, -1, 0, 1, 2, 3, 4, 5, 6]]],\n",
       " 'r_ext': 500,\n",
       " 'frequency_axis': None,\n",
       " 'out_file_name': None,\n",
       " 'maxtime': None,\n",
       " 'date': '2023-05-09',\n",
       " 'time': '13:23:13',\n",
       " 'key_ex': None,\n",
       " 'spin_weight': -2}"
      ]
     },
     "execution_count": 29,
     "metadata": {},
     "output_type": "execute_result"
    }
   ],
   "source": [
    "wfm.get_metadata()"
   ]
  },
  {
   "cell_type": "markdown",
   "id": "36923cfc",
   "metadata": {},
   "source": [
    "## Generate the observer polarizations"
   ]
  },
  {
   "cell_type": "code",
   "execution_count": 30,
   "id": "5d66345e",
   "metadata": {},
   "outputs": [
    {
     "name": "stdout",
     "output_type": "stream",
     "text": [
      "Using precise SWSH method\n"
     ]
    }
   ],
   "source": [
    "time, hwp, hwx = wfm.to_td_waveform(Mtotal=M, distance=D, theta=angles['theta'], phi=angles['psi'], alpha = angles['alpha'], delta_t=delta_t, method='precise')"
   ]
  },
  {
   "cell_type": "code",
   "execution_count": 31,
   "id": "6810b2ad",
   "metadata": {},
   "outputs": [
    {
     "name": "stdout",
     "output_type": "stream",
     "text": [
      "Using fast SWSH method\n"
     ]
    }
   ],
   "source": [
    "time, hwp2, hwx2 = wfm.to_td_waveform(Mtotal=M, distance=D, theta=angles['theta'], phi=angles['psi'], alpha = angles['alpha'], delta_t=delta_t, method='fast')"
   ]
  },
  {
   "cell_type": "code",
   "execution_count": 42,
   "id": "26627654",
   "metadata": {},
   "outputs": [
    {
     "data": {
      "image/png": "[encoded data removed]",
      "text/plain": [
       "<Figure size 432x288 with 1 Axes>"
      ]
     },
     "metadata": {
      "needs_background": "light"
     },
     "output_type": "display_data"
    }
   ],
   "source": [
    "plt.plot(hpc.sample_times, hx1, color=[0,0.7071,1], label='nrcat')\n",
    "plt.plot(hp2.sample_times, hp2, color=[0.1,0,0], label='lal')\n",
    "plt.plot(time, -hwx, label='wftools precise', c='blue', alpha=0.3, linestyle='--')\n",
    "plt.scatter(time, -hwx2, label='wftools fast', s=4, c='magenta')\n",
    "#plt.plot(hc1.sample_times, hc1)\n",
    "plt.legend()\n",
    "plt.show()"
   ]
  },
  {
   "cell_type": "code",
   "execution_count": 45,
   "id": "ad6bd52b",
   "metadata": {},
   "outputs": [
    {
     "data": {
      "image/png": "[encoded data removed]",
      "text/plain": [
       "<Figure size 432x288 with 1 Axes>"
      ]
     },
     "metadata": {
      "needs_background": "light"
     },
     "output_type": "display_data"
    }
   ],
   "source": [
    "plt.plot(hpc.sample_times, hp1, color=[0,0.7071,1], label='nrcat')\n",
    "plt.plot(hp2.sample_times, hx2, color=[0.1,0,0], label='lal')\n",
    "plt.plot(time, hwp, label='wftools precise', c='magenta', linestyle='--')\n",
    "#plt.scatter(time, hwp2, label='wftools fast', s=1)\n",
    "#plt.plot(hc1.sample_times, hc1)\n",
    "plt.legend()\n",
    "plt.show()"
   ]
  },
  {
   "cell_type": "markdown",
   "id": "58facd8b",
   "metadata": {},
   "source": [
    "## Amplitude, phase differences"
   ]
  },
  {
   "cell_type": "code",
   "execution_count": 46,
   "id": "9ae04f8e",
   "metadata": {},
   "outputs": [],
   "source": [
    "from waveformtools.waveformtools import roll"
   ]
  },
  {
   "cell_type": "code",
   "execution_count": 47,
   "id": "8898705e",
   "metadata": {},
   "outputs": [],
   "source": [
    "wf1 = np.array(hp1) + 1j*np.array(hx1)\n",
    "wf2 = np.array(hp2) + 1j*np.array(hx2)\n",
    "wf3 = hwp + 1j*hwx"
   ]
  },
  {
   "cell_type": "code",
   "execution_count": 48,
   "id": "3b4b1fe2",
   "metadata": {},
   "outputs": [],
   "source": [
    "from waveformtools.waveformtools import xtract_camp_phase"
   ]
  },
  {
   "cell_type": "code",
   "execution_count": 50,
   "id": "fb3ab990",
   "metadata": {},
   "outputs": [
    {
     "name": "stdout",
     "output_type": "stream",
     "text": [
      "Max loc\n"
     ]
    },
    {
     "data": {
      "text/plain": [
       "(47, 47, 47)"
      ]
     },
     "execution_count": 50,
     "metadata": {},
     "output_type": "execute_result"
    }
   ],
   "source": [
    "a1, p1 = xtract_camp_phase(wf1.real, wf1.imag)\n",
    "a2, p2 = xtract_camp_phase(wf2.real, wf2.imag)\n",
    "a3, p3 = xtract_camp_phase(wf3.real, wf3.imag)\n",
    "\n",
    "c = 0\n",
    "if c<1:\n",
    "    a2 = roll(a2, -2)\n",
    "    p2 = roll(p2, -2)\n",
    "    c=1\n",
    "\n",
    "np.amax(a1), np.amax(a2), np.amax(a3)\n",
    "print('Max loc')\n",
    "np.argmax(a1), np.argmax(a2), np.argmax(a3)"
   ]
  },
  {
   "cell_type": "code",
   "execution_count": 51,
   "id": "46d7c9c1",
   "metadata": {},
   "outputs": [
    {
     "data": {
      "image/png": "[encoded data removed]",
      "text/plain": [
       "<Figure size 432x288 with 1 Axes>"
      ]
     },
     "metadata": {
      "needs_background": "light"
     },
     "output_type": "display_data"
    }
   ],
   "source": [
    "plt.plot(hpc.sample_times, a1, color=[0,0.7071,1], label='nrcat')\n",
    "plt.plot(hp2.sample_times, a2, color=[0.1,0,0], label='lal')\n",
    "plt.plot(time, a3, label='wftools')\n",
    "#plt.plot(hc1.sample_times, hc1)\n",
    "plt.legend()\n",
    "plt.show()"
   ]
  },
  {
   "cell_type": "code",
   "execution_count": 52,
   "id": "44942a74",
   "metadata": {},
   "outputs": [],
   "source": [
    "da_12 = a1/a2 - 1\n",
    "da_32 = a3/a2 - 1"
   ]
  },
  {
   "cell_type": "code",
   "execution_count": 57,
   "id": "357b3349",
   "metadata": {},
   "outputs": [],
   "source": [
    "dp_12 = -p1 - p2\n",
    "dp_32 = p3 - p2 "
   ]
  },
  {
   "cell_type": "code",
   "execution_count": 54,
   "id": "e67a2619",
   "metadata": {},
   "outputs": [
    {
     "data": {
      "image/png": "[encoded data removed]",
      "text/plain": [
       "<Figure size 432x288 with 1 Axes>"
      ]
     },
     "metadata": {
      "needs_background": "light"
     },
     "output_type": "display_data"
    }
   ],
   "source": [
    "fig, ax = plt.subplots()\n",
    "ax.set_yscale('log')\n",
    "\n",
    "#plt.plot(hpc.sample_times, hp1, color=[0,0.7071,1], label='nrcat')\n",
    "plt.plot(time, np.absolute(da_12), color=[0.1,0,0], label='nrcat - lal')\n",
    "plt.plot(time, np.absolute(da_32), label='wftools - lal')\n",
    "#plt.scatter(time, np.absolute(dwf_132), label='nrcat - wftools fast', s=1, c='orange')\n",
    "#plt.plot(hc1.sample_times, hc1)\n",
    "plt.legend()\n",
    "plt.show()"
   ]
  },
  {
   "cell_type": "code",
   "execution_count": 58,
   "id": "ef733aaf",
   "metadata": {},
   "outputs": [
    {
     "data": {
      "image/png": "[encoded data removed]",
      "text/plain": [
       "<Figure size 432x288 with 1 Axes>"
      ]
     },
     "metadata": {
      "needs_background": "light"
     },
     "output_type": "display_data"
    }
   ],
   "source": [
    "fig, ax = plt.subplots()\n",
    "#ax.set_yscale('log')\n",
    "\n",
    "plt.plot(time, -p1, color=[0,0.7071,1], label='nrcat')\n",
    "plt.plot(time, p2, color=[0.1,0,0], label='lal')\n",
    "plt.plot(time, p3, label='wftools')\n",
    "#plt.scatter(time, np.absolute(dwf_132), label='nrcat - wftools fast', s=1, c='orange')\n",
    "#plt.plot(hc1.sample_times, hc1)\n",
    "plt.legend()\n",
    "plt.show()"
   ]
  },
  {
   "cell_type": "code",
   "execution_count": 59,
   "id": "d66fdd79",
   "metadata": {},
   "outputs": [
    {
     "data": {
      "image/png": "[encoded data removed]",
      "text/plain": [
       "<Figure size 432x288 with 1 Axes>"
      ]
     },
     "metadata": {
      "needs_background": "light"
     },
     "output_type": "display_data"
    }
   ],
   "source": [
    "fig, ax = plt.subplots()\n",
    "ax.set_yscale('log')\n",
    "\n",
    "#plt.plot(hpc.sample_times, hp1, color=[0,0.7071,1], label='nrcat')\n",
    "plt.plot(time, np.absolute(dp_12), color=[0.1,0,0], label='nrcat - lal')\n",
    "plt.plot(time, np.absolute(dp_32), label='wftools - lal')\n",
    "#plt.scatter(time, np.absolute(dwf_132), label='nrcat - wftools fast', s=1, c='orange')\n",
    "#plt.plot(hc1.sample_times, hc1)\n",
    "plt.legend()\n",
    "plt.show()"
   ]
  },
  {
   "cell_type": "markdown",
   "id": "54d1ae85",
   "metadata": {},
   "source": [
    "hp2_ts = TimeSeries(hp2, delta_t=delta_t)\n",
    "hx2_ts = TimeSeries(hx2, delta_t=delta_t)\n",
    "\n",
    "mp, sp = match(hp1, hp2_ts)\n",
    "mx, sx = match(hx1, hx2_ts)\n",
    "\n",
    "wf1_p, wf2_p = coalign_waveforms(hp1, hp2_ts)\n",
    "wf1_x, wf2_x = coalign_waveforms(hx1, hx2_ts)"
   ]
  },
  {
   "cell_type": "markdown",
   "id": "9619f40d",
   "metadata": {},
   "source": [
    "# Pycbc matches"
   ]
  },
  {
   "cell_type": "code",
   "execution_count": 63,
   "id": "a2c05c19",
   "metadata": {},
   "outputs": [],
   "source": [
    "from pycbc.types.timeseries import TimeSeries\n",
    "from pycbc.filter.matchedfilter import match"
   ]
  },
  {
   "cell_type": "code",
   "execution_count": 76,
   "id": "b5dfd523",
   "metadata": {},
   "outputs": [
    {
     "name": "stdout",
     "output_type": "stream",
     "text": [
      "nrcat-lal 0.9917466652958827 wftools prec - lal 0.9865584607031623 wftools fast - lal 0.986558460703162\n"
     ]
    }
   ],
   "source": [
    "hp3 = TimeSeries(hwp, delta_t=delta_t)\n",
    "hx3 = TimeSeries(hwx, delta_t=delta_t)\n",
    "\n",
    "hp4 = TimeSeries(hwp2, delta_t=delta_t)\n",
    "hx4 = TimeSeries(hwx2, delta_t=delta_t)\n",
    "\n",
    "mp_12, sp_12 = match(hp1, hp2)\n",
    "mp_32, sp_32 = match(hp3, hp2)\n",
    "mp_42, sp_32 = match(hp4, hp2)\n",
    "\n",
    "print(f'nrcat-lal {mp_12}', f'wftools prec - lal {mp_32}', f'wftools fast - lal {mp_42}')"
   ]
  },
  {
   "cell_type": "code",
   "execution_count": 78,
   "id": "05e64587",
   "metadata": {},
   "outputs": [
    {
     "data": {
      "text/plain": [
       "0.8253334704117266"
      ]
     },
     "execution_count": 78,
     "metadata": {},
     "output_type": "execute_result"
    }
   ],
   "source": [
    "(1-mp_12)*100"
   ]
  },
  {
   "cell_type": "code",
   "execution_count": null,
   "id": "a9c8c347",
   "metadata": {},
   "outputs": [],
   "source": [
    "\n",
    "\n",
    "#mx_, sx = match(hx1, hx2_ts)\n",
    "\n",
    "wf1_p, wf2_p = coalign_waveforms(hp1, hp2_ts)\n",
    "wf1_x, wf2_x = coalign_waveforms(hx1, hx2_ts)\n",
    "\n",
    "# Normalize the arrays\n",
    "wf1 = np.array(wf1_p) + 1j*np.array(wf1_x)\n",
    "wf2 = np.array(wf2_p) + 1j*np.array(wf2_x)\n",
    "\n",
    "n1 = np.sqrt(np.dot(wf1, np.conjugate(wf1)))\n",
    "n2 = np.sqrt(np.dot(wf2, np.conjugate(wf2)))\n",
    "\n",
    "wf1 = wf1/n1\n",
    "wf2 = wf2/n2\n",
    "\n",
    "wf1_p = wf1.real\n",
    "wf1_x = wf1.imag\n",
    "\n",
    "wf2_p = wf2.real\n",
    "wf2_x = wf2.imag\n",
    "\n",
    "wf1_p = TimeSeries(wf1_p, delta_t)\n",
    "wf1_x = TimeSeries(wf1_x, delta_t)\n",
    "wf2_p = TimeSeries(wf2_p, delta_t)\n",
    "wf2_x = TimeSeries(wf2_x, delta_t)"
   ]
  },
  {
   "cell_type": "code",
   "execution_count": null,
   "id": "bd4c2b40",
   "metadata": {},
   "outputs": [],
   "source": []
  },
  {
   "cell_type": "code",
   "execution_count": null,
   "id": "7bda165c",
   "metadata": {},
   "outputs": [],
   "source": [
    "mp"
   ]
  },
  {
   "cell_type": "code",
   "execution_count": null,
   "id": "8cab35a1",
   "metadata": {},
   "outputs": [],
   "source": [
    "np.amax(wf2/wf1)"
   ]
  },
  {
   "cell_type": "code",
   "execution_count": null,
   "id": "ff744d43",
   "metadata": {},
   "outputs": [],
   "source": []
  },
  {
   "cell_type": "code",
   "execution_count": null,
   "id": "19b21e18",
   "metadata": {},
   "outputs": [],
   "source": [
    "plt.plot(wf2_p.sample_times, wf2_p, color=[0,0.7071,1], label='lal')\n",
    "#plt.plot(t, hc2, color=[0.1,0,0])\n",
    "plt.plot(wf1_p.sample_times, wf1_p, label='nrcat')\n",
    "#plt.plot(hc1.sample_times, hc1)\n",
    "plt.legend()\n",
    "plt.show()"
   ]
  },
  {
   "cell_type": "code",
   "execution_count": null,
   "id": "2c447063",
   "metadata": {},
   "outputs": [],
   "source": []
  },
  {
   "cell_type": "code",
   "execution_count": null,
   "id": "180ba8f9",
   "metadata": {},
   "outputs": [],
   "source": [
    "dwf_p = np.array(wf1_p) - np.array(wf2_p)\n",
    "dwf_x = np.array(wf1_x) - np.array(wf2_x)"
   ]
  },
  {
   "cell_type": "code",
   "execution_count": null,
   "id": "80921366",
   "metadata": {},
   "outputs": [],
   "source": [
    "#plt.plot(wf2.sample_times, wf2, color=[0,0.7071,1], label='lal')\n",
    "#plt.plot(t, hc2, color=[0.1,0,0])\n",
    "plt.plot(wf1_p.sample_times, dwf_p, label='diff +')\n",
    "plt.plot(wf1_p.sample_times, dwf_x, label='diff x')\n",
    "#plt.plot(hc1.sample_times, hc1)\n",
    "plt.legend()\n",
    "plt.show()"
   ]
  },
  {
   "cell_type": "markdown",
   "id": "0cb3f05d",
   "metadata": {},
   "source": [
    "# Tests"
   ]
  },
  {
   "cell_type": "code",
   "execution_count": null,
   "id": "83fa3648",
   "metadata": {},
   "outputs": [],
   "source": [
    "def RMSerrs(func1, func2):\n",
    "    ''' Compute and return the error estimates between two arrays\n",
    "    \n",
    "    Parameters\n",
    "    ----------\n",
    "    func1, func2 : ndarray\n",
    "                   Arrays of same shape to compare with.\n",
    "    info : sphericalarray\n",
    "           Grid info\n",
    "    \n",
    "    Returns\n",
    "    -------\n",
    "    RMS : float\n",
    "          The RMS error\n",
    "    Amax : float\n",
    "           The max diff relative to A1max\n",
    "    Amin : float the min diff relative to A2max\n",
    "    '''\n",
    "    A1max = np.amax(np.absolute(func1))\n",
    "\n",
    "    diff = (func1 - func2)\n",
    "\n",
    "    Amax = np.amax(diff)/A1max\n",
    "    Amin = np.amin(diff)/A1max\n",
    "\n",
    "    RMS = np.sqrt(np.sum(np.absolute(diff)**2)/len(func1))/A1max\n",
    "\n",
    "    return RMS, Amin, Amax"
   ]
  },
  {
   "cell_type": "code",
   "execution_count": null,
   "id": "a42efb7d",
   "metadata": {},
   "outputs": [],
   "source": [
    "import unittest\n",
    "\n",
    "\n",
    "class TestMaya(unittest.TestCase):\n",
    "    ''' Test loading of MAYA waveforms '''\n",
    "    \n",
    "    def test_waveforms(self):\n",
    "        ''' Test the MAYA loading of waveforms against \n",
    "        that loading using lalsimulation. Tested are RMS errors, maximum deviation and mismatches'''\n",
    "        \n",
    "      \n",
    "        \n",
    "        # L2 errors\n",
    "        Res_p, Amin_p, Amax_p = RMSerrs(np.array(wf1_p), np.array(wf2_p))\n",
    "        Res_x, Amin_x, Amax_x = RMSerrs(np.array(wf1_x), np.array(wf2_x))\n",
    "        \n",
    "        wf1 = np.array(wf1_p) + 1j*np.array(wf1_x)\n",
    "        wf2 = np.array(wf2_p) + 1j*np.array(wf2_x)\n",
    "        #Amin_p/=A1max\n",
    "        #Amin\n",
    "        # Match\n",
    "        match_p, shift_p = match(wf1_p, wf2_p)\n",
    "        match_x, shift_x = match(wf1_x, wf2_x)\n",
    "\n",
    "        mismatch_p = 100*(1-match_p)\n",
    "        mismatch_x = 100*(1-match_x)\n",
    "        \n",
    "        prec = 1\n",
    "        # RMS error should be less than 0.1 x Amax(wf1)\n",
    "        self.assertAlmostEqual(Res_p, 0, prec, f\"The RMS error between the + components of the waveforms must be almost 0\")\n",
    "        self.assertAlmostEqual(Res_x, 0, prec, f\"The RMS error between the x components of the waveforms must be almost 0\")\n",
    "        \n",
    "        prec = 0\n",
    "        # Max relative point-wise deviation w.r.t Amax(wf1) should be less than 100%\n",
    "        self.assertAlmostEqual(np.absolute(Amin_p), 0, prec, f\"The maximum lower deviation between the + components of the waveforms must be atmost 100%\")\n",
    "        self.assertAlmostEqual(np.absolute(Amin_x), 0, prec, f\"The maximum lower deviation between the x components of the waveforms must be atmost 100%\")\n",
    "        \n",
    "        self.assertAlmostEqual(np.absolute(Amax_p), 0, prec, f\"The maximum upper deviation between the + components of the waveforms must be atmost 100%0\")\n",
    "        self.assertAlmostEqual(np.absolute(Amax_x), 0, prec, f\"The maximum upper deviation between the x components of the waveforms must be atmost 100%0\")\n",
    "        \n",
    "        prec = 0\n",
    "        # Mismatch should be less than 1%\n",
    "        self.assertAlmostEqual(mismatch_p, 0, prec, f\"The mismatch between the + components of the waveforms must be almost 0\")\n",
    "        self.assertAlmostEqual(mismatch_p, 0, prec, f\"The mismatch between the x components of the waveforms must be almost 0\")\n",
    "\n",
    "        prec = 1\n",
    "        # Full array\n",
    "        np.testing.assert_almost_equal(wf1, wf2, prec, f'Array elements must be equal to at least 1 decimal')\n",
    "        \n",
    "if __name__ == '__main__':\n",
    "    unittest.main(argv=['first-arg-is-ignored'], exit=False, verbosity=2)"
   ]
  },
  {
   "cell_type": "code",
   "execution_count": null,
   "id": "74ed7fe0",
   "metadata": {},
   "outputs": [],
   "source": []
  }
 ],
 "metadata": {
  "kernelspec": {
   "display_name": "Python 3",
   "language": "python",
   "name": "python3"
  },
  "language_info": {
   "codemirror_mode": {
    "name": "ipython",
    "version": 3
   },
   "file_extension": ".py",
   "mimetype": "text/x-python",
   "name": "python",
   "nbconvert_exporter": "python",
   "pygments_lexer": "ipython3",
   "version": "3.10.11"
  }
 },
 "nbformat": 4,
 "nbformat_minor": 5
}
