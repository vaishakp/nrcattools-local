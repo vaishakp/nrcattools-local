{
 "cells": [
  {
   "cell_type": "markdown",
   "id": "6ae6ff48",
   "metadata": {},
   "source": [
    "# Testing GT catalogue load\n",
    "\n",
    "Objectives:\n",
    "    1. Test GT simulation waveform loaded through nrc-catalogue-tools."
   ]
  },
  {
   "cell_type": "markdown",
   "id": "0d5cfc7f",
   "metadata": {},
   "source": [
    "## Load the library"
   ]
  },
  {
   "cell_type": "code",
   "execution_count": 1,
   "id": "2c5ba092",
   "metadata": {},
   "outputs": [
    {
     "name": "stdout",
     "output_type": "stream",
     "text": [
      "['/home/vaishakprasad/Documents/Codes/nrcattools-local/test/notebooks', '/home/vaishakprasad/Documents/Codes/config', '/home/vaishakprasad/Documents/Codes/waveformtools', '/home/vaishakprasad/Documents/Codes/qlmtools', '/home/vaishakprasad/Documents/Codes/nrcattools-local/test/notebooks', '/home/vaishakprasad/soft/anaconda3/envs/nrcat/lib/python310.zip', '/home/vaishakprasad/soft/anaconda3/envs/nrcat/lib/python3.10', '/home/vaishakprasad/soft/anaconda3/envs/nrcat/lib/python3.10/lib-dynload', '', '/home/vaishakprasad/soft/anaconda3/envs/nrcat/lib/python3.10/site-packages', '/home/vaishakprasad/Documents/Codes/nr-catalog-tools-vp']\n"
     ]
    }
   ],
   "source": [
    "import sys\n",
    "\n",
    "#p1 = \"/home/vaishakp/Codes/custom_libraries/nr-catalog-tools\"\n",
    "#libpath = '/mnt/pfs/vaishak.p/Projects/Codes/custom_libraries/nr-catalog-tools'\n",
    "libpath = '/home/vaishakprasad/Documents/Codes/nr-catalog-tools-vp'\n",
    "\n",
    "if libpath not in sys.path:\n",
    "    sys.path.append(libpath)\n",
    "\n",
    "print(sys.path)"
   ]
  },
  {
   "cell_type": "markdown",
   "id": "3d88c751",
   "metadata": {},
   "source": [
    "## Display the environment"
   ]
  },
  {
   "cell_type": "code",
   "execution_count": 2,
   "id": "5dac251f",
   "metadata": {},
   "outputs": [
    {
     "name": "stdout",
     "output_type": "stream",
     "text": [
      "Python 3.10.11\n",
      "nrcat                 *  /home/vaishakprasad/soft/anaconda3/envs/nrcat\n"
     ]
    }
   ],
   "source": [
    "%%bash\n",
    "python --version\n",
    "conda info --envs | grep '*'"
   ]
  },
  {
   "cell_type": "markdown",
   "id": "4e05b676",
   "metadata": {},
   "source": [
    "# Method I : through nr-catalogue-tools"
   ]
  },
  {
   "cell_type": "code",
   "execution_count": 3,
   "id": "d26b77ef",
   "metadata": {},
   "outputs": [
    {
     "name": "stdout",
     "output_type": "stream",
     "text": [
      "No version information file '.version' found\n"
     ]
    }
   ],
   "source": [
    "import nrcatalogtools"
   ]
  },
  {
   "cell_type": "code",
   "execution_count": 4,
   "id": "f356d085",
   "metadata": {},
   "outputs": [],
   "source": [
    "import nrcatalogtools.lvc as lalutils"
   ]
  },
  {
   "cell_type": "code",
   "execution_count": 5,
   "id": "2d68192c",
   "metadata": {},
   "outputs": [],
   "source": [
    "from nrcatalogtools.lvc import get_lal_mode_dictionary_from_lmax"
   ]
  },
  {
   "cell_type": "code",
   "execution_count": 6,
   "id": "1e3ea481",
   "metadata": {},
   "outputs": [],
   "source": [
    "import numpy as np\n",
    "from nrcatalogtools.maya import MayaCatalog\n",
    "import matplotlib.pyplot as plt\n",
    "\n",
    "\n",
    "#####################\n",
    "# matplotlib presets\n",
    "#########################################\n",
    "\n",
    "labelsize=16\n",
    "labelpad=14\n",
    "\n",
    "plt.rcParams.update({'font.size': 12})\n",
    "plt.rcParams.update({\"figure.figsize\" : (8,6)})\n",
    "#plt.rcParams.update({\"axes.grid\" : True})\n",
    "plt.rcParams.update({\"axes.labelpad\" : labelpad})\n",
    "plt.rcParams.update({\"axes.labelsize\" : labelsize})\n",
    "plt.rcParams.update({\"figure.autolayout\" : True})\n",
    "plt.rcParams.update({\"grid.alpha\" : 0.3})\n",
    "plt.rcParams.update({\"grid.alpha\" : 0.3})\n",
    "plt.rcParams.update({'legend.markerscale': 12})"
   ]
  },
  {
   "cell_type": "code",
   "execution_count": 7,
   "id": "16e3b5d5",
   "metadata": {},
   "outputs": [],
   "source": [
    "#from nrcatalogtools.rit import RITCatalog\n",
    "\n",
    "from nrcatalogtools import utils\n",
    "from nrcatalogtools.waveform import WaveformModes"
   ]
  },
  {
   "cell_type": "code",
   "execution_count": 8,
   "id": "e740240e",
   "metadata": {},
   "outputs": [],
   "source": [
    "\n",
    "import sxs\n"
   ]
  },
  {
   "cell_type": "code",
   "execution_count": 9,
   "id": "906f09b8",
   "metadata": {},
   "outputs": [
    {
     "data": {
      "text/plain": [
       "PosixPath('/home/vaishakprasad/.cache/sxs')"
      ]
     },
     "execution_count": 9,
     "metadata": {},
     "output_type": "execute_result"
    }
   ],
   "source": [
    "# View SXS cache\n",
    "sxs.sxs_directory(\"cache\")"
   ]
  },
  {
   "cell_type": "code",
   "execution_count": 10,
   "id": "678dd733",
   "metadata": {},
   "outputs": [
    {
     "data": {
      "text/plain": [
       "'/home/vaishakprasad/Documents/Codes/nr-catalog-tools-vp/nrcatalogtools/__init__.py'"
      ]
     },
     "execution_count": 10,
     "metadata": {},
     "output_type": "execute_result"
    }
   ],
   "source": [
    "nrcatalogtools.__file__"
   ]
  },
  {
   "cell_type": "markdown",
   "id": "01cfcf55",
   "metadata": {},
   "source": [
    "### MAYA cat details"
   ]
  },
  {
   "cell_type": "code",
   "execution_count": 11,
   "id": "9ee0a5bf",
   "metadata": {},
   "outputs": [
    {
     "data": {
      "text/plain": [
       "{'cache_dir': PosixPath('/home/vaishakprasad/.cache/MAYA'),\n",
       " 'url': 'https://raw.githubusercontent.com/cevans216/gt-waveform-catalog/master/h5files',\n",
       " 'metadata_url': 'https://raw.githubusercontent.com/cevans216/gt-waveform-catalog/master/catalog-table.txt',\n",
       " 'data_dir': PosixPath('/home/vaishakprasad/.cache/MAYA/data'),\n",
       " 'metadata_dir': PosixPath('/home/vaishakprasad/.cache/MAYA/metadata'),\n",
       " 'data_url': 'https://raw.githubusercontent.com/cevans216/gt-waveform-catalog/master/h5files'}"
      ]
     },
     "execution_count": 11,
     "metadata": {},
     "output_type": "execute_result"
    }
   ],
   "source": [
    "nrcatalogtools.utils.maya_catalog_info"
   ]
  },
  {
   "cell_type": "code",
   "execution_count": 12,
   "id": "340734d9",
   "metadata": {},
   "outputs": [],
   "source": [
    "# Simulation name\n",
    "sim_name = 'GT0001'\n",
    "\n",
    "# Parameters\n",
    "M = 40\n",
    "D = 1000\n",
    "inc = np.pi/3 #np.pi/3 - 0.0001\n",
    "coa_phase = np.pi/6\n",
    "delta_t = 1./2048"
   ]
  },
  {
   "cell_type": "markdown",
   "id": "48e89ed3",
   "metadata": {},
   "source": [
    "## Load waveform"
   ]
  },
  {
   "cell_type": "code",
   "execution_count": 116,
   "id": "3cd13ddf",
   "metadata": {
    "scrolled": true
   },
   "outputs": [
    {
     "data": {
      "image/png": "[encoded data removed]",
      "text/plain": [
       "<Figure size 432x288 with 1 Axes>"
      ]
     },
     "metadata": {
      "needs_background": "light"
     },
     "output_type": "display_data"
    }
   ],
   "source": [
    "#sc = sxs.Catalog.load(download=True)\n",
    "#rc = RITCatalog.load(verbosity=5, download=True)\n",
    "mc = MayaCatalog.load(verbosity=5, download=True)\n",
    "\n",
    "mwf = mc.get(sim_name)\n",
    "\n",
    "theta = np.pi/8\n",
    "phi = np.pi/6\n",
    "\n",
    "h = mwf.evaluate([theta, phi])\n",
    "\n",
    "hp1 = np.array(h).real\n",
    "hx1 = np.array(h).imag\n",
    "\n",
    "plt.plot(h.time, hp1)\n",
    "plt.plot(h.time, hx1)\n",
    "plt.grid()\n",
    "plt.show()"
   ]
  },
  {
   "cell_type": "markdown",
   "id": "32adac0f",
   "metadata": {},
   "source": [
    "# Waveformtools"
   ]
  },
  {
   "cell_type": "code",
   "execution_count": 106,
   "id": "a9548027",
   "metadata": {},
   "outputs": [],
   "source": [
    "import waveformtools"
   ]
  },
  {
   "cell_type": "code",
   "execution_count": 107,
   "id": "28efe556",
   "metadata": {},
   "outputs": [
    {
     "data": {
      "text/plain": [
       "<module 'waveformtools.transforms' from '/home/vaishakprasad/Documents/Codes/waveformtools/waveformtools/transforms.py'>"
      ]
     },
     "execution_count": 107,
     "metadata": {},
     "output_type": "execute_result"
    }
   ],
   "source": [
    "from importlib import reload\n",
    "reload(waveformtools.transforms)"
   ]
  },
  {
   "cell_type": "code",
   "execution_count": 108,
   "id": "2cf39df7",
   "metadata": {},
   "outputs": [],
   "source": [
    "from waveformtools.transforms import Yslm_pres, Yslm"
   ]
  },
  {
   "cell_type": "code",
   "execution_count": null,
   "id": "f0fe8603",
   "metadata": {},
   "outputs": [],
   "source": []
  },
  {
   "cell_type": "code",
   "execution_count": 117,
   "id": "e20e8d6f",
   "metadata": {
    "scrolled": true
   },
   "outputs": [
    {
     "name": "stdout",
     "output_type": "stream",
     "text": [
      "2 -2\n",
      "2 -1\n",
      "2 0\n",
      "2 1\n",
      "2 2\n",
      "3 -3\n",
      "3 -2\n",
      "3 -1\n",
      "3 0\n",
      "3 1\n",
      "3 2\n",
      "3 3\n",
      "4 -4\n",
      "4 -3\n",
      "4 -2\n",
      "4 -1\n",
      "4 0\n",
      "4 1\n",
      "4 2\n",
      "4 3\n",
      "4 4\n",
      "5 -5\n",
      "5 -4\n",
      "5 -3\n",
      "5 -2\n",
      "5 -1\n",
      "5 0\n",
      "5 1\n",
      "5 2\n",
      "5 3\n",
      "5 4\n",
      "5 5\n",
      "6 -6\n",
      "6 -5\n",
      "6 -4\n",
      "6 -3\n",
      "6 -2\n",
      "6 -1\n",
      "6 0\n",
      "6 1\n",
      "6 2\n",
      "6 3\n",
      "6 4\n",
      "6 5\n",
      "6 6\n"
     ]
    }
   ],
   "source": [
    "h2 = np.zeros(h.time.shape)\n",
    "ell_max = mwf.ell_max\n",
    "for ell in range(2, ell_max+1):\n",
    "        for emm in range(-ell, ell+1):\n",
    "            print(ell, emm)\n",
    "            Y = Yslm_pres(spin_weight=-2, ell=ell, emm=emm, theta=theta, phi=phi)\n",
    "            \n",
    "            Clm_re  = mwf.get_mode(ell, emm)[:, 1]\n",
    "            Clm_im  = mwf.get_mode(ell, emm)[:, 2]\n",
    "            \n",
    "            Clm = Clm_re + 1j*Clm_im\n",
    "            \n",
    "            #print(type(Clm))\n",
    "            h2 = h2 + Clm*np.complex256(np.conjugate(Y))\n",
    "            #h2 = h2 + Clm*sp.conjugate(Y)"
   ]
  },
  {
   "cell_type": "code",
   "execution_count": 114,
   "id": "0721f5af",
   "metadata": {},
   "outputs": [
    {
     "data": {
      "text/latex": [
       "$\\displaystyle 1.524829912178568 \\cdot 10^{-5}$"
      ],
      "text/plain": [
       "1.524829912178568e-5"
      ]
     },
     "execution_count": 114,
     "metadata": {},
     "output_type": "execute_result"
    }
   ],
   "source": [
    "ell = 23\n",
    "emm = 2\n",
    "theta=0.01\n",
    "phi=0\n",
    "Yslm_pres(spin_weight=2, ell=ell, emm=emm, theta=theta, phi=phi)"
   ]
  },
  {
   "cell_type": "code",
   "execution_count": 115,
   "id": "a719274a",
   "metadata": {},
   "outputs": [
    {
     "data": {
      "text/plain": [
       "(1.5248299121785653e-05+0j)"
      ]
     },
     "execution_count": 115,
     "metadata": {},
     "output_type": "execute_result"
    }
   ],
   "source": [
    "Yslm(spin_weight=2, ell=ell, emm=emm, theta=theta, phi=phi)"
   ]
  },
  {
   "cell_type": "code",
   "execution_count": 73,
   "id": "fb6a7646",
   "metadata": {},
   "outputs": [
    {
     "data": {
      "text/plain": [
       "1.1578212823496068"
      ]
     },
     "execution_count": 73,
     "metadata": {},
     "output_type": "execute_result"
    }
   ],
   "source": [
    "0.2069934248194/0.17877839004595"
   ]
  },
  {
   "cell_type": "code",
   "execution_count": 74,
   "id": "57f7dd47",
   "metadata": {},
   "outputs": [
    {
     "data": {
      "text/plain": [
       "1.1578212823495775"
      ]
     },
     "execution_count": 74,
     "metadata": {},
     "output_type": "execute_result"
    }
   ],
   "source": [
    "0.2831486956194992/0.2445530238007915"
   ]
  },
  {
   "cell_type": "code",
   "execution_count": 54,
   "id": "721a72ae",
   "metadata": {
    "scrolled": true
   },
   "outputs": [
    {
     "name": "stdout",
     "output_type": "stream",
     "text": [
      "2 -2\n",
      "2 -1\n",
      "2 0\n",
      "2 1\n",
      "2 2\n",
      "3 -3\n",
      "3 -2\n",
      "3 -1\n",
      "3 0\n",
      "3 1\n",
      "3 2\n",
      "3 3\n",
      "4 -4\n",
      "4 -3\n",
      "4 -2\n",
      "4 -1\n",
      "4 0\n",
      "4 1\n",
      "4 2\n",
      "4 3\n",
      "4 4\n",
      "5 -5\n",
      "5 -4\n",
      "5 -3\n",
      "5 -2\n",
      "5 -1\n",
      "5 0\n",
      "5 1\n",
      "5 2\n",
      "5 3\n",
      "5 4\n",
      "5 5\n",
      "6 -6\n",
      "6 -5\n",
      "6 -4\n",
      "6 -3\n",
      "6 -2\n",
      "6 -1\n",
      "6 0\n",
      "6 1\n",
      "6 2\n",
      "6 3\n",
      "6 4\n",
      "6 5\n",
      "6 6\n"
     ]
    }
   ],
   "source": [
    "h2 = np.zeros(h.time.shape)\n",
    "ell_max = mwf.ell_max\n",
    "for ell in range(2, ell_max+1):\n",
    "        for emm in range(-ell, ell+1):\n",
    "            print(ell, emm)\n",
    "            Y = Yslm_pres(spin_weight=-2, ell=ell, emm=emm, theta=theta, phi=phi)\n",
    "            \n",
    "            Clm_re  = mwf.get_mode(ell, emm)[:, 1]\n",
    "            Clm_im  = mwf.get_mode(ell, emm)[:, 2]\n",
    "            \n",
    "            Clm = Clm_re + 1j*Clm_im\n",
    "            \n",
    "            #print(type(Clm))\n",
    "            #h2 = h2 + Clm*np.complex256(np.conjugate(Y))\n",
    "            h2 = h2 + Clm*np.conjugate(np.complex256(Y))"
   ]
  },
  {
   "cell_type": "code",
   "execution_count": 118,
   "id": "ca04a060",
   "metadata": {
    "scrolled": true
   },
   "outputs": [
    {
     "name": "stdout",
     "output_type": "stream",
     "text": [
      "2 -2\n",
      "2 -1\n",
      "2 0\n",
      "2 1\n",
      "2 2\n",
      "3 -3\n",
      "3 -2\n",
      "3 -1\n",
      "3 0\n",
      "3 1\n",
      "3 2\n",
      "3 3\n",
      "4 -4\n",
      "4 -3\n",
      "4 -2\n",
      "4 -1\n",
      "4 0\n",
      "4 1\n",
      "4 2\n",
      "4 3\n",
      "4 4\n",
      "5 -5\n",
      "5 -4\n",
      "5 -3\n",
      "5 -2\n",
      "5 -1\n",
      "5 0\n",
      "5 1\n",
      "5 2\n",
      "5 3\n",
      "5 4\n",
      "5 5\n",
      "6 -6\n",
      "6 -5\n",
      "6 -4\n",
      "6 -3\n",
      "6 -2\n",
      "6 -1\n",
      "6 0\n",
      "6 1\n",
      "6 2\n",
      "6 3\n",
      "6 4\n",
      "6 5\n",
      "6 6\n"
     ]
    }
   ],
   "source": [
    "h3 = np.zeros(h.time.shape)\n",
    "ell_max = mwf.ell_max\n",
    "for ell in range(2, ell_max+1):\n",
    "        for emm in range(-ell, ell+1):\n",
    "            print(ell, emm)\n",
    "            Y = Yslm(spin_weight=-2, ell=ell, emm=emm, theta=theta, phi=phi)\n",
    "            \n",
    "            Clm_re  = mwf.get_mode(ell, emm)[:, 1]\n",
    "            Clm_im  = mwf.get_mode(ell, emm)[:, 2]\n",
    "            \n",
    "            Clm = Clm_re + 1j*Clm_im\n",
    "            \n",
    "            #print(type(Clm))\n",
    "            #h2 = h2 + Clm*np.complex256(np.conjugate(Y))\n",
    "            h3 = h3 + Clm*np.conjugate(np.complex256(Y))"
   ]
  },
  {
   "cell_type": "code",
   "execution_count": 56,
   "id": "0af20cb6",
   "metadata": {},
   "outputs": [
    {
     "data": {
      "text/plain": [
       "18"
      ]
     },
     "execution_count": 56,
     "metadata": {},
     "output_type": "execute_result"
    }
   ],
   "source": [
    "np.finfo(np.complex256).precision"
   ]
  },
  {
   "cell_type": "code",
   "execution_count": 127,
   "id": "9e620261",
   "metadata": {},
   "outputs": [
    {
     "data": {
      "text/plain": [
       "array([ 0.9992118 +0.27797128j,  1.0112098 +0.2313282j ,\n",
       "        1.02102779+0.18414146j, ..., -0.84388282-0.49684215j,\n",
       "       -0.84312026-0.48344891j, -0.68609932-0.75265171j])"
      ]
     },
     "execution_count": 127,
     "metadata": {},
     "output_type": "execute_result"
    }
   ],
   "source": [
    "np.array(h)/h2"
   ]
  },
  {
   "cell_type": "code",
   "execution_count": 128,
   "id": "1a54c947",
   "metadata": {},
   "outputs": [
    {
     "name": "stderr",
     "output_type": "stream",
     "text": [
      "/home/vaishakprasad/soft/anaconda3/envs/nrcat/lib/python3.10/site-packages/matplotlib/cbook/__init__.py:1335: ComplexWarning: Casting complex values to real discards the imaginary part\n",
      "  return np.asarray(x, float)\n"
     ]
    },
    {
     "data": {
      "image/png": "[encoded data removed]",
      "text/plain": [
       "<Figure size 432x288 with 1 Axes>"
      ]
     },
     "metadata": {
      "needs_background": "light"
     },
     "output_type": "display_data"
    }
   ],
   "source": [
    "plt.plot(h/h2)\n",
    "plt.show()"
   ]
  },
  {
   "cell_type": "code",
   "execution_count": 126,
   "id": "3d85866c",
   "metadata": {},
   "outputs": [
    {
     "data": {
      "image/png": "[encoded data removed]",
      "text/plain": [
       "<Figure size 432x288 with 1 Axes>"
      ]
     },
     "metadata": {
      "needs_background": "light"
     },
     "output_type": "display_data"
    }
   ],
   "source": [
    "plt.plot(h.time, h.real, label='nrcat')\n",
    "plt.plot(h.time, h2.real, label='wftools pres')\n",
    "plt.scatter(h.time, h3.real, label='wftools fast', s=1, c='green')\n",
    "plt.legend()\n",
    "plt.show()"
   ]
  },
  {
   "cell_type": "code",
   "execution_count": 119,
   "id": "4613eb87",
   "metadata": {},
   "outputs": [
    {
     "data": {
      "text/plain": [
       "TimeSeries([1.97133733e-02+4.77750052e-02j, 2.11848484e-02+4.81343390e-02j,\n",
       "       2.26853227e-02+4.84541623e-02j, ...,\n",
       "       1.60885980e-06-5.45774586e-08j, 9.62835271e-07-4.44742151e-08j,\n",
       "       3.11958091e-07-1.38867975e-09j], time=array([-121.10666667, -120.9       , -120.69333333, ...,  137.22666667,\n",
       "        137.43333333,  137.64      ]), time_axis=0)"
      ]
     },
     "execution_count": 119,
     "metadata": {},
     "output_type": "execute_result"
    }
   ],
   "source": [
    "h"
   ]
  },
  {
   "cell_type": "code",
   "execution_count": 120,
   "id": "21f4b79d",
   "metadata": {},
   "outputs": [
    {
     "data": {
      "text/plain": [
       "array([ 3.06573876e-02+3.92840956e-02j,  3.02559494e-02+4.06792782e-02j,\n",
       "        2.98073127e-02+4.20805394e-02j, ...,\n",
       "       -1.38747254e-06+8.81558772e-07j, -8.36656940e-07+5.32492369e-07j,\n",
       "       -2.05346681e-07+2.27289558e-07j])"
      ]
     },
     "execution_count": 120,
     "metadata": {},
     "output_type": "execute_result"
    }
   ],
   "source": [
    "h2"
   ]
  },
  {
   "cell_type": "code",
   "execution_count": 121,
   "id": "080514e6",
   "metadata": {},
   "outputs": [
    {
     "data": {
      "text/plain": [
       "array([ 3.06573876e-02+3.92840956e-02j,  3.02559494e-02+4.06792782e-02j,\n",
       "        2.98073127e-02+4.20805394e-02j, ...,\n",
       "       -1.38747254e-06+8.81558772e-07j, -8.36656940e-07+5.32492369e-07j,\n",
       "       -2.05346681e-07+2.27289558e-07j])"
      ]
     },
     "execution_count": 121,
     "metadata": {},
     "output_type": "execute_result"
    }
   ],
   "source": [
    "h3"
   ]
  },
  {
   "cell_type": "code",
   "execution_count": 51,
   "id": "51ce310a",
   "metadata": {},
   "outputs": [
    {
     "name": "stderr",
     "output_type": "stream",
     "text": [
      "/home/vaishakprasad/soft/anaconda3/envs/nrcat/lib/python3.10/site-packages/matplotlib/cbook/__init__.py:1335: ComplexWarning: Casting complex values to real discards the imaginary part\n",
      "  return np.asarray(x, float)\n"
     ]
    },
    {
     "data": {
      "image/png": "[encoded data removed]",
      "text/plain": [
       "<Figure size 432x288 with 1 Axes>"
      ]
     },
     "metadata": {
      "needs_background": "light"
     },
     "output_type": "display_data"
    }
   ],
   "source": [
    "plt.plot(np.array(h2)/np.array(h))\n",
    "plt.show()"
   ]
  },
  {
   "cell_type": "code",
   "execution_count": 47,
   "id": "db53d33c",
   "metadata": {},
   "outputs": [
    {
     "data": {
      "text/plain": [
       "(0.37088417732957346-0.03352715670694703j)"
      ]
     },
     "execution_count": 47,
     "metadata": {},
     "output_type": "execute_result"
    }
   ],
   "source": [
    "np.amax(np.array(h) - h2)"
   ]
  },
  {
   "cell_type": "code",
   "execution_count": null,
   "id": "2645c460",
   "metadata": {},
   "outputs": [],
   "source": []
  },
  {
   "cell_type": "code",
   "execution_count": 21,
   "id": "15fe83f8",
   "metadata": {},
   "outputs": [],
   "source": [
    "import sympy as sp"
   ]
  },
  {
   "cell_type": "code",
   "execution_count": null,
   "id": "314aff82",
   "metadata": {},
   "outputs": [],
   "source": [
    "sp.conjugate"
   ]
  },
  {
   "cell_type": "code",
   "execution_count": 19,
   "id": "fc4bf4b0",
   "metadata": {},
   "outputs": [
    {
     "data": {
      "text/plain": [
       "array([ 2.06205846e-02+2.39060626e-03j,  2.06279019e-02+2.46218734e-03j,\n",
       "        2.06135058e-02+2.53386725e-03j, ...,\n",
       "       -5.91312471e-09-4.96011473e-08j, -4.15441145e-09-2.87945935e-08j,\n",
       "       -4.56716329e-08-9.39024996e-10j])"
      ]
     },
     "execution_count": 19,
     "metadata": {},
     "output_type": "execute_result"
    }
   ],
   "source": [
    "h2"
   ]
  },
  {
   "cell_type": "code",
   "execution_count": 20,
   "id": "109a7da5",
   "metadata": {},
   "outputs": [
    {
     "data": {
      "text/plain": [
       "TimeSeries([1.71734006e-02+9.08157279e-04j, 1.79199895e-02+9.79783694e-04j,\n",
       "       1.86725194e-02+1.05285826e-03j, ...,\n",
       "       8.93488239e-07+2.28235609e-08j, 5.40351422e-07+1.27519655e-08j,\n",
       "       1.48461063e-07-4.30642158e-09j], time=array([-121.10666667, -120.9       , -120.69333333, ...,  137.22666667,\n",
       "        137.43333333,  137.64      ]), time_axis=0)"
      ]
     },
     "execution_count": 20,
     "metadata": {},
     "output_type": "execute_result"
    }
   ],
   "source": [
    "h"
   ]
  },
  {
   "cell_type": "code",
   "execution_count": 17,
   "id": "eaef3f78",
   "metadata": {},
   "outputs": [],
   "source": [
    "dreal = h.real/h2.real -1\n",
    "dimag = h.imag/h2.imag - 1"
   ]
  },
  {
   "cell_type": "code",
   "execution_count": 18,
   "id": "c6978241",
   "metadata": {},
   "outputs": [
    {
     "data": {
      "image/png": "[encoded data removed]",
      "text/plain": [
       "<Figure size 432x288 with 1 Axes>"
      ]
     },
     "metadata": {
      "needs_background": "light"
     },
     "output_type": "display_data"
    }
   ],
   "source": [
    "fig, ax = plt.subplots()\n",
    "ax.set_yscale('log')\n",
    "\n",
    "ax.plot(h.time, np.absolute(dreal))\n",
    "plt.show()"
   ]
  },
  {
   "cell_type": "code",
   "execution_count": null,
   "id": "32911125",
   "metadata": {},
   "outputs": [],
   "source": []
  },
  {
   "cell_type": "code",
   "execution_count": 61,
   "id": "09ba3302",
   "metadata": {},
   "outputs": [
    {
     "data": {
      "image/png": "[encoded data removed]",
      "text/plain": [
       "<Figure size 432x288 with 1 Axes>"
      ]
     },
     "metadata": {
      "needs_background": "light"
     },
     "output_type": "display_data"
    }
   ],
   "source": [
    "plt.plot(h.time, h2_re, label='Precise')\n",
    "plt.scatter(h.time, h.real, label='nrcat', s=1, c= )\n",
    "plt.legend()\n",
    "plt.show()"
   ]
  },
  {
   "cell_type": "markdown",
   "id": "1f4fe564",
   "metadata": {},
   "source": [
    "# Method II :\n",
    "\n",
    "Using [the script](https://github.com/cevans216/gt-waveform-catalog/tree/master/scripts)"
   ]
  },
  {
   "cell_type": "code",
   "execution_count": 18,
   "id": "4dcc9b70",
   "metadata": {},
   "outputs": [],
   "source": [
    "import lal"
   ]
  },
  {
   "cell_type": "code",
   "execution_count": 19,
   "id": "cad1ad8d",
   "metadata": {},
   "outputs": [
    {
     "data": {
      "text/plain": [
       "'/home/vaishakprasad/soft/anaconda3/envs/nrcat/lib/python3.10/site-packages/lal/__init__.py'"
      ]
     },
     "execution_count": 19,
     "metadata": {},
     "output_type": "execute_result"
    }
   ],
   "source": [
    "# Lal path\n",
    "lal.__file__"
   ]
  },
  {
   "cell_type": "markdown",
   "id": "7ddbea65",
   "metadata": {},
   "source": [
    "## Original script, no changes"
   ]
  },
  {
   "cell_type": "markdown",
   "id": "f43cb742",
   "metadata": {},
   "source": [
    "import h5py\n",
    "import lal\n",
    "import lalsimulation as lalsim\n",
    "from pycbc import pnutils\n",
    "from matplotlib import pyplot\n",
    "import numpy\n",
    "\n",
    "file = f'{fdir}/data/GT0001.h5'\n",
    "\n",
    "f = h5py.File(file, 'r')\n",
    "\n",
    "params = {}\n",
    "\n",
    "# Extrinsic parameters:\n",
    "\n",
    "params['f_lower'] = 20.0\n",
    "params['mtotal'] = 150.0\n",
    "params['inclination'] = 0.0\n",
    "params['distance'] = 100.0\n",
    "\n",
    "# Metadata parameters:\n",
    "\n",
    "params['eta'] = f.attrs['eta']\n",
    "\n",
    "params['mass1'] = pnutils.mtotal_eta_to_mass1_mass2(params['mtotal'], params['eta'])[0]\n",
    "params['mass2'] = pnutils.mtotal_eta_to_mass1_mass2(params['mtotal'], params['eta'])[1]\n",
    "\n",
    "params['spin1x'] = f.attrs['spin1x']\n",
    "params['spin1y'] = f.attrs['spin1y']\n",
    "params['spin1z'] = f.attrs['spin1z']\n",
    "params['spin2x'] = f.attrs['spin2x']\n",
    "params['spin2y'] = f.attrs['spin2y']\n",
    "params['spin2z'] = f.attrs['spin2z']\n",
    "\n",
    "\n",
    "params['coa_phase'] = f.attrs['coa_phase']\n",
    "\n",
    "    \n",
    "f.close()\n",
    "\n",
    "#\n",
    "dt = 1.0/4096.0\n",
    "\n",
    "from pycbc.waveform import get_td_waveform\n",
    "\n",
    "hp, hc = get_td_waveform(approximant='NR_hdf5',\n",
    "                         numrel_data=file,\n",
    "                         mass1=params['mass1'],\n",
    "                         mass2=params['mass2'],\n",
    "\t\t\t spin1x=params['spin1x'],\n",
    "\t\t\t spin1y=params['spin1y'],\n",
    "                         spin1z=params['spin1z'],\n",
    "\t\t\t spin2x=params['spin2x'],\n",
    "                         spin2y=params['spin2y'],\n",
    "\t\t\t spin2z=params['spin2z'],\n",
    "                         delta_t=dt,\n",
    "                         f_lower=30.0,\n",
    "                         inclination=params['inclination'],\n",
    "                         coa_phase=params['coa_phase'],\n",
    "                         distance=params['distance'])\n",
    "\n",
    "#\n",
    "t = numpy.array(range( len(hp) ) )*dt\n",
    "pyplot.figure()\n",
    "pyplot.plot( t, hp, color=[0,0.7071,1] )\n",
    "pyplot.show()\n"
   ]
  },
  {
   "cell_type": "markdown",
   "id": "8b1a9489",
   "metadata": {},
   "source": [
    "Here, `coa_phase` is missing from h5 file's attributes. Correcting for this and loading the same simulation as in the catalogue load, "
   ]
  },
  {
   "cell_type": "code",
   "execution_count": 68,
   "id": "39442b27",
   "metadata": {},
   "outputs": [
    {
     "name": "stderr",
     "output_type": "stream",
     "text": [
      "test_waveforms (__main__.TestMaya)\n",
      "Test the MAYA loading of waveforms against ... ok\n",
      "\n",
      "----------------------------------------------------------------------\n",
      "Ran 1 test in 0.066s\n",
      "\n",
      "OK\n"
     ]
    }
   ],
   "source": [
    "import unittest\n",
    "\n",
    "\n",
    "class TestEvaluate(unittest.TestCase):\n",
    "    ''' Test loading of MAYA waveforms '''\n",
    "    \n",
    "    def test_waveforms(self):\n",
    "        ''' Test the MAYA loading of waveforms against \n",
    "        that loading using lalsimulation. Tested are RMS errors, maximum deviation and mismatches'''\n",
    "        \n",
    "      \n",
    "        \n",
    "        # L2 errors\n",
    "        Res_p, Amin_p, Amax_p = RMSerrs(np.array(wf1_p), np.array(wf2_p))\n",
    "        Res_x, Amin_x, Amax_x = RMSerrs(np.array(wf1_x), np.array(wf2_x))\n",
    "        \n",
    "        wf1 = np.array(wf1_p) + 1j*np.array(wf1_x)\n",
    "        wf2 = np.array(wf2_p) + 1j*np.array(wf2_x)\n",
    "        #Amin_p/=A1max\n",
    "        #Amin\n",
    "        # Match\n",
    "        match_p, shift_p = match(wf1_p, wf2_p)\n",
    "        match_x, shift_x = match(wf1_x, wf2_x)\n",
    "\n",
    "        mismatch_p = 100*(1-match_p)\n",
    "        mismatch_x = 100*(1-match_x)\n",
    "        \n",
    "        prec = 1\n",
    "        # RMS error should be less than 0.1 x Amax(wf1)\n",
    "        self.assertAlmostEqual(Res_p, 0, prec, f\"The RMS error between the + components of the waveforms must be almost 0\")\n",
    "        self.assertAlmostEqual(Res_x, 0, prec, f\"The RMS error between the x components of the waveforms must be almost 0\")\n",
    "        \n",
    "        prec = 0\n",
    "        # Max relative point-wise deviation w.r.t Amax(wf1) should be less than 100%\n",
    "        self.assertAlmostEqual(np.absolute(Amin_p), 0, prec, f\"The maximum lower deviation between the + components of the waveforms must be atmost 100%\")\n",
    "        self.assertAlmostEqual(np.absolute(Amin_x), 0, prec, f\"The maximum lower deviation between the x components of the waveforms must be atmost 100%\")\n",
    "        \n",
    "        self.assertAlmostEqual(np.absolute(Amax_p), 0, prec, f\"The maximum upper deviation between the + components of the waveforms must be atmost 100%0\")\n",
    "        self.assertAlmostEqual(np.absolute(Amax_x), 0, prec, f\"The maximum upper deviation between the x components of the waveforms must be atmost 100%0\")\n",
    "        \n",
    "        prec = 0\n",
    "        # Mismatch should be less than 1%\n",
    "        self.assertAlmostEqual(mismatch_p, 0, prec, f\"The mismatch between the + components of the waveforms must be almost 0\")\n",
    "        self.assertAlmostEqual(mismatch_p, 0, prec, f\"The mismatch between the x components of the waveforms must be almost 0\")\n",
    "\n",
    "        prec = 1\n",
    "        # Full array\n",
    "        np.testing.assert_almost_equal(wf1, wf2, prec, f'Array elements must be equal to at least 1 decimal')\n",
    "        \n",
    "if __name__ == '__main__':\n",
    "    unittest.main(argv=['first-arg-is-ignored'], exit=False, verbosity=2)"
   ]
  },
  {
   "cell_type": "code",
   "execution_count": null,
   "id": "bd3a8863",
   "metadata": {},
   "outputs": [],
   "source": []
  }
 ],
 "metadata": {
  "kernelspec": {
   "display_name": "Python 3",
   "language": "python",
   "name": "python3"
  },
  "language_info": {
   "codemirror_mode": {
    "name": "ipython",
    "version": 3
   },
   "file_extension": ".py",
   "mimetype": "text/x-python",
   "name": "python",
   "nbconvert_exporter": "python",
   "pygments_lexer": "ipython3",
   "version": "3.10.11"
  }
 },
 "nbformat": 4,
 "nbformat_minor": 5
}
